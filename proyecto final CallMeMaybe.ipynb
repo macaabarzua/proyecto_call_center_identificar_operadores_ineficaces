{
 "cells": [
  {
   "cell_type": "markdown",
   "metadata": {},
   "source": [
    "Hola **Macarena**!\n",
    "\n",
    "Soy **Patricio Requena** 👋. Es un placer ser el revisor de tu proyecto el día de hoy!\n",
    "\n",
    "Revisaré tu proyecto detenidamente con el objetivo de ayudarte a mejorar y perfeccionar tus habilidades. Durante mi revisión, identificaré áreas donde puedas hacer mejoras en tu código, señalando específicamente qué y cómo podrías ajustar para optimizar el rendimiento y la claridad de tu proyecto. Además, es importante para mí destacar los aspectos que has manejado excepcionalmente bien. Reconocer tus fortalezas te ayudará a entender qué técnicas y métodos están funcionando a tu favor y cómo puedes aplicarlos en futuras tareas. \n",
    "\n",
    "_**Recuerda que al final de este notebook encontrarás un comentario general de mi parte**_, empecemos!\n",
    "\n",
    "Encontrarás mis comentarios dentro de cajas verdes, amarillas o rojas, ⚠️ **por favor, no muevas, modifiques o borres mis comentarios** ⚠️:\n",
    "\n",
    "\n",
    "<div class=\"alert alert-block alert-success\">\n",
    "<b>Comentario del revisor</b> <a class=“tocSkip”></a>\n",
    "Si todo está perfecto.\n",
    "</div>\n",
    "\n",
    "<div class=\"alert alert-block alert-warning\">\n",
    "<b>Comentario del revisor</b> <a class=“tocSkip”></a>\n",
    "Si tu código está bien pero se puede mejorar o hay algún detalle que le hace falta.\n",
    "</div>\n",
    "\n",
    "<div class=\"alert alert-block alert-danger\">\n",
    "<b>Comentario del revisor</b> <a class=“tocSkip”></a>\n",
    "Si de pronto hace falta algo o existe algún problema con tu código o conclusiones.\n",
    "</div>\n",
    "\n",
    "Puedes responderme de esta forma:\n",
    "<div class=\"alert alert-block alert-info\">\n",
    "<b>Respuesta del estudiante</b> <a class=“tocSkip”></a>\n",
    "</div>"
   ]
  },
  {
   "cell_type": "markdown",
   "metadata": {},
   "source": [
    "# Proyecto Final: Telecomunicaciones"
   ]
  },
  {
   "cell_type": "markdown",
   "metadata": {},
   "source": [
    "## Introducción"
   ]
  },
  {
   "cell_type": "markdown",
   "metadata": {},
   "source": [
    "Este proyecto se realiza para le empresa de telefonía virtual CallMeMaybe; la cual pretende desarrollar una nueva función que brindará a l@s supervisores información sobre los operadores que resulten ser menos eficaces. Para considerar que un operador es ineficaz tiene que tener una gran cantidad de llamadas entrantes perdidas (internas y externas) y un tiempo de espera prolongado para las llamadas entrantes. Además; si un operador debe realizar llamadas salientes, un número reducido de estas también será un signo de ineficacia.\n",
    "Los clientes de este servicio son organizaciones que necesitan distribuir gran cantidad de llamadas entrantes entre varios operadores, o realizar llamadas salientes a través de los mismos.\n",
    "Los operadores también pueden realizar llamadas internas para comunicarse entre ellos; a través de la red de CallMeMaybe."
   ]
  },
  {
   "cell_type": "markdown",
   "metadata": {},
   "source": [
    "## Objetivo"
   ]
  },
  {
   "cell_type": "markdown",
   "metadata": {},
   "source": [
    "Hallar información que permita determinar cuáles son los operadores ineficaces, bajo los siguientes criterios:  \n",
    "- Que un operador tenga una gran cantidad de llamadas entrantes perdidas (internas o externas).  \n",
    "- Que el tiempo de espera para las llamadas entrantes sea prolongado.\n",
    "- Si el operador debe realizar llamadas salientes; será ineficaz tener un número reducido de estas."
   ]
  },
  {
   "cell_type": "markdown",
   "metadata": {},
   "source": [
    "## Descripción de los datos"
   ]
  },
  {
   "cell_type": "markdown",
   "metadata": {},
   "source": [
    "Contamos con 2 datasets que contienen información sobre el uso del servicio de telefonía virtual CallMeMaybe:  \n",
    "- El dataset comprimido *telecom_dataset_us.csv* contiene las siguientes columnas:\n",
    "    - `user_id`: ID de la cuenta de cliente\n",
    "    - `date`: fecha en la que se recuperaron las estadísticas\n",
    "    - `direction`: \"dirección\" de llamada (`out` para saliente, `in` para entrante)\n",
    "    - `internal`: si la llamada fue interna (entre los operadores de un cliente o clienta)\n",
    "    - `operator_id`: identificador del operador\n",
    "    - `is_missed_call`: si fue una llamada perdida\n",
    "    - `calls_count`: número de llamadas\n",
    "    - `call_duration`: duración de la llamada (sin incluir el tiempo de espera)\n",
    "    - `total_call_duration`: duración de la llamada (incluido el tiempo de espera)  \n",
    "    \n",
    "- El dataset *telecom_clients_us.csv* tiene las siguientes columnas:  \n",
    "    - `user_id`: ID de usuario/a\n",
    "    - `tariff_plan`: tarifa actual de la clientela\n",
    "    - `date_start`: fecha de registro de la clientela"
   ]
  },
  {
   "cell_type": "markdown",
   "metadata": {},
   "source": [
    "<div class=\"alert alert-block alert-success\">\n",
    "<b>Comentario del revisor (1ra Iteracion)</b> <a class=“tocSkip”></a>\n",
    "\n",
    "Muy bien, incluir esta introducción deja claro el que y cómo se realizará el proyecto\n",
    "</div>"
   ]
  },
  {
   "cell_type": "markdown",
   "metadata": {},
   "source": [
    "## Presentación y Dashboard"
   ]
  },
  {
   "cell_type": "markdown",
   "metadata": {},
   "source": [
    "Presentación: https://drive.google.com/file/d/1V8sWEdcQVtz3ad9ibT6Ob_KeyPNDUikc/view?usp=sharing\n",
    "\n",
    "Dashboard: https://public.tableau.com/views/ProyectofinalCallMeMaybe/DashboardOperadoresineficaces?:language=es-ES&publish=yes&:sid=&:redirect=auth&:display_count=n&:origin=viz_share_link"
   ]
  },
  {
   "cell_type": "markdown",
   "metadata": {},
   "source": [
    "<div class=\"alert alert-block alert-success\">\n",
    "<b>Comentario del revisor (1ra Iteracion)</b> <a class=“tocSkip”></a>\n",
    "\n",
    "Es una presentación super buena y un buen trabajo con el dashboard que deja muy claro los hallazgos encontrados en el proyecto!\n",
    "</div>"
   ]
  },
  {
   "cell_type": "markdown",
   "metadata": {},
   "source": [
    "## Importar librerías"
   ]
  },
  {
   "cell_type": "code",
   "execution_count": 1,
   "metadata": {},
   "outputs": [],
   "source": [
    "import pandas as pd\n",
    "import numpy as np\n",
    "import matplotlib.pyplot as plt\n",
    "import seaborn as sns\n",
    "import scipy.stats as st"
   ]
  },
  {
   "cell_type": "markdown",
   "metadata": {},
   "source": [
    "## Preparar los datos"
   ]
  },
  {
   "cell_type": "code",
   "execution_count": 2,
   "metadata": {},
   "outputs": [],
   "source": [
    "# Cargar data de llamadas\n",
    "calls = pd.read_csv('/datasets/telecom_dataset_us.csv')"
   ]
  },
  {
   "cell_type": "code",
   "execution_count": 3,
   "metadata": {},
   "outputs": [],
   "source": [
    "# Cargar data de clientes\n",
    "clients = pd.read_csv('/datasets/telecom_clients_us.csv')"
   ]
  },
  {
   "cell_type": "code",
   "execution_count": 4,
   "metadata": {},
   "outputs": [
    {
     "data": {
      "text/html": [
       "<div>\n",
       "<style scoped>\n",
       "    .dataframe tbody tr th:only-of-type {\n",
       "        vertical-align: middle;\n",
       "    }\n",
       "\n",
       "    .dataframe tbody tr th {\n",
       "        vertical-align: top;\n",
       "    }\n",
       "\n",
       "    .dataframe thead th {\n",
       "        text-align: right;\n",
       "    }\n",
       "</style>\n",
       "<table border=\"1\" class=\"dataframe\">\n",
       "  <thead>\n",
       "    <tr style=\"text-align: right;\">\n",
       "      <th></th>\n",
       "      <th>user_id</th>\n",
       "      <th>date</th>\n",
       "      <th>direction</th>\n",
       "      <th>internal</th>\n",
       "      <th>operator_id</th>\n",
       "      <th>is_missed_call</th>\n",
       "      <th>calls_count</th>\n",
       "      <th>call_duration</th>\n",
       "      <th>total_call_duration</th>\n",
       "    </tr>\n",
       "  </thead>\n",
       "  <tbody>\n",
       "    <tr>\n",
       "      <th>0</th>\n",
       "      <td>166377</td>\n",
       "      <td>2019-08-04 00:00:00+03:00</td>\n",
       "      <td>in</td>\n",
       "      <td>False</td>\n",
       "      <td>NaN</td>\n",
       "      <td>True</td>\n",
       "      <td>2</td>\n",
       "      <td>0</td>\n",
       "      <td>4</td>\n",
       "    </tr>\n",
       "    <tr>\n",
       "      <th>1</th>\n",
       "      <td>166377</td>\n",
       "      <td>2019-08-05 00:00:00+03:00</td>\n",
       "      <td>out</td>\n",
       "      <td>True</td>\n",
       "      <td>880022.0</td>\n",
       "      <td>True</td>\n",
       "      <td>3</td>\n",
       "      <td>0</td>\n",
       "      <td>5</td>\n",
       "    </tr>\n",
       "    <tr>\n",
       "      <th>2</th>\n",
       "      <td>166377</td>\n",
       "      <td>2019-08-05 00:00:00+03:00</td>\n",
       "      <td>out</td>\n",
       "      <td>True</td>\n",
       "      <td>880020.0</td>\n",
       "      <td>True</td>\n",
       "      <td>1</td>\n",
       "      <td>0</td>\n",
       "      <td>1</td>\n",
       "    </tr>\n",
       "    <tr>\n",
       "      <th>3</th>\n",
       "      <td>166377</td>\n",
       "      <td>2019-08-05 00:00:00+03:00</td>\n",
       "      <td>out</td>\n",
       "      <td>True</td>\n",
       "      <td>880020.0</td>\n",
       "      <td>False</td>\n",
       "      <td>1</td>\n",
       "      <td>10</td>\n",
       "      <td>18</td>\n",
       "    </tr>\n",
       "    <tr>\n",
       "      <th>4</th>\n",
       "      <td>166377</td>\n",
       "      <td>2019-08-05 00:00:00+03:00</td>\n",
       "      <td>out</td>\n",
       "      <td>False</td>\n",
       "      <td>880022.0</td>\n",
       "      <td>True</td>\n",
       "      <td>3</td>\n",
       "      <td>0</td>\n",
       "      <td>25</td>\n",
       "    </tr>\n",
       "  </tbody>\n",
       "</table>\n",
       "</div>"
      ],
      "text/plain": [
       "   user_id                       date direction internal  operator_id  \\\n",
       "0   166377  2019-08-04 00:00:00+03:00        in    False          NaN   \n",
       "1   166377  2019-08-05 00:00:00+03:00       out     True     880022.0   \n",
       "2   166377  2019-08-05 00:00:00+03:00       out     True     880020.0   \n",
       "3   166377  2019-08-05 00:00:00+03:00       out     True     880020.0   \n",
       "4   166377  2019-08-05 00:00:00+03:00       out    False     880022.0   \n",
       "\n",
       "   is_missed_call  calls_count  call_duration  total_call_duration  \n",
       "0            True            2              0                    4  \n",
       "1            True            3              0                    5  \n",
       "2            True            1              0                    1  \n",
       "3           False            1             10                   18  \n",
       "4            True            3              0                   25  "
      ]
     },
     "execution_count": 4,
     "metadata": {},
     "output_type": "execute_result"
    }
   ],
   "source": [
    "calls.head()"
   ]
  },
  {
   "cell_type": "code",
   "execution_count": 5,
   "metadata": {},
   "outputs": [
    {
     "name": "stdout",
     "output_type": "stream",
     "text": [
      "<class 'pandas.core.frame.DataFrame'>\n",
      "RangeIndex: 53902 entries, 0 to 53901\n",
      "Data columns (total 9 columns):\n",
      " #   Column               Non-Null Count  Dtype  \n",
      "---  ------               --------------  -----  \n",
      " 0   user_id              53902 non-null  int64  \n",
      " 1   date                 53902 non-null  object \n",
      " 2   direction            53902 non-null  object \n",
      " 3   internal             53785 non-null  object \n",
      " 4   operator_id          45730 non-null  float64\n",
      " 5   is_missed_call       53902 non-null  bool   \n",
      " 6   calls_count          53902 non-null  int64  \n",
      " 7   call_duration        53902 non-null  int64  \n",
      " 8   total_call_duration  53902 non-null  int64  \n",
      "dtypes: bool(1), float64(1), int64(4), object(3)\n",
      "memory usage: 3.3+ MB\n"
     ]
    }
   ],
   "source": [
    "# Información general del dataset 'calls'\n",
    "calls.info()"
   ]
  },
  {
   "cell_type": "markdown",
   "metadata": {},
   "source": [
    "Tenemos 117 datos nulos en la columna 'internal'.\n",
    "Además, hay 8172 datos nulos en la columna 'operator_id' de modo que habría que averiguar cómo es que estos operadores no tienen su identificador."
   ]
  },
  {
   "cell_type": "code",
   "execution_count": 6,
   "metadata": {},
   "outputs": [
    {
     "data": {
      "text/html": [
       "<div>\n",
       "<style scoped>\n",
       "    .dataframe tbody tr th:only-of-type {\n",
       "        vertical-align: middle;\n",
       "    }\n",
       "\n",
       "    .dataframe tbody tr th {\n",
       "        vertical-align: top;\n",
       "    }\n",
       "\n",
       "    .dataframe thead th {\n",
       "        text-align: right;\n",
       "    }\n",
       "</style>\n",
       "<table border=\"1\" class=\"dataframe\">\n",
       "  <thead>\n",
       "    <tr style=\"text-align: right;\">\n",
       "      <th></th>\n",
       "      <th>user_id</th>\n",
       "      <th>tariff_plan</th>\n",
       "      <th>date_start</th>\n",
       "    </tr>\n",
       "  </thead>\n",
       "  <tbody>\n",
       "    <tr>\n",
       "      <th>0</th>\n",
       "      <td>166713</td>\n",
       "      <td>A</td>\n",
       "      <td>2019-08-15</td>\n",
       "    </tr>\n",
       "    <tr>\n",
       "      <th>1</th>\n",
       "      <td>166901</td>\n",
       "      <td>A</td>\n",
       "      <td>2019-08-23</td>\n",
       "    </tr>\n",
       "    <tr>\n",
       "      <th>2</th>\n",
       "      <td>168527</td>\n",
       "      <td>A</td>\n",
       "      <td>2019-10-29</td>\n",
       "    </tr>\n",
       "    <tr>\n",
       "      <th>3</th>\n",
       "      <td>167097</td>\n",
       "      <td>A</td>\n",
       "      <td>2019-09-01</td>\n",
       "    </tr>\n",
       "    <tr>\n",
       "      <th>4</th>\n",
       "      <td>168193</td>\n",
       "      <td>A</td>\n",
       "      <td>2019-10-16</td>\n",
       "    </tr>\n",
       "  </tbody>\n",
       "</table>\n",
       "</div>"
      ],
      "text/plain": [
       "   user_id tariff_plan  date_start\n",
       "0   166713           A  2019-08-15\n",
       "1   166901           A  2019-08-23\n",
       "2   168527           A  2019-10-29\n",
       "3   167097           A  2019-09-01\n",
       "4   168193           A  2019-10-16"
      ]
     },
     "execution_count": 6,
     "metadata": {},
     "output_type": "execute_result"
    }
   ],
   "source": [
    "clients.head()"
   ]
  },
  {
   "cell_type": "code",
   "execution_count": 7,
   "metadata": {},
   "outputs": [
    {
     "name": "stdout",
     "output_type": "stream",
     "text": [
      "<class 'pandas.core.frame.DataFrame'>\n",
      "RangeIndex: 732 entries, 0 to 731\n",
      "Data columns (total 3 columns):\n",
      " #   Column       Non-Null Count  Dtype \n",
      "---  ------       --------------  ----- \n",
      " 0   user_id      732 non-null    int64 \n",
      " 1   tariff_plan  732 non-null    object\n",
      " 2   date_start   732 non-null    object\n",
      "dtypes: int64(1), object(2)\n",
      "memory usage: 17.3+ KB\n"
     ]
    }
   ],
   "source": [
    "# Información general del dataset 'clients'\n",
    "clients.info()"
   ]
  },
  {
   "cell_type": "markdown",
   "metadata": {},
   "source": [
    "No hay valores nulos"
   ]
  },
  {
   "cell_type": "code",
   "execution_count": 8,
   "metadata": {},
   "outputs": [
    {
     "data": {
      "text/plain": [
       "'Hay 4900 duplicados explícitos en el dataset calls'"
      ]
     },
     "execution_count": 8,
     "metadata": {},
     "output_type": "execute_result"
    }
   ],
   "source": [
    "# Bucar filas duplicadas en 'calls'\n",
    "f'Hay {calls.duplicated().sum()} duplicados explícitos en el dataset calls'"
   ]
  },
  {
   "cell_type": "code",
   "execution_count": 9,
   "metadata": {},
   "outputs": [],
   "source": [
    "# Eliminar duplicados explicitos\n",
    "calls.drop_duplicates(inplace=True)"
   ]
  },
  {
   "cell_type": "code",
   "execution_count": 10,
   "metadata": {},
   "outputs": [
    {
     "data": {
      "text/plain": [
       "'Hay 0 duplicados en la data clients'"
      ]
     },
     "execution_count": 10,
     "metadata": {},
     "output_type": "execute_result"
    }
   ],
   "source": [
    "# Bucar filas duplicadas en 'clients'\n",
    "f'Hay {clients.duplicated().sum()} duplicados en la data clients'"
   ]
  },
  {
   "cell_type": "code",
   "execution_count": 11,
   "metadata": {},
   "outputs": [],
   "source": [
    "# Transformar la columna 'date_start' en clients a formato datetime\n",
    "clients['date_start'] = clients['date_start'].astype('datetime64')"
   ]
  },
  {
   "cell_type": "code",
   "execution_count": 12,
   "metadata": {},
   "outputs": [],
   "source": [
    "# Transformar la columna 'date' en calls a formato datetime\n",
    "calls['date'] = pd.to_datetime(calls['date'])"
   ]
  },
  {
   "cell_type": "code",
   "execution_count": 13,
   "metadata": {},
   "outputs": [],
   "source": [
    "# Extraer sólo la fecha en \"calls\"\n",
    "calls['day'] = calls['date'].dt.date.astype('datetime64')"
   ]
  },
  {
   "cell_type": "code",
   "execution_count": 14,
   "metadata": {},
   "outputs": [],
   "source": [
    "# Crear una columna para el mes\n",
    "calls['month'] = calls['day'].dt.month"
   ]
  },
  {
   "cell_type": "code",
   "execution_count": 15,
   "metadata": {},
   "outputs": [],
   "source": [
    "# Reemplazar valores nulos en 'operator_id'\n",
    "calls['operator_id'].fillna(000000, inplace=True)"
   ]
  },
  {
   "cell_type": "markdown",
   "metadata": {},
   "source": [
    "Los valores nulos son un id por lo que no podemos eliminarlos sin más; para tenerlos presentes en el análisis posterior se ha tomado 0 como un valor fácil de identificar en esta columna."
   ]
  },
  {
   "cell_type": "code",
   "execution_count": 16,
   "metadata": {},
   "outputs": [],
   "source": [
    "# Cambiar el tipo de dato de la columna 'operator_id'\n",
    "calls['operator_id'] = calls['operator_id'].astype('int64')"
   ]
  },
  {
   "cell_type": "code",
   "execution_count": 17,
   "metadata": {},
   "outputs": [],
   "source": [
    "# Calcular el tiempo de espera para las llamadas\n",
    "calls['wait_time'] = calls['total_call_duration'] - calls['call_duration']"
   ]
  },
  {
   "cell_type": "code",
   "execution_count": 18,
   "metadata": {},
   "outputs": [],
   "source": [
    "# Reemplazar valores nulos en 'internal'\n",
    "calls['internal'].fillna(-1, inplace=True)"
   ]
  },
  {
   "cell_type": "markdown",
   "metadata": {},
   "source": [
    "'internal' es una columna de tipo booleano por lo que los valores ausentes se reemplazaron con -1 para lograr identificarlos posteriormente en el análisis."
   ]
  },
  {
   "cell_type": "markdown",
   "metadata": {},
   "source": [
    "<div class=\"alert alert-block alert-success\">\n",
    "<b>Comentario del revisor (1ra Iteracion)</b> <a class=“tocSkip”></a>\n",
    "\n",
    "Muy bien realizada la exploración inicial y la limpieza de los datos, este paso es clave en cada análisis para que las métricas sean lo más acertadas posible\n",
    "</div>"
   ]
  },
  {
   "cell_type": "markdown",
   "metadata": {},
   "source": [
    "## Análisis Exploratorio de Datos"
   ]
  },
  {
   "cell_type": "code",
   "execution_count": 19,
   "metadata": {},
   "outputs": [
    {
     "data": {
      "text/plain": [
       "Timestamp('2019-08-02 00:00:00')"
      ]
     },
     "execution_count": 19,
     "metadata": {},
     "output_type": "execute_result"
    }
   ],
   "source": [
    "# Fecha de las primeras llamadas\n",
    "calls['day'].min()"
   ]
  },
  {
   "cell_type": "code",
   "execution_count": 20,
   "metadata": {},
   "outputs": [
    {
     "data": {
      "text/plain": [
       "Timestamp('2019-11-28 00:00:00')"
      ]
     },
     "execution_count": 20,
     "metadata": {},
     "output_type": "execute_result"
    }
   ],
   "source": [
    "# Fecha de las últimas llamadas\n",
    "calls['day'].max()"
   ]
  },
  {
   "cell_type": "markdown",
   "metadata": {},
   "source": [
    "Se tiene registros de llamadas del 2019; desde el 02/Agosto hasta el 28/Noviembre "
   ]
  },
  {
   "cell_type": "code",
   "execution_count": 21,
   "metadata": {},
   "outputs": [
    {
     "data": {
      "text/plain": [
       "1093"
      ]
     },
     "execution_count": 21,
     "metadata": {},
     "output_type": "execute_result"
    }
   ],
   "source": [
    "calls['operator_id'].nunique()"
   ]
  },
  {
   "cell_type": "markdown",
   "metadata": {},
   "source": [
    "En el registro existen 1092 operadores identificados, con su ID correspondiente, y se tienen registrados con \"0\" todos aquellos operadores que no contenían su ID, y que se desconoce realmente a cuántos operadores corresponde pues son 8172 valores de ID ausentes."
   ]
  },
  {
   "cell_type": "code",
   "execution_count": 22,
   "metadata": {},
   "outputs": [
    {
     "data": {
      "text/html": [
       "<div>\n",
       "<style scoped>\n",
       "    .dataframe tbody tr th:only-of-type {\n",
       "        vertical-align: middle;\n",
       "    }\n",
       "\n",
       "    .dataframe tbody tr th {\n",
       "        vertical-align: top;\n",
       "    }\n",
       "\n",
       "    .dataframe thead th {\n",
       "        text-align: right;\n",
       "    }\n",
       "</style>\n",
       "<table border=\"1\" class=\"dataframe\">\n",
       "  <thead>\n",
       "    <tr style=\"text-align: right;\">\n",
       "      <th></th>\n",
       "      <th>user_id</th>\n",
       "      <th>operator_id</th>\n",
       "      <th>calls_count</th>\n",
       "      <th>call_duration</th>\n",
       "      <th>total_call_duration</th>\n",
       "      <th>month</th>\n",
       "      <th>wait_time</th>\n",
       "    </tr>\n",
       "  </thead>\n",
       "  <tbody>\n",
       "    <tr>\n",
       "      <th>count</th>\n",
       "      <td>49002.000000</td>\n",
       "      <td>49002.000000</td>\n",
       "      <td>49002.000000</td>\n",
       "      <td>49002.000000</td>\n",
       "      <td>49002.000000</td>\n",
       "      <td>49002.000000</td>\n",
       "      <td>49002.000000</td>\n",
       "    </tr>\n",
       "    <tr>\n",
       "      <th>mean</th>\n",
       "      <td>167294.892759</td>\n",
       "      <td>777067.827068</td>\n",
       "      <td>16.462777</td>\n",
       "      <td>866.282091</td>\n",
       "      <td>1156.558202</td>\n",
       "      <td>10.192380</td>\n",
       "      <td>290.276111</td>\n",
       "    </tr>\n",
       "    <tr>\n",
       "      <th>std</th>\n",
       "      <td>598.558965</td>\n",
       "      <td>329773.738555</td>\n",
       "      <td>63.604098</td>\n",
       "      <td>3775.503352</td>\n",
       "      <td>4451.473661</td>\n",
       "      <td>0.852065</td>\n",
       "      <td>1132.155291</td>\n",
       "    </tr>\n",
       "    <tr>\n",
       "      <th>min</th>\n",
       "      <td>166377.000000</td>\n",
       "      <td>0.000000</td>\n",
       "      <td>1.000000</td>\n",
       "      <td>0.000000</td>\n",
       "      <td>0.000000</td>\n",
       "      <td>8.000000</td>\n",
       "      <td>0.000000</td>\n",
       "    </tr>\n",
       "    <tr>\n",
       "      <th>25%</th>\n",
       "      <td>166782.000000</td>\n",
       "      <td>890416.000000</td>\n",
       "      <td>1.000000</td>\n",
       "      <td>0.000000</td>\n",
       "      <td>46.000000</td>\n",
       "      <td>10.000000</td>\n",
       "      <td>17.000000</td>\n",
       "    </tr>\n",
       "    <tr>\n",
       "      <th>50%</th>\n",
       "      <td>167158.000000</td>\n",
       "      <td>906406.000000</td>\n",
       "      <td>4.000000</td>\n",
       "      <td>37.000000</td>\n",
       "      <td>208.000000</td>\n",
       "      <td>10.000000</td>\n",
       "      <td>55.000000</td>\n",
       "    </tr>\n",
       "    <tr>\n",
       "      <th>75%</th>\n",
       "      <td>167819.000000</td>\n",
       "      <td>929884.000000</td>\n",
       "      <td>12.000000</td>\n",
       "      <td>570.000000</td>\n",
       "      <td>901.000000</td>\n",
       "      <td>11.000000</td>\n",
       "      <td>200.000000</td>\n",
       "    </tr>\n",
       "    <tr>\n",
       "      <th>max</th>\n",
       "      <td>168606.000000</td>\n",
       "      <td>973286.000000</td>\n",
       "      <td>4817.000000</td>\n",
       "      <td>144395.000000</td>\n",
       "      <td>166155.000000</td>\n",
       "      <td>11.000000</td>\n",
       "      <td>46474.000000</td>\n",
       "    </tr>\n",
       "  </tbody>\n",
       "</table>\n",
       "</div>"
      ],
      "text/plain": [
       "             user_id    operator_id   calls_count  call_duration  \\\n",
       "count   49002.000000   49002.000000  49002.000000   49002.000000   \n",
       "mean   167294.892759  777067.827068     16.462777     866.282091   \n",
       "std       598.558965  329773.738555     63.604098    3775.503352   \n",
       "min    166377.000000       0.000000      1.000000       0.000000   \n",
       "25%    166782.000000  890416.000000      1.000000       0.000000   \n",
       "50%    167158.000000  906406.000000      4.000000      37.000000   \n",
       "75%    167819.000000  929884.000000     12.000000     570.000000   \n",
       "max    168606.000000  973286.000000   4817.000000  144395.000000   \n",
       "\n",
       "       total_call_duration         month     wait_time  \n",
       "count         49002.000000  49002.000000  49002.000000  \n",
       "mean           1156.558202     10.192380    290.276111  \n",
       "std            4451.473661      0.852065   1132.155291  \n",
       "min               0.000000      8.000000      0.000000  \n",
       "25%              46.000000     10.000000     17.000000  \n",
       "50%             208.000000     10.000000     55.000000  \n",
       "75%             901.000000     11.000000    200.000000  \n",
       "max          166155.000000     11.000000  46474.000000  "
      ]
     },
     "execution_count": 22,
     "metadata": {},
     "output_type": "execute_result"
    }
   ],
   "source": [
    "# Estadísticas de las llamadas\n",
    "calls.describe()"
   ]
  },
  {
   "cell_type": "markdown",
   "metadata": {},
   "source": [
    "Con las estadísticas generales del dataset es posible apreciar que tanto la duración de las llamadas, el tiempo de espera y la cantidad de llamadas que se realizan no siguen una distribución normal; fluctúan entre mínimos y máximos bien extremos, con una desviación estándar grande entre los datos."
   ]
  },
  {
   "cell_type": "code",
   "execution_count": 23,
   "metadata": {},
   "outputs": [
    {
     "data": {
      "image/png": "[encoded data removed]",
      "text/plain": [
       "<Figure size 640x480 with 1 Axes>"
      ]
     },
     "metadata": {},
     "output_type": "display_data"
    }
   ],
   "source": [
    "# Histograma; fechas de las llamadas\n",
    "\n",
    "sns.histplot(data=calls, x='day')\n",
    "plt.xticks(rotation= 45)\n",
    "plt.xlabel('Fecha')\n",
    "plt.ylabel('Frecuencia')\n",
    "plt.title('Frecuencia de llamadas según fecha')\n",
    "plt.show()"
   ]
  },
  {
   "cell_type": "markdown",
   "metadata": {},
   "source": [
    "Es posible observar que la cantidad de llamadas crece en el tiempo, y además; se muestra un patrón en el cual hay notorias bajadas seguidas de un peak considerable.  \n",
    "El incremento de llamadas a lo largo de los meses puede relacionarse con una mayor cantidad de clientes que se han ido adquiriendo, quizá en relación también a efectivas campañas de marketing. Mientras que el patrón de disminución seguido del gran peak puede tener alguna relación con ciertos días de la semana, o días del mes; en el gráfico es posible ver que el peak es cercano al 01 de cada mes."
   ]
  },
  {
   "cell_type": "code",
   "execution_count": 24,
   "metadata": {},
   "outputs": [
    {
     "data": {
      "text/plain": [
       "C    395\n",
       "B    261\n",
       "A     76\n",
       "Name: tariff_plan, dtype: int64"
      ]
     },
     "execution_count": 24,
     "metadata": {},
     "output_type": "execute_result"
    }
   ],
   "source": [
    "# Planes\n",
    "clients['tariff_plan'].value_counts()"
   ]
  },
  {
   "cell_type": "markdown",
   "metadata": {},
   "source": [
    "Existen 3 planes para los clientes de 'CallMeMaybe'"
   ]
  },
  {
   "cell_type": "code",
   "execution_count": 25,
   "metadata": {},
   "outputs": [],
   "source": [
    "# Unir data de llamadas y usuarios\n",
    "calls_analytics = calls.merge(clients, how='inner', on='user_id')"
   ]
  },
  {
   "cell_type": "code",
   "execution_count": 26,
   "metadata": {},
   "outputs": [
    {
     "data": {
      "text/plain": [
       "tariff_plan\n",
       "A     34\n",
       "B    112\n",
       "C    161\n",
       "Name: user_id, dtype: int64"
      ]
     },
     "execution_count": 26,
     "metadata": {},
     "output_type": "execute_result"
    }
   ],
   "source": [
    "# Clientes únicos de cada Plan\n",
    "calls_analytics.groupby('tariff_plan')['user_id'].nunique()"
   ]
  },
  {
   "cell_type": "code",
   "execution_count": 27,
   "metadata": {},
   "outputs": [],
   "source": [
    "# Cantidad de llamadas por plan\n",
    "tariff_calls = calls_analytics.groupby(['month', 'tariff_plan'], as_index=False)['calls_count'].sum()"
   ]
  },
  {
   "cell_type": "code",
   "execution_count": 28,
   "metadata": {},
   "outputs": [
    {
     "data": {
      "image/png": "[encoded data removed]",
      "text/plain": [
       "<Figure size 640x480 with 1 Axes>"
      ]
     },
     "metadata": {},
     "output_type": "display_data"
    }
   ],
   "source": [
    "sns.barplot(data=tariff_calls, x='month', y='calls_count', hue='tariff_plan')\n",
    "plt.title('Cantidad de llamadas según plan, por mes')\n",
    "plt.xlabel('Mes')\n",
    "plt.ylabel('Cantidad de llamadas')\n",
    "plt.show()"
   ]
  },
  {
   "cell_type": "markdown",
   "metadata": {},
   "source": [
    "Si bien desde Agosto a Noviembre el plan A es del cual se realizan mayor cantidad de llamadas, éste muestra un descenso de Octubre a Noviembre, a diferencia del plan B y C que ha pesar de tener un incremento menor mes a mes (vs el plan A), se mantienen en ascenso constante en cuanto a la cantidad de llamadas durante todo el registro.\n",
    "La mayor cantidad de llamadas en el plan A puede ser un punto relevante, pues es el plan con menor cantidad de clientes."
   ]
  },
  {
   "cell_type": "code",
   "execution_count": 29,
   "metadata": {},
   "outputs": [],
   "source": [
    "# Cantidad de clientes por plan\n",
    "clients_plan = calls_analytics.groupby(['month', 'tariff_plan'], as_index=False)['user_id'].nunique()"
   ]
  },
  {
   "cell_type": "code",
   "execution_count": 30,
   "metadata": {},
   "outputs": [
    {
     "data": {
      "image/png": "[encoded data removed]",
      "text/plain": [
       "<Figure size 640x480 with 1 Axes>"
      ]
     },
     "metadata": {},
     "output_type": "display_data"
    }
   ],
   "source": [
    "sns.barplot(data=clients_plan, x='month', y='user_id', hue='tariff_plan')\n",
    "plt.title('Cantidad de clientes según plan cada mes')\n",
    "plt.xlabel('Mes')\n",
    "plt.ylabel('Cantidad de clientes')\n",
    "plt.show()"
   ]
  },
  {
   "cell_type": "markdown",
   "metadata": {},
   "source": [
    "El plan A es el que tiene bastante menos cantidad de clientes que los planes B y C, sin embargo es en donde más llamadas se realizan; esto puede indicar alguna falla en el servicio que ofrece esta tarifa, pues las diferencias son muy notorias respecto a los otros 2 planes."
   ]
  },
  {
   "cell_type": "code",
   "execution_count": 31,
   "metadata": {},
   "outputs": [],
   "source": [
    "# Duración promedio de llamadas según plan\n",
    "duration_plan = calls_analytics.groupby(['month', 'tariff_plan'], as_index=False)['call_duration'].mean()"
   ]
  },
  {
   "cell_type": "code",
   "execution_count": 32,
   "metadata": {},
   "outputs": [
    {
     "data": {
      "image/png": "[encoded data removed]",
      "text/plain": [
       "<Figure size 640x480 with 1 Axes>"
      ]
     },
     "metadata": {},
     "output_type": "display_data"
    }
   ],
   "source": [
    "sns.barplot(data=duration_plan, x='month', y='call_duration', hue='tariff_plan')\n",
    "plt.title('Duración promedio de llamadas según plan y mes')\n",
    "plt.xlabel('Mes')\n",
    "plt.ylabel('Duración promedio llamadas')\n",
    "plt.show()"
   ]
  },
  {
   "cell_type": "markdown",
   "metadata": {},
   "source": [
    "El plan A no sólo tiene mayor cantidad de llamadas, sino también de mayor duración en promedio; que si bien van a la baja, los planes B y C muestran una duración de las llamadas más estable a través de los meses, sin tantos cambios a diferencia de lo que se ha observado en el plan A."
   ]
  },
  {
   "cell_type": "code",
   "execution_count": 33,
   "metadata": {},
   "outputs": [],
   "source": [
    "# Tiempo de espera promedio en cada plan\n",
    "wait_time_plan = calls_analytics.groupby(['month', 'tariff_plan'], as_index=False)['wait_time'].mean()"
   ]
  },
  {
   "cell_type": "code",
   "execution_count": 34,
   "metadata": {},
   "outputs": [
    {
     "data": {
      "image/png": "[encoded data removed]",
      "text/plain": [
       "<Figure size 640x480 with 1 Axes>"
      ]
     },
     "metadata": {},
     "output_type": "display_data"
    }
   ],
   "source": [
    "sns.barplot(data=wait_time_plan, x='month', y='wait_time', hue='tariff_plan')\n",
    "plt.title('Tiempo de espera promedio según plan y mes')\n",
    "plt.xlabel('Mes')\n",
    "plt.ylabel('Tiempo de espera promedio')\n",
    "plt.show()"
   ]
  },
  {
   "cell_type": "markdown",
   "metadata": {},
   "source": [
    "El tiempo de espera promedio parece relacionarse con la duración promedio de las llamadas, pues en ambas variables, el plan A muestra mayor tiempo en relación a los otros 2 planes, y va en disminución en los meses siguientes.  \n",
    "Es probable que un mayor número de llamadas, y la mayor duración de las mismas, genere un mayor tiempo de espera."
   ]
  },
  {
   "cell_type": "code",
   "execution_count": 35,
   "metadata": {},
   "outputs": [],
   "source": [
    "# Llamadas perdidas según plan y mes\n",
    "missed_plan = calls_analytics.groupby(['month', 'tariff_plan'], as_index=False)['is_missed_call'].mean()"
   ]
  },
  {
   "cell_type": "code",
   "execution_count": 36,
   "metadata": {},
   "outputs": [
    {
     "data": {
      "image/png": "[encoded data removed]",
      "text/plain": [
       "<Figure size 640x480 with 1 Axes>"
      ]
     },
     "metadata": {},
     "output_type": "display_data"
    }
   ],
   "source": [
    "sns.barplot(data=missed_plan, x='month', y='is_missed_call', hue='tariff_plan')\n",
    "plt.title('Promedio llamadas perdidas según plan y mes')\n",
    "plt.xlabel('Mes')\n",
    "plt.ylabel('Promedio llamadas perdidas')\n",
    "plt.show()"
   ]
  },
  {
   "cell_type": "markdown",
   "metadata": {},
   "source": [
    "En general no se muestra una gran diferencia entre cada plan durante los meses del registro; no obstante es posible observar una tendencia a la baja en la cantidad de llamadas perdidas en todos los planes, aunque es más notorio para el plan A"
   ]
  },
  {
   "cell_type": "code",
   "execution_count": 37,
   "metadata": {},
   "outputs": [
    {
     "data": {
      "text/html": [
       "<div>\n",
       "<style scoped>\n",
       "    .dataframe tbody tr th:only-of-type {\n",
       "        vertical-align: middle;\n",
       "    }\n",
       "\n",
       "    .dataframe tbody tr th {\n",
       "        vertical-align: top;\n",
       "    }\n",
       "\n",
       "    .dataframe thead th {\n",
       "        text-align: right;\n",
       "    }\n",
       "</style>\n",
       "<table border=\"1\" class=\"dataframe\">\n",
       "  <thead>\n",
       "    <tr style=\"text-align: right;\">\n",
       "      <th></th>\n",
       "      <th>operator_id</th>\n",
       "      <th>call_duration</th>\n",
       "    </tr>\n",
       "  </thead>\n",
       "  <tbody>\n",
       "    <tr>\n",
       "      <th>0</th>\n",
       "      <td>0</td>\n",
       "      <td>66.749598</td>\n",
       "    </tr>\n",
       "    <tr>\n",
       "      <th>1</th>\n",
       "      <td>879896</td>\n",
       "      <td>545.829060</td>\n",
       "    </tr>\n",
       "    <tr>\n",
       "      <th>2</th>\n",
       "      <td>879898</td>\n",
       "      <td>1133.881057</td>\n",
       "    </tr>\n",
       "    <tr>\n",
       "      <th>3</th>\n",
       "      <td>880020</td>\n",
       "      <td>112.250000</td>\n",
       "    </tr>\n",
       "    <tr>\n",
       "      <th>4</th>\n",
       "      <td>880022</td>\n",
       "      <td>216.385714</td>\n",
       "    </tr>\n",
       "    <tr>\n",
       "      <th>...</th>\n",
       "      <td>...</td>\n",
       "      <td>...</td>\n",
       "    </tr>\n",
       "    <tr>\n",
       "      <th>1088</th>\n",
       "      <td>972410</td>\n",
       "      <td>944.250000</td>\n",
       "    </tr>\n",
       "    <tr>\n",
       "      <th>1089</th>\n",
       "      <td>972412</td>\n",
       "      <td>699.600000</td>\n",
       "    </tr>\n",
       "    <tr>\n",
       "      <th>1090</th>\n",
       "      <td>972460</td>\n",
       "      <td>174.000000</td>\n",
       "    </tr>\n",
       "    <tr>\n",
       "      <th>1091</th>\n",
       "      <td>973120</td>\n",
       "      <td>2.500000</td>\n",
       "    </tr>\n",
       "    <tr>\n",
       "      <th>1092</th>\n",
       "      <td>973286</td>\n",
       "      <td>17.000000</td>\n",
       "    </tr>\n",
       "  </tbody>\n",
       "</table>\n",
       "<p>1093 rows × 2 columns</p>\n",
       "</div>"
      ],
      "text/plain": [
       "      operator_id  call_duration\n",
       "0               0      66.749598\n",
       "1          879896     545.829060\n",
       "2          879898    1133.881057\n",
       "3          880020     112.250000\n",
       "4          880022     216.385714\n",
       "...           ...            ...\n",
       "1088       972410     944.250000\n",
       "1089       972412     699.600000\n",
       "1090       972460     174.000000\n",
       "1091       973120       2.500000\n",
       "1092       973286      17.000000\n",
       "\n",
       "[1093 rows x 2 columns]"
      ]
     },
     "execution_count": 37,
     "metadata": {},
     "output_type": "execute_result"
    }
   ],
   "source": [
    "# Duración promedio de las llamadas por operador\n",
    "calls_duration = calls_analytics.groupby('operator_id', as_index=False)['call_duration'].mean()\n",
    "calls_duration"
   ]
  },
  {
   "cell_type": "code",
   "execution_count": 38,
   "metadata": {
    "scrolled": true
   },
   "outputs": [
    {
     "data": {
      "image/png": "[encoded data removed]",
      "text/plain": [
       "<Figure size 640x480 with 1 Axes>"
      ]
     },
     "metadata": {},
     "output_type": "display_data"
    }
   ],
   "source": [
    "sns.boxplot(data=calls_duration, y='call_duration')\n",
    "plt.show()"
   ]
  },
  {
   "cell_type": "markdown",
   "metadata": {},
   "source": [
    "Como se había desprendido de las estadísticas generales, la duración promedio de las llamadas varía mucho entre un operador y otro, si bien la gran mayoría se concentra en menos de 200-300 minutos, los outliers son bien extremos con promedios de hasta 14000 y 16000 minutos."
   ]
  },
  {
   "cell_type": "markdown",
   "metadata": {},
   "source": [
    "<div class=\"alert alert-block alert-success\">\n",
    "<b>Comentario del revisor (1ra Iteracion)</b> <a class=“tocSkip”></a>\n",
    "\n",
    "Correcto, bien realizado el EDA para tener más claro los datos con lo que se trabaja, además cada comentario que has dejado debajo de las gráficas facilita el entendimiento de cada paso en el análisis realizado\n",
    "</div>"
   ]
  },
  {
   "cell_type": "markdown",
   "metadata": {},
   "source": [
    "### Llamadas perdidas"
   ]
  },
  {
   "cell_type": "code",
   "execution_count": 39,
   "metadata": {},
   "outputs": [],
   "source": [
    "# Llamadas entrantes \n",
    "calls_in = calls_analytics.query('direction == \"in\"')"
   ]
  },
  {
   "cell_type": "code",
   "execution_count": 40,
   "metadata": {},
   "outputs": [
    {
     "data": {
      "text/html": [
       "<div>\n",
       "<style scoped>\n",
       "    .dataframe tbody tr th:only-of-type {\n",
       "        vertical-align: middle;\n",
       "    }\n",
       "\n",
       "    .dataframe tbody tr th {\n",
       "        vertical-align: top;\n",
       "    }\n",
       "\n",
       "    .dataframe thead th {\n",
       "        text-align: right;\n",
       "    }\n",
       "</style>\n",
       "<table border=\"1\" class=\"dataframe\">\n",
       "  <thead>\n",
       "    <tr style=\"text-align: right;\">\n",
       "      <th></th>\n",
       "      <th>operator_id</th>\n",
       "      <th>calls_count</th>\n",
       "    </tr>\n",
       "  </thead>\n",
       "  <tbody>\n",
       "    <tr>\n",
       "      <th>0</th>\n",
       "      <td>0</td>\n",
       "      <td>103397</td>\n",
       "    </tr>\n",
       "    <tr>\n",
       "      <th>1</th>\n",
       "      <td>882680</td>\n",
       "      <td>3</td>\n",
       "    </tr>\n",
       "    <tr>\n",
       "      <th>2</th>\n",
       "      <td>882684</td>\n",
       "      <td>4</td>\n",
       "    </tr>\n",
       "    <tr>\n",
       "      <th>3</th>\n",
       "      <td>882686</td>\n",
       "      <td>6</td>\n",
       "    </tr>\n",
       "    <tr>\n",
       "      <th>4</th>\n",
       "      <td>882690</td>\n",
       "      <td>2</td>\n",
       "    </tr>\n",
       "    <tr>\n",
       "      <th>...</th>\n",
       "      <td>...</td>\n",
       "      <td>...</td>\n",
       "    </tr>\n",
       "    <tr>\n",
       "      <th>235</th>\n",
       "      <td>959312</td>\n",
       "      <td>7</td>\n",
       "    </tr>\n",
       "    <tr>\n",
       "      <th>236</th>\n",
       "      <td>960620</td>\n",
       "      <td>1</td>\n",
       "    </tr>\n",
       "    <tr>\n",
       "      <th>237</th>\n",
       "      <td>964510</td>\n",
       "      <td>2</td>\n",
       "    </tr>\n",
       "    <tr>\n",
       "      <th>238</th>\n",
       "      <td>964666</td>\n",
       "      <td>3</td>\n",
       "    </tr>\n",
       "    <tr>\n",
       "      <th>239</th>\n",
       "      <td>969272</td>\n",
       "      <td>1</td>\n",
       "    </tr>\n",
       "  </tbody>\n",
       "</table>\n",
       "<p>240 rows × 2 columns</p>\n",
       "</div>"
      ],
      "text/plain": [
       "     operator_id  calls_count\n",
       "0              0       103397\n",
       "1         882680            3\n",
       "2         882684            4\n",
       "3         882686            6\n",
       "4         882690            2\n",
       "..           ...          ...\n",
       "235       959312            7\n",
       "236       960620            1\n",
       "237       964510            2\n",
       "238       964666            3\n",
       "239       969272            1\n",
       "\n",
       "[240 rows x 2 columns]"
      ]
     },
     "execution_count": 40,
     "metadata": {},
     "output_type": "execute_result"
    }
   ],
   "source": [
    "# Llamadas entrantes perdidas\n",
    "calls_missed = (calls_in.query('is_missed_call == True')\n",
    "    .groupby('operator_id', as_index=False)['calls_count'].sum()\n",
    ")\n",
    "calls_missed"
   ]
  },
  {
   "cell_type": "markdown",
   "metadata": {},
   "source": [
    "Se identificó a todos los operadores con id ausente como \"0\", de modo que es posible que estos valores nulos se relacionen con llamadas que no fueron contestadas, por la gran cantidad de ellas.  "
   ]
  },
  {
   "cell_type": "code",
   "execution_count": 41,
   "metadata": {},
   "outputs": [
    {
     "data": {
      "text/html": [
       "<div>\n",
       "<style scoped>\n",
       "    .dataframe tbody tr th:only-of-type {\n",
       "        vertical-align: middle;\n",
       "    }\n",
       "\n",
       "    .dataframe tbody tr th {\n",
       "        vertical-align: top;\n",
       "    }\n",
       "\n",
       "    .dataframe thead th {\n",
       "        text-align: right;\n",
       "    }\n",
       "</style>\n",
       "<table border=\"1\" class=\"dataframe\">\n",
       "  <thead>\n",
       "    <tr style=\"text-align: right;\">\n",
       "      <th></th>\n",
       "      <th>operator_id</th>\n",
       "      <th>calls_count</th>\n",
       "    </tr>\n",
       "  </thead>\n",
       "  <tbody>\n",
       "    <tr>\n",
       "      <th>count</th>\n",
       "      <td>240.000000</td>\n",
       "      <td>240.000000</td>\n",
       "    </tr>\n",
       "    <tr>\n",
       "      <th>mean</th>\n",
       "      <td>917324.708333</td>\n",
       "      <td>434.679167</td>\n",
       "    </tr>\n",
       "    <tr>\n",
       "      <th>std</th>\n",
       "      <td>62867.049524</td>\n",
       "      <td>6674.000189</td>\n",
       "    </tr>\n",
       "    <tr>\n",
       "      <th>min</th>\n",
       "      <td>0.000000</td>\n",
       "      <td>1.000000</td>\n",
       "    </tr>\n",
       "    <tr>\n",
       "      <th>25%</th>\n",
       "      <td>904914.000000</td>\n",
       "      <td>1.000000</td>\n",
       "    </tr>\n",
       "    <tr>\n",
       "      <th>50%</th>\n",
       "      <td>920716.000000</td>\n",
       "      <td>2.000000</td>\n",
       "    </tr>\n",
       "    <tr>\n",
       "      <th>75%</th>\n",
       "      <td>937915.500000</td>\n",
       "      <td>4.000000</td>\n",
       "    </tr>\n",
       "    <tr>\n",
       "      <th>max</th>\n",
       "      <td>969272.000000</td>\n",
       "      <td>103397.000000</td>\n",
       "    </tr>\n",
       "  </tbody>\n",
       "</table>\n",
       "</div>"
      ],
      "text/plain": [
       "         operator_id    calls_count\n",
       "count     240.000000     240.000000\n",
       "mean   917324.708333     434.679167\n",
       "std     62867.049524    6674.000189\n",
       "min         0.000000       1.000000\n",
       "25%    904914.000000       1.000000\n",
       "50%    920716.000000       2.000000\n",
       "75%    937915.500000       4.000000\n",
       "max    969272.000000  103397.000000"
      ]
     },
     "execution_count": 41,
     "metadata": {},
     "output_type": "execute_result"
    }
   ],
   "source": [
    "# Estadisticas llamadas perdidas\n",
    "calls_missed.describe()"
   ]
  },
  {
   "cell_type": "markdown",
   "metadata": {},
   "source": [
    "Teniendo en cuenta que el registro se tiene de 4 meses, se considerará una gran cantidad de llamadas perdidas cuando un operador tenga >= 15 llamadas no contestadas."
   ]
  },
  {
   "cell_type": "code",
   "execution_count": 42,
   "metadata": {},
   "outputs": [],
   "source": [
    "# Total de llamadas para los operadores que tienen llamadas entrantes\n",
    "calls_in_count = calls_in.groupby('operator_id', as_index=False)['calls_count'].sum()"
   ]
  },
  {
   "cell_type": "code",
   "execution_count": 43,
   "metadata": {},
   "outputs": [],
   "source": [
    "# Lista de operadores que tienen llamadas perdidas\n",
    "operator = calls_missed['operator_id'].tolist()"
   ]
  },
  {
   "cell_type": "code",
   "execution_count": 44,
   "metadata": {},
   "outputs": [],
   "source": [
    "# Filtrar operadores que tienen llamadas perdidas entrantes\n",
    "filter_operator_in = calls_in_count[calls_in_count['operator_id'].isin(operator)]"
   ]
  },
  {
   "cell_type": "code",
   "execution_count": 45,
   "metadata": {},
   "outputs": [],
   "source": [
    "# Unión de datos de llamadas totales, y perdidas, por operador\n",
    "calls_count_missed = pd.merge(calls_in_count, calls_missed, on='operator_id')"
   ]
  },
  {
   "cell_type": "code",
   "execution_count": 46,
   "metadata": {},
   "outputs": [],
   "source": [
    "# Renombrar columnas\n",
    "calls_count_missed.rename(columns= {'operator_id':'operator_id', 'calls_count_x':'calls_count', 'calls_count_y':'calls_missed'}, inplace=True)"
   ]
  },
  {
   "cell_type": "code",
   "execution_count": 47,
   "metadata": {},
   "outputs": [],
   "source": [
    "# Calcular % de llamadas perdidas por operador\n",
    "calls_count_missed['percent'] = calls_count_missed['calls_missed'] / calls_count_missed['calls_count']"
   ]
  },
  {
   "cell_type": "code",
   "execution_count": 48,
   "metadata": {},
   "outputs": [
    {
     "data": {
      "text/html": [
       "<div>\n",
       "<style scoped>\n",
       "    .dataframe tbody tr th:only-of-type {\n",
       "        vertical-align: middle;\n",
       "    }\n",
       "\n",
       "    .dataframe tbody tr th {\n",
       "        vertical-align: top;\n",
       "    }\n",
       "\n",
       "    .dataframe thead th {\n",
       "        text-align: right;\n",
       "    }\n",
       "</style>\n",
       "<table border=\"1\" class=\"dataframe\">\n",
       "  <thead>\n",
       "    <tr style=\"text-align: right;\">\n",
       "      <th></th>\n",
       "      <th>operator_id</th>\n",
       "      <th>calls_count</th>\n",
       "      <th>calls_missed</th>\n",
       "      <th>percent</th>\n",
       "    </tr>\n",
       "  </thead>\n",
       "  <tbody>\n",
       "    <tr>\n",
       "      <th>0</th>\n",
       "      <td>0</td>\n",
       "      <td>104043</td>\n",
       "      <td>103397</td>\n",
       "      <td>0.993791</td>\n",
       "    </tr>\n",
       "    <tr>\n",
       "      <th>211</th>\n",
       "      <td>944226</td>\n",
       "      <td>180</td>\n",
       "      <td>30</td>\n",
       "      <td>0.166667</td>\n",
       "    </tr>\n",
       "    <tr>\n",
       "      <th>67</th>\n",
       "      <td>905862</td>\n",
       "      <td>102</td>\n",
       "      <td>15</td>\n",
       "      <td>0.147059</td>\n",
       "    </tr>\n",
       "    <tr>\n",
       "      <th>207</th>\n",
       "      <td>944216</td>\n",
       "      <td>235</td>\n",
       "      <td>24</td>\n",
       "      <td>0.102128</td>\n",
       "    </tr>\n",
       "    <tr>\n",
       "      <th>210</th>\n",
       "      <td>944222</td>\n",
       "      <td>185</td>\n",
       "      <td>17</td>\n",
       "      <td>0.091892</td>\n",
       "    </tr>\n",
       "    <tr>\n",
       "      <th>209</th>\n",
       "      <td>944220</td>\n",
       "      <td>265</td>\n",
       "      <td>18</td>\n",
       "      <td>0.067925</td>\n",
       "    </tr>\n",
       "    <tr>\n",
       "      <th>223</th>\n",
       "      <td>951508</td>\n",
       "      <td>336</td>\n",
       "      <td>21</td>\n",
       "      <td>0.062500</td>\n",
       "    </tr>\n",
       "    <tr>\n",
       "      <th>208</th>\n",
       "      <td>944218</td>\n",
       "      <td>245</td>\n",
       "      <td>15</td>\n",
       "      <td>0.061224</td>\n",
       "    </tr>\n",
       "    <tr>\n",
       "      <th>218</th>\n",
       "      <td>948286</td>\n",
       "      <td>319</td>\n",
       "      <td>15</td>\n",
       "      <td>0.047022</td>\n",
       "    </tr>\n",
       "    <tr>\n",
       "      <th>180</th>\n",
       "      <td>937956</td>\n",
       "      <td>773</td>\n",
       "      <td>24</td>\n",
       "      <td>0.031048</td>\n",
       "    </tr>\n",
       "    <tr>\n",
       "      <th>200</th>\n",
       "      <td>940622</td>\n",
       "      <td>677</td>\n",
       "      <td>16</td>\n",
       "      <td>0.023634</td>\n",
       "    </tr>\n",
       "    <tr>\n",
       "      <th>99</th>\n",
       "      <td>913942</td>\n",
       "      <td>2467</td>\n",
       "      <td>52</td>\n",
       "      <td>0.021078</td>\n",
       "    </tr>\n",
       "    <tr>\n",
       "      <th>7</th>\n",
       "      <td>885890</td>\n",
       "      <td>1244</td>\n",
       "      <td>26</td>\n",
       "      <td>0.020900</td>\n",
       "    </tr>\n",
       "    <tr>\n",
       "      <th>6</th>\n",
       "      <td>885876</td>\n",
       "      <td>992</td>\n",
       "      <td>20</td>\n",
       "      <td>0.020161</td>\n",
       "    </tr>\n",
       "    <tr>\n",
       "      <th>197</th>\n",
       "      <td>940588</td>\n",
       "      <td>2127</td>\n",
       "      <td>30</td>\n",
       "      <td>0.014104</td>\n",
       "    </tr>\n",
       "    <tr>\n",
       "      <th>202</th>\n",
       "      <td>940630</td>\n",
       "      <td>1985</td>\n",
       "      <td>17</td>\n",
       "      <td>0.008564</td>\n",
       "    </tr>\n",
       "  </tbody>\n",
       "</table>\n",
       "</div>"
      ],
      "text/plain": [
       "     operator_id  calls_count  calls_missed   percent\n",
       "0              0       104043        103397  0.993791\n",
       "211       944226          180            30  0.166667\n",
       "67        905862          102            15  0.147059\n",
       "207       944216          235            24  0.102128\n",
       "210       944222          185            17  0.091892\n",
       "209       944220          265            18  0.067925\n",
       "223       951508          336            21  0.062500\n",
       "208       944218          245            15  0.061224\n",
       "218       948286          319            15  0.047022\n",
       "180       937956          773            24  0.031048\n",
       "200       940622          677            16  0.023634\n",
       "99        913942         2467            52  0.021078\n",
       "7         885890         1244            26  0.020900\n",
       "6         885876          992            20  0.020161\n",
       "197       940588         2127            30  0.014104\n",
       "202       940630         1985            17  0.008564"
      ]
     },
     "execution_count": 48,
     "metadata": {},
     "output_type": "execute_result"
    }
   ],
   "source": [
    "# Operadores con más de 15 llamadas perdidas\n",
    "calls_missed_by_operator = calls_count_missed.query('calls_missed >= 15').sort_values(by='percent', ascending=False)\n",
    "calls_missed_by_operator"
   ]
  },
  {
   "cell_type": "markdown",
   "metadata": {},
   "source": [
    "De momento; considerando sólo las llamadas entrantes perdidas; se hallaron estos 15 operadores con >= 15 llamadas perdidas, sin embargo considerando el % que representan estas llamadas, se identifican 3 operadores donde el % de llamadas no contestadas representa entre un 10-20%. Se añadirían 4 si se considera aquellos que tienen entre 5-10% de llamadas no contestadas."
   ]
  },
  {
   "cell_type": "code",
   "execution_count": 49,
   "metadata": {},
   "outputs": [
    {
     "data": {
      "image/png": "[encoded data removed]",
      "text/plain": [
       "<Figure size 640x480 with 1 Axes>"
      ]
     },
     "metadata": {},
     "output_type": "display_data"
    }
   ],
   "source": [
    "# Llamadas perdidas por operador\n",
    "sns.barplot(data=calls_missed_by_operator, x='operator_id', y='calls_missed')\n",
    "plt.ylim(0, 100)\n",
    "plt.xticks(rotation=45)\n",
    "plt.xlabel('ID operador')\n",
    "plt.ylabel('Cantidad de llamadas perdidas')\n",
    "plt.title('Llamadas perdidas por operador')\n",
    "plt.show()"
   ]
  },
  {
   "cell_type": "code",
   "execution_count": 50,
   "metadata": {},
   "outputs": [
    {
     "data": {
      "image/png": "[encoded data removed]",
      "text/plain": [
       "<Figure size 640x480 with 1 Axes>"
      ]
     },
     "metadata": {},
     "output_type": "display_data"
    }
   ],
   "source": [
    "# Llamadas internas/externas perdidas\n",
    "calls_in['internal'].value_counts().plot(\n",
    "    kind='bar', \n",
    "    xlabel='Tipo de llamada', \n",
    "    ylabel='Cantidad de llamadas', \n",
    "    title='Tipo de llamadas perdidas'\n",
    ")\n",
    "plt.show()"
   ]
  },
  {
   "cell_type": "markdown",
   "metadata": {},
   "source": [
    "La gran mayoría de las llamadas perdidas son llamadas externas, no entre los mismos operadores, de modo que este es un importante punto a mejora, pues representa una falla hacia los clientes."
   ]
  },
  {
   "cell_type": "markdown",
   "metadata": {},
   "source": [
    "### Tiempo de espera"
   ]
  },
  {
   "cell_type": "code",
   "execution_count": 51,
   "metadata": {},
   "outputs": [],
   "source": [
    "# Promedio de tiempo de espera por operador\n",
    "long_wait_time = calls_in.groupby('operator_id', as_index=False)['wait_time'].mean().sort_values(ascending=False, by='wait_time')"
   ]
  },
  {
   "cell_type": "code",
   "execution_count": 52,
   "metadata": {},
   "outputs": [
    {
     "data": {
      "text/html": [
       "<div>\n",
       "<style scoped>\n",
       "    .dataframe tbody tr th:only-of-type {\n",
       "        vertical-align: middle;\n",
       "    }\n",
       "\n",
       "    .dataframe tbody tr th {\n",
       "        vertical-align: top;\n",
       "    }\n",
       "\n",
       "    .dataframe thead th {\n",
       "        text-align: right;\n",
       "    }\n",
       "</style>\n",
       "<table border=\"1\" class=\"dataframe\">\n",
       "  <thead>\n",
       "    <tr style=\"text-align: right;\">\n",
       "      <th></th>\n",
       "      <th>operator_id</th>\n",
       "      <th>wait_time</th>\n",
       "    </tr>\n",
       "  </thead>\n",
       "  <tbody>\n",
       "    <tr>\n",
       "      <th>count</th>\n",
       "      <td>755.000000</td>\n",
       "      <td>755.000000</td>\n",
       "    </tr>\n",
       "    <tr>\n",
       "      <th>mean</th>\n",
       "      <td>922480.950993</td>\n",
       "      <td>57.766716</td>\n",
       "    </tr>\n",
       "    <tr>\n",
       "      <th>std</th>\n",
       "      <td>40525.301577</td>\n",
       "      <td>94.488766</td>\n",
       "    </tr>\n",
       "    <tr>\n",
       "      <th>min</th>\n",
       "      <td>0.000000</td>\n",
       "      <td>1.000000</td>\n",
       "    </tr>\n",
       "    <tr>\n",
       "      <th>25%</th>\n",
       "      <td>905093.000000</td>\n",
       "      <td>17.500000</td>\n",
       "    </tr>\n",
       "    <tr>\n",
       "      <th>50%</th>\n",
       "      <td>924546.000000</td>\n",
       "      <td>31.000000</td>\n",
       "    </tr>\n",
       "    <tr>\n",
       "      <th>75%</th>\n",
       "      <td>940457.000000</td>\n",
       "      <td>58.083333</td>\n",
       "    </tr>\n",
       "    <tr>\n",
       "      <th>max</th>\n",
       "      <td>973286.000000</td>\n",
       "      <td>1007.375000</td>\n",
       "    </tr>\n",
       "  </tbody>\n",
       "</table>\n",
       "</div>"
      ],
      "text/plain": [
       "         operator_id    wait_time\n",
       "count     755.000000   755.000000\n",
       "mean   922480.950993    57.766716\n",
       "std     40525.301577    94.488766\n",
       "min         0.000000     1.000000\n",
       "25%    905093.000000    17.500000\n",
       "50%    924546.000000    31.000000\n",
       "75%    940457.000000    58.083333\n",
       "max    973286.000000  1007.375000"
      ]
     },
     "execution_count": 52,
     "metadata": {},
     "output_type": "execute_result"
    }
   ],
   "source": [
    "long_wait_time.describe()"
   ]
  },
  {
   "cell_type": "code",
   "execution_count": 53,
   "metadata": {},
   "outputs": [
    {
     "data": {
      "text/html": [
       "<div>\n",
       "<style scoped>\n",
       "    .dataframe tbody tr th:only-of-type {\n",
       "        vertical-align: middle;\n",
       "    }\n",
       "\n",
       "    .dataframe tbody tr th {\n",
       "        vertical-align: top;\n",
       "    }\n",
       "\n",
       "    .dataframe thead th {\n",
       "        text-align: right;\n",
       "    }\n",
       "</style>\n",
       "<table border=\"1\" class=\"dataframe\">\n",
       "  <thead>\n",
       "    <tr style=\"text-align: right;\">\n",
       "      <th></th>\n",
       "      <th>operator_id</th>\n",
       "      <th>wait_time</th>\n",
       "    </tr>\n",
       "  </thead>\n",
       "  <tbody>\n",
       "    <tr>\n",
       "      <th>338</th>\n",
       "      <td>919794</td>\n",
       "      <td>1007.375000</td>\n",
       "    </tr>\n",
       "    <tr>\n",
       "      <th>207</th>\n",
       "      <td>906070</td>\n",
       "      <td>889.800000</td>\n",
       "    </tr>\n",
       "    <tr>\n",
       "      <th>336</th>\n",
       "      <td>919790</td>\n",
       "      <td>866.803279</td>\n",
       "    </tr>\n",
       "    <tr>\n",
       "      <th>446</th>\n",
       "      <td>931458</td>\n",
       "      <td>681.961538</td>\n",
       "    </tr>\n",
       "    <tr>\n",
       "      <th>359</th>\n",
       "      <td>921318</td>\n",
       "      <td>615.418182</td>\n",
       "    </tr>\n",
       "    <tr>\n",
       "      <th>208</th>\n",
       "      <td>906076</td>\n",
       "      <td>611.500000</td>\n",
       "    </tr>\n",
       "    <tr>\n",
       "      <th>334</th>\n",
       "      <td>919552</td>\n",
       "      <td>561.757576</td>\n",
       "    </tr>\n",
       "    <tr>\n",
       "      <th>329</th>\n",
       "      <td>919204</td>\n",
       "      <td>550.941176</td>\n",
       "    </tr>\n",
       "    <tr>\n",
       "      <th>289</th>\n",
       "      <td>913938</td>\n",
       "      <td>526.974026</td>\n",
       "    </tr>\n",
       "    <tr>\n",
       "      <th>335</th>\n",
       "      <td>919554</td>\n",
       "      <td>503.157895</td>\n",
       "    </tr>\n",
       "    <tr>\n",
       "      <th>218</th>\n",
       "      <td>906406</td>\n",
       "      <td>416.152174</td>\n",
       "    </tr>\n",
       "    <tr>\n",
       "      <th>327</th>\n",
       "      <td>919166</td>\n",
       "      <td>401.714286</td>\n",
       "    </tr>\n",
       "    <tr>\n",
       "      <th>337</th>\n",
       "      <td>919792</td>\n",
       "      <td>397.228070</td>\n",
       "    </tr>\n",
       "    <tr>\n",
       "      <th>330</th>\n",
       "      <td>919206</td>\n",
       "      <td>388.052632</td>\n",
       "    </tr>\n",
       "    <tr>\n",
       "      <th>290</th>\n",
       "      <td>913942</td>\n",
       "      <td>347.917647</td>\n",
       "    </tr>\n",
       "    <tr>\n",
       "      <th>750</th>\n",
       "      <td>971102</td>\n",
       "      <td>338.000000</td>\n",
       "    </tr>\n",
       "    <tr>\n",
       "      <th>12</th>\n",
       "      <td>882688</td>\n",
       "      <td>336.500000</td>\n",
       "    </tr>\n",
       "    <tr>\n",
       "      <th>557</th>\n",
       "      <td>939762</td>\n",
       "      <td>334.756098</td>\n",
       "    </tr>\n",
       "    <tr>\n",
       "      <th>13</th>\n",
       "      <td>882690</td>\n",
       "      <td>322.818182</td>\n",
       "    </tr>\n",
       "    <tr>\n",
       "      <th>709</th>\n",
       "      <td>958460</td>\n",
       "      <td>319.625000</td>\n",
       "    </tr>\n",
       "    <tr>\n",
       "      <th>217</th>\n",
       "      <td>906404</td>\n",
       "      <td>315.325581</td>\n",
       "    </tr>\n",
       "  </tbody>\n",
       "</table>\n",
       "</div>"
      ],
      "text/plain": [
       "     operator_id    wait_time\n",
       "338       919794  1007.375000\n",
       "207       906070   889.800000\n",
       "336       919790   866.803279\n",
       "446       931458   681.961538\n",
       "359       921318   615.418182\n",
       "208       906076   611.500000\n",
       "334       919552   561.757576\n",
       "329       919204   550.941176\n",
       "289       913938   526.974026\n",
       "335       919554   503.157895\n",
       "218       906406   416.152174\n",
       "327       919166   401.714286\n",
       "337       919792   397.228070\n",
       "330       919206   388.052632\n",
       "290       913942   347.917647\n",
       "750       971102   338.000000\n",
       "12        882688   336.500000\n",
       "557       939762   334.756098\n",
       "13        882690   322.818182\n",
       "709       958460   319.625000\n",
       "217       906404   315.325581"
      ]
     },
     "execution_count": 53,
     "metadata": {},
     "output_type": "execute_result"
    }
   ],
   "source": [
    "# Tiempo de espera mayor a 5 minutos\n",
    "long_wait_time_operator = long_wait_time.query('wait_time >= 300')\n",
    "long_wait_time_operator"
   ]
  },
  {
   "cell_type": "markdown",
   "metadata": {},
   "source": [
    "Tenemos 21 operadores que tienen un tiempo de espera superior a 5 minutos; esto puede afectar la eficacia de la atención al cliente y cómo ellos perciben el servicio, pues independiente del motivo por el cual el cliente se comunique, esperará una atención ágil."
   ]
  },
  {
   "cell_type": "code",
   "execution_count": 54,
   "metadata": {},
   "outputs": [
    {
     "data": {
      "image/png": "[encoded data removed]",
      "text/plain": [
       "<Figure size 640x480 with 1 Axes>"
      ]
     },
     "metadata": {},
     "output_type": "display_data"
    }
   ],
   "source": [
    "# 15 Operadores con gran tiempo de espera\n",
    "sns.barplot(data=long_wait_time_operator, x='operator_id', y='wait_time')\n",
    "plt.xticks(rotation=45)\n",
    "plt.xlabel('ID operador')\n",
    "plt.ylabel('Tiempo de espera')\n",
    "plt.title('Tiempo de espera por operador')\n",
    "plt.show()"
   ]
  },
  {
   "cell_type": "markdown",
   "metadata": {},
   "source": [
    "### Llamadas salientes"
   ]
  },
  {
   "cell_type": "code",
   "execution_count": 55,
   "metadata": {},
   "outputs": [],
   "source": [
    "# Llamadas salientes\n",
    "calls_out = calls_analytics.query('direction == \"out\"')"
   ]
  },
  {
   "cell_type": "code",
   "execution_count": 56,
   "metadata": {},
   "outputs": [
    {
     "data": {
      "text/html": [
       "<div>\n",
       "<style scoped>\n",
       "    .dataframe tbody tr th:only-of-type {\n",
       "        vertical-align: middle;\n",
       "    }\n",
       "\n",
       "    .dataframe tbody tr th {\n",
       "        vertical-align: top;\n",
       "    }\n",
       "\n",
       "    .dataframe thead th {\n",
       "        text-align: right;\n",
       "    }\n",
       "</style>\n",
       "<table border=\"1\" class=\"dataframe\">\n",
       "  <thead>\n",
       "    <tr style=\"text-align: right;\">\n",
       "      <th></th>\n",
       "      <th>operator_id</th>\n",
       "      <th>calls_count</th>\n",
       "    </tr>\n",
       "  </thead>\n",
       "  <tbody>\n",
       "    <tr>\n",
       "      <th>217</th>\n",
       "      <td>906076</td>\n",
       "      <td>1</td>\n",
       "    </tr>\n",
       "    <tr>\n",
       "      <th>783</th>\n",
       "      <td>954284</td>\n",
       "      <td>1</td>\n",
       "    </tr>\n",
       "    <tr>\n",
       "      <th>606</th>\n",
       "      <td>939698</td>\n",
       "      <td>1</td>\n",
       "    </tr>\n",
       "    <tr>\n",
       "      <th>782</th>\n",
       "      <td>954086</td>\n",
       "      <td>1</td>\n",
       "    </tr>\n",
       "    <tr>\n",
       "      <th>842</th>\n",
       "      <td>963716</td>\n",
       "      <td>1</td>\n",
       "    </tr>\n",
       "    <tr>\n",
       "      <th>...</th>\n",
       "      <td>...</td>\n",
       "      <td>...</td>\n",
       "    </tr>\n",
       "    <tr>\n",
       "      <th>256</th>\n",
       "      <td>908640</td>\n",
       "      <td>14239</td>\n",
       "    </tr>\n",
       "    <tr>\n",
       "      <th>447</th>\n",
       "      <td>925922</td>\n",
       "      <td>19603</td>\n",
       "    </tr>\n",
       "    <tr>\n",
       "      <th>467</th>\n",
       "      <td>929428</td>\n",
       "      <td>23754</td>\n",
       "    </tr>\n",
       "    <tr>\n",
       "      <th>25</th>\n",
       "      <td>885876</td>\n",
       "      <td>58437</td>\n",
       "    </tr>\n",
       "    <tr>\n",
       "      <th>26</th>\n",
       "      <td>885890</td>\n",
       "      <td>58977</td>\n",
       "    </tr>\n",
       "  </tbody>\n",
       "</table>\n",
       "<p>883 rows × 2 columns</p>\n",
       "</div>"
      ],
      "text/plain": [
       "     operator_id  calls_count\n",
       "217       906076            1\n",
       "783       954284            1\n",
       "606       939698            1\n",
       "782       954086            1\n",
       "842       963716            1\n",
       "..           ...          ...\n",
       "256       908640        14239\n",
       "447       925922        19603\n",
       "467       929428        23754\n",
       "25        885876        58437\n",
       "26        885890        58977\n",
       "\n",
       "[883 rows x 2 columns]"
      ]
     },
     "execution_count": 56,
     "metadata": {},
     "output_type": "execute_result"
    }
   ],
   "source": [
    "# Cantidad de llamadas salientes\n",
    "lowered_calls = calls_out.groupby('operator_id', as_index=False)['calls_count'].sum().sort_values(by='calls_count')\n",
    "lowered_calls"
   ]
  },
  {
   "cell_type": "code",
   "execution_count": 57,
   "metadata": {},
   "outputs": [
    {
     "data": {
      "text/html": [
       "<div>\n",
       "<style scoped>\n",
       "    .dataframe tbody tr th:only-of-type {\n",
       "        vertical-align: middle;\n",
       "    }\n",
       "\n",
       "    .dataframe tbody tr th {\n",
       "        vertical-align: top;\n",
       "    }\n",
       "\n",
       "    .dataframe thead th {\n",
       "        text-align: right;\n",
       "    }\n",
       "</style>\n",
       "<table border=\"1\" class=\"dataframe\">\n",
       "  <thead>\n",
       "    <tr style=\"text-align: right;\">\n",
       "      <th></th>\n",
       "      <th>operator_id</th>\n",
       "      <th>calls_count</th>\n",
       "    </tr>\n",
       "  </thead>\n",
       "  <tbody>\n",
       "    <tr>\n",
       "      <th>count</th>\n",
       "      <td>883.000000</td>\n",
       "      <td>883.000000</td>\n",
       "    </tr>\n",
       "    <tr>\n",
       "      <th>mean</th>\n",
       "      <td>924610.029445</td>\n",
       "      <td>689.540204</td>\n",
       "    </tr>\n",
       "    <tr>\n",
       "      <th>std</th>\n",
       "      <td>38632.648102</td>\n",
       "      <td>3121.188227</td>\n",
       "    </tr>\n",
       "    <tr>\n",
       "      <th>min</th>\n",
       "      <td>0.000000</td>\n",
       "      <td>1.000000</td>\n",
       "    </tr>\n",
       "    <tr>\n",
       "      <th>25%</th>\n",
       "      <td>906393.000000</td>\n",
       "      <td>11.000000</td>\n",
       "    </tr>\n",
       "    <tr>\n",
       "      <th>50%</th>\n",
       "      <td>924958.000000</td>\n",
       "      <td>90.000000</td>\n",
       "    </tr>\n",
       "    <tr>\n",
       "      <th>75%</th>\n",
       "      <td>943442.000000</td>\n",
       "      <td>591.500000</td>\n",
       "    </tr>\n",
       "    <tr>\n",
       "      <th>max</th>\n",
       "      <td>973120.000000</td>\n",
       "      <td>58977.000000</td>\n",
       "    </tr>\n",
       "  </tbody>\n",
       "</table>\n",
       "</div>"
      ],
      "text/plain": [
       "         operator_id   calls_count\n",
       "count     883.000000    883.000000\n",
       "mean   924610.029445    689.540204\n",
       "std     38632.648102   3121.188227\n",
       "min         0.000000      1.000000\n",
       "25%    906393.000000     11.000000\n",
       "50%    924958.000000     90.000000\n",
       "75%    943442.000000    591.500000\n",
       "max    973120.000000  58977.000000"
      ]
     },
     "execution_count": 57,
     "metadata": {},
     "output_type": "execute_result"
    }
   ],
   "source": [
    "# Estadísticas llamadas salientes\n",
    "lowered_calls.describe()"
   ]
  },
  {
   "cell_type": "markdown",
   "metadata": {},
   "source": [
    "Se considerará un bajo número de llamadas salientes <= 10 llamadas por operador."
   ]
  },
  {
   "cell_type": "code",
   "execution_count": 58,
   "metadata": {},
   "outputs": [
    {
     "data": {
      "text/html": [
       "<div>\n",
       "<style scoped>\n",
       "    .dataframe tbody tr th:only-of-type {\n",
       "        vertical-align: middle;\n",
       "    }\n",
       "\n",
       "    .dataframe tbody tr th {\n",
       "        vertical-align: top;\n",
       "    }\n",
       "\n",
       "    .dataframe thead th {\n",
       "        text-align: right;\n",
       "    }\n",
       "</style>\n",
       "<table border=\"1\" class=\"dataframe\">\n",
       "  <thead>\n",
       "    <tr style=\"text-align: right;\">\n",
       "      <th></th>\n",
       "      <th>operator_id</th>\n",
       "      <th>calls_count</th>\n",
       "    </tr>\n",
       "  </thead>\n",
       "  <tbody>\n",
       "    <tr>\n",
       "      <th>217</th>\n",
       "      <td>906076</td>\n",
       "      <td>1</td>\n",
       "    </tr>\n",
       "    <tr>\n",
       "      <th>783</th>\n",
       "      <td>954284</td>\n",
       "      <td>1</td>\n",
       "    </tr>\n",
       "    <tr>\n",
       "      <th>606</th>\n",
       "      <td>939698</td>\n",
       "      <td>1</td>\n",
       "    </tr>\n",
       "    <tr>\n",
       "      <th>782</th>\n",
       "      <td>954086</td>\n",
       "      <td>1</td>\n",
       "    </tr>\n",
       "    <tr>\n",
       "      <th>842</th>\n",
       "      <td>963716</td>\n",
       "      <td>1</td>\n",
       "    </tr>\n",
       "    <tr>\n",
       "      <th>...</th>\n",
       "      <td>...</td>\n",
       "      <td>...</td>\n",
       "    </tr>\n",
       "    <tr>\n",
       "      <th>777</th>\n",
       "      <td>953362</td>\n",
       "      <td>10</td>\n",
       "    </tr>\n",
       "    <tr>\n",
       "      <th>870</th>\n",
       "      <td>970242</td>\n",
       "      <td>10</td>\n",
       "    </tr>\n",
       "    <tr>\n",
       "      <th>191</th>\n",
       "      <td>904200</td>\n",
       "      <td>10</td>\n",
       "    </tr>\n",
       "    <tr>\n",
       "      <th>505</th>\n",
       "      <td>932798</td>\n",
       "      <td>10</td>\n",
       "    </tr>\n",
       "    <tr>\n",
       "      <th>125</th>\n",
       "      <td>898434</td>\n",
       "      <td>10</td>\n",
       "    </tr>\n",
       "  </tbody>\n",
       "</table>\n",
       "<p>214 rows × 2 columns</p>\n",
       "</div>"
      ],
      "text/plain": [
       "     operator_id  calls_count\n",
       "217       906076            1\n",
       "783       954284            1\n",
       "606       939698            1\n",
       "782       954086            1\n",
       "842       963716            1\n",
       "..           ...          ...\n",
       "777       953362           10\n",
       "870       970242           10\n",
       "191       904200           10\n",
       "505       932798           10\n",
       "125       898434           10\n",
       "\n",
       "[214 rows x 2 columns]"
      ]
     },
     "execution_count": 58,
     "metadata": {},
     "output_type": "execute_result"
    }
   ],
   "source": [
    "# Pocas llamadas salientes por operador\n",
    "lowered_calls_by_operator = lowered_calls.query('calls_count <= 10')\n",
    "lowered_calls_by_operator"
   ]
  },
  {
   "cell_type": "markdown",
   "metadata": {},
   "source": [
    "Existen 214 operadores ineficientes en cuanto a escasas llamadas salientes, se mostrarán los 15 primeros para ver si se repiten ID con las muestras anteriores; llamadas perdidas y tiempo prolongado de espera."
   ]
  },
  {
   "cell_type": "code",
   "execution_count": 59,
   "metadata": {},
   "outputs": [],
   "source": [
    "# Top menor cantidad de lamadas salientes\n",
    "top_lowered_calls = lowered_calls_by_operator.nsmallest(15, 'calls_count')"
   ]
  },
  {
   "cell_type": "code",
   "execution_count": 60,
   "metadata": {},
   "outputs": [
    {
     "data": {
      "text/html": [
       "<div>\n",
       "<style scoped>\n",
       "    .dataframe tbody tr th:only-of-type {\n",
       "        vertical-align: middle;\n",
       "    }\n",
       "\n",
       "    .dataframe tbody tr th {\n",
       "        vertical-align: top;\n",
       "    }\n",
       "\n",
       "    .dataframe thead th {\n",
       "        text-align: right;\n",
       "    }\n",
       "</style>\n",
       "<table border=\"1\" class=\"dataframe\">\n",
       "  <thead>\n",
       "    <tr style=\"text-align: right;\">\n",
       "      <th></th>\n",
       "      <th>operator_id</th>\n",
       "      <th>calls_count</th>\n",
       "    </tr>\n",
       "  </thead>\n",
       "  <tbody>\n",
       "    <tr>\n",
       "      <th>217</th>\n",
       "      <td>906076</td>\n",
       "      <td>1</td>\n",
       "    </tr>\n",
       "    <tr>\n",
       "      <th>783</th>\n",
       "      <td>954284</td>\n",
       "      <td>1</td>\n",
       "    </tr>\n",
       "    <tr>\n",
       "      <th>606</th>\n",
       "      <td>939698</td>\n",
       "      <td>1</td>\n",
       "    </tr>\n",
       "    <tr>\n",
       "      <th>782</th>\n",
       "      <td>954086</td>\n",
       "      <td>1</td>\n",
       "    </tr>\n",
       "    <tr>\n",
       "      <th>842</th>\n",
       "      <td>963716</td>\n",
       "      <td>1</td>\n",
       "    </tr>\n",
       "    <tr>\n",
       "      <th>776</th>\n",
       "      <td>952968</td>\n",
       "      <td>1</td>\n",
       "    </tr>\n",
       "    <tr>\n",
       "      <th>545</th>\n",
       "      <td>937716</td>\n",
       "      <td>1</td>\n",
       "    </tr>\n",
       "    <tr>\n",
       "      <th>65</th>\n",
       "      <td>891192</td>\n",
       "      <td>1</td>\n",
       "    </tr>\n",
       "    <tr>\n",
       "      <th>201</th>\n",
       "      <td>905480</td>\n",
       "      <td>1</td>\n",
       "    </tr>\n",
       "    <tr>\n",
       "      <th>544</th>\n",
       "      <td>937710</td>\n",
       "      <td>1</td>\n",
       "    </tr>\n",
       "    <tr>\n",
       "      <th>854</th>\n",
       "      <td>966686</td>\n",
       "      <td>1</td>\n",
       "    </tr>\n",
       "    <tr>\n",
       "      <th>211</th>\n",
       "      <td>905862</td>\n",
       "      <td>1</td>\n",
       "    </tr>\n",
       "    <tr>\n",
       "      <th>859</th>\n",
       "      <td>969262</td>\n",
       "      <td>1</td>\n",
       "    </tr>\n",
       "    <tr>\n",
       "      <th>46</th>\n",
       "      <td>890234</td>\n",
       "      <td>1</td>\n",
       "    </tr>\n",
       "    <tr>\n",
       "      <th>748</th>\n",
       "      <td>949420</td>\n",
       "      <td>1</td>\n",
       "    </tr>\n",
       "  </tbody>\n",
       "</table>\n",
       "</div>"
      ],
      "text/plain": [
       "     operator_id  calls_count\n",
       "217       906076            1\n",
       "783       954284            1\n",
       "606       939698            1\n",
       "782       954086            1\n",
       "842       963716            1\n",
       "776       952968            1\n",
       "545       937716            1\n",
       "65        891192            1\n",
       "201       905480            1\n",
       "544       937710            1\n",
       "854       966686            1\n",
       "211       905862            1\n",
       "859       969262            1\n",
       "46        890234            1\n",
       "748       949420            1"
      ]
     },
     "execution_count": 60,
     "metadata": {},
     "output_type": "execute_result"
    }
   ],
   "source": [
    "top_lowered_calls"
   ]
  },
  {
   "cell_type": "code",
   "execution_count": 61,
   "metadata": {
    "scrolled": true
   },
   "outputs": [],
   "source": [
    "# Relación entre llamadas perdidas y tiempo de espera para llamadas\n",
    "relation_by_operator = calls_analytics.groupby('operator_id', as_index=False).agg({'is_missed_call':'mean', 'wait_time':'mean'})"
   ]
  },
  {
   "cell_type": "code",
   "execution_count": 62,
   "metadata": {},
   "outputs": [
    {
     "data": {
      "image/png": "[encoded data removed]",
      "text/plain": [
       "<Figure size 640x480 with 1 Axes>"
      ]
     },
     "metadata": {},
     "output_type": "display_data"
    }
   ],
   "source": [
    "sns.scatterplot(data=relation_by_operator, x='is_missed_call', y='wait_time', hue='operator_id')\n",
    "plt.xlabel('Llamadas perdidas')\n",
    "plt.ylabel('Tiempo de espera')\n",
    "plt.title('Relación entre el tiempo de espera y cantidad de llamadas perdidas por operador')\n",
    "plt.show()"
   ]
  },
  {
   "cell_type": "markdown",
   "metadata": {},
   "source": [
    "Si bien no hay una relación lineal directa, es posible observar una tendencia que concentra una mayor cantidad de llamadas perdidas en relación a un mayor tiempo de espera; lo cual es factible y se relacionaría con una mala experiencia para estos clientes."
   ]
  },
  {
   "cell_type": "markdown",
   "metadata": {},
   "source": [
    "<div class=\"alert alert-block alert-success\">\n",
    "<b>Comentario del revisor (1ra Iteracion)</b> <a class=“tocSkip”></a>\n",
    "\n",
    "Buen trabajo con el análisis de cada variable relacionada al proyecto, planteaste gráficas correctas con conclusiones adecuadas dejando claro cada paso de tu proyecto\n",
    "</div>"
   ]
  },
  {
   "cell_type": "markdown",
   "metadata": {},
   "source": [
    "## Pruebas de Hipótesis"
   ]
  },
  {
   "cell_type": "markdown",
   "metadata": {},
   "source": [
    "Hipótesis: El promedio de llamadas perdidas es igual entre los operadores con gran tiempo de espera y bajo tiempo de espera"
   ]
  },
  {
   "cell_type": "code",
   "execution_count": 63,
   "metadata": {},
   "outputs": [
    {
     "data": {
      "text/plain": [
       "LeveneResult(statistic=212.12558048303504, pvalue=1.9435234296129977e-47)"
      ]
     },
     "execution_count": 63,
     "metadata": {},
     "output_type": "execute_result"
    }
   ],
   "source": [
    "# H0: el promedio de llamadas perdidas es igual entre los operadores con gran tiempo de espera y bajo tiempo de espera\n",
    "# H1: el promedio de llamadas perdidas es diferente entre operadores con gran tiempo de espera y bajo tiempo de espera\n",
    "\n",
    "# Considerando que el 3er cuartil para el tiempo de espera por operador está en los 58 segundos, se considerará un gran \n",
    "# tiempo de espera sobre 1 minuto\n",
    "\n",
    "# Dividir operadores con llamadas perdidas entre gran y bajo tiempo de espera \n",
    "high_wait_time = calls_in.query('is_missed_call == True & wait_time > 60')\n",
    "low_wait_time = calls_in.query('is_missed_call == True & wait_time <= 60')\n",
    "\n",
    "# Llamadas perdidas\n",
    "high_time_missed_calls = high_wait_time['calls_count']\n",
    "low_time_missed_calls = low_wait_time['calls_count']\n",
    "\n",
    "alpha = 0.05\n",
    "\n",
    "# significancia test Levene: 0.05\n",
    "st.levene(high_time_missed_calls, low_time_missed_calls)"
   ]
  },
  {
   "cell_type": "markdown",
   "metadata": {},
   "source": [
    "Del test de Levene se obtuvo valor p= 1.9435234296129977e-47 de modo tal que el parámetro equal var para el ttest sera = False"
   ]
  },
  {
   "cell_type": "code",
   "execution_count": 64,
   "metadata": {},
   "outputs": [
    {
     "name": "stdout",
     "output_type": "stream",
     "text": [
      "4.836060262882687e-31\n",
      "Rechazamos la hipótesis nula; la cantidad de llamadas perdidas difiere entre operadores con gran y bajo tiempo de espera\n"
     ]
    }
   ],
   "source": [
    "# Prueba t\n",
    "results = st.ttest_ind(high_time_missed_calls, low_time_missed_calls, equal_var=False)\n",
    "print(results.pvalue)\n",
    "\n",
    "if results.pvalue < alpha:\n",
    "    print('Rechazamos la hipótesis nula; la cantidad de llamadas perdidas difiere entre operadores con gran y bajo tiempo de espera')\n",
    "else:\n",
    "    print('No podemos rechazar la hipótesis nula; la cantidad de llamadas perdidas es igual entre operadores con gran y bajo tiempo de espera')"
   ]
  },
  {
   "cell_type": "markdown",
   "metadata": {},
   "source": [
    "Hipotesis: la cantidad de llamadas que tienen los operadores es igual entre los que tienen gran y bajo tiempo de espera"
   ]
  },
  {
   "cell_type": "code",
   "execution_count": 65,
   "metadata": {},
   "outputs": [
    {
     "data": {
      "text/plain": [
       "LeveneResult(statistic=1888.7467450028894, pvalue=0.0)"
      ]
     },
     "execution_count": 65,
     "metadata": {},
     "output_type": "execute_result"
    }
   ],
   "source": [
    "# H0: la cantidad de llamadas que tienen los operadores es igual entre los que tienen gran y bajo tiempo de espera\n",
    "# H1: la cantidad de llamadas que tienen los operadores difiere entre los que tienen gran y bajo tiempo de espera\n",
    "\n",
    "# Dividir operadores entre gran y bajo tiempo de espera \n",
    "wait_time_high = calls_analytics.query('wait_time > 60')\n",
    "wait_time_low = calls_analytics.query('wait_time <= 60')\n",
    "\n",
    "# Cantidad de llamadas\n",
    "calls_count_high_time = wait_time_high['calls_count']\n",
    "calls_count_low_time = wait_time_low['calls_count']\n",
    "\n",
    "alpha = 0.05\n",
    "\n",
    "# significancia test Levene: 0.05\n",
    "st.levene(calls_count_high_time, calls_count_low_time)"
   ]
  },
  {
   "cell_type": "markdown",
   "metadata": {},
   "source": [
    "Del test de Levene se obtuvo valor p= 1.9435234296129977e-47 de modo tal que el parámetro equal var para el ttest sera = False"
   ]
  },
  {
   "cell_type": "code",
   "execution_count": 66,
   "metadata": {},
   "outputs": [
    {
     "name": "stdout",
     "output_type": "stream",
     "text": [
      "0.0\n",
      "Rechazamos la hipótesis nula; la cantidad de llamadas que tienen los operadores difiere entre aquellos con gran y bajo tiempo de espera\n"
     ]
    }
   ],
   "source": [
    "# Prueba t\n",
    "results = st.ttest_ind(calls_count_high_time, calls_count_low_time, equal_var=False)\n",
    "print(results.pvalue)\n",
    "\n",
    "if results.pvalue < alpha:\n",
    "    print('Rechazamos la hipótesis nula; la cantidad de llamadas que tienen los operadores difiere entre aquellos con gran y bajo tiempo de espera')\n",
    "else:\n",
    "    print('No podemos rechazar la hipótesis nula; no hay diferencia en la cantidad de llamadas que tienen los operadores con gran y bajo tiempo de espera')"
   ]
  },
  {
   "cell_type": "markdown",
   "metadata": {},
   "source": [
    "<div class=\"alert alert-block alert-success\">\n",
    "<b>Comentario del revisor (1ra Iteracion)</b> <a class=“tocSkip”></a>\n",
    "\n",
    "Una excelente aplicación de las pruebas de hipótesis! Siempre es importante revisar con pruebas estadísticas las métricas para poder realizar un buen argumento de las conclusiones\n",
    "</div>"
   ]
  },
  {
   "cell_type": "markdown",
   "metadata": {},
   "source": [
    "## Conclusiones"
   ]
  },
  {
   "cell_type": "markdown",
   "metadata": {},
   "source": [
    "- Tenemos a través del registro, notables peaks y descensos en la cantidad de llamadas diarias, esto hace que exista mayor demanda en ciertos momentos, durante los cuales CallMeMaybe debería estar preparado para enfrentar este auge con mayor cantidad de operadores y otorgar una mayor respuesta hacia los usuarios, en pos de reducir el número de llamadas perdidas y largos tiempos de espera, lo cual proporciona una menor calidad en el servicio al cliente.\n",
    "\n",
    "- Al realizar un análisis mensual por plan, fue posible observar que la tarifa A es la que tiene considerablemente mayor cantidad de llamadas, sin embargo, contiene una menor cantidad de clientes respecto a las tarifas B y C, esto sugiere un relevante aspecto a abordar, pues es posible que estos clientes presenten más dudas, requieran solicitar ayuda, o tengan algún inconveniente; de cualquier forma están esperando una respuesta por parte del servicio y es imprescindible brindar una buena atención para evitar la pérdida de estos clientes.\n",
    "\n",
    "- Además, al visualizar la duración promedio y el tiempo de espera de las llamadas, nuevamente se encontró que el plan A tiene tiempos notablemente mayores en comparación a las tarifas B y C; lo cual puede relacionarse con la mayor demanda de llamadas y además, incrementar la baja de estos clientes que se aburren en la espera y no pronta resolución de sus solicitudes.\n",
    "\n",
    "- Si bien es posible observar una leve tendencia a la baja en la cantidad de llamadas perdidas para todos los planes; la disminución es leve y es posible una oportunidad de mejora en este punto.\n",
    "\n",
    "- El tiempo de espera promedio en Call Me Maybe es demasiado alto para lo que se ha documentado en este tipo de servicios (generalmente alrededor de 30 segundos) pues el promedio son 58 segundos, pero con una desviación estándar de 94 seg. Encontrándo 21 operadores con un tiempo mayor a los 5 min, lo cual mermará la conformidad del cliente con el servicio, generando mayores disgustos y aumentando la probabilidad de perder clientes.\n",
    "\n",
    "- Las hipótesis probadas nos ayudan a entender que existen diferencias significativas entre la cantidad de llamadas que reciben y aquellas perdidas entre operadores con gran tiempo de espera vs aquellos con un tiempo de espera reducido; por lo que es de gran relevancia buscar puntos de mejora que reduzcan estos tiempos y puedan incidir a la vez en disminuir esta cantidad de llamadas no contestadas. A la vez, es posible buscar oportunidades de mejora en el servicio que logren incidir en que los clientes reduzcan su número de llamadas para que los operadores no se vean sobrepasados."
   ]
  },
  {
   "cell_type": "markdown",
   "metadata": {},
   "source": [
    "## Sugerencias"
   ]
  },
  {
   "cell_type": "markdown",
   "metadata": {},
   "source": [
    "- Hacer un conglomerado de preguntas frecuentes a las cuales se les brinde respuesta en la pág web, buscando promover el \"autoservicio\" para que los usuarios puedan ir resolviendo sus dudas, también se podrían realizar videos explicativos/informativos sobre aquellas inquietudes que más se repiten con el fin de reducir la cantidad de llamadas por parte de los clientes y evitar colapsos en el servicio que inciden directamente en mayores tiempos de espera y posiblemente una mayor cantidad de solicitudes sin respuesta.\n",
    "\n",
    "- Ahondar en las causas de las principales llamadas de los clientes; como fue posible observar, la cantidad de llamadas tienen considerablemente mayor frecuencia en el primer día de cada mes, quizá esto podría relacionarse con la fecha de facturación y con dudas en torno a esto por parte de los clientes, de modo que de ser el caso; se le podrían enviar avisos o recordatorios a los clientes días previos para disminuir sus inquietudes, esto podría no sólo incidir en una menor frecuencia de llamadas, sino también en la mejora de la experiencia del cliente.\n",
    "\n",
    "- Tener operadores capacitados específicamente en las áreas de mayor duda/queja por parte de los clientes, de modo que esto permita generar un sistema omnical de \"enrutamiento\" de la llamada, lo cual puede disminuir el tiempo de espera para el usuario en que le respondan y luego sea dirigido con una persona que estará capacitada que podría resolver con mayor rapidez su inquietud, lo cual también puede mejorar la experiencia del cliente e ir disminuyendo el gran volumen de llamadas que puede recibir un operador.\n",
    "\n",
    "- En relación a lo anterior; proveer una capacitación continúa a los operadores también puede contribuir en la reducción de la duración media de las llamadas, puesto que las inquietudes pueden ser resueltas con mayor eficacia."
   ]
  },
  {
   "cell_type": "markdown",
   "metadata": {},
   "source": [
    "## Referencias"
   ]
  },
  {
   "cell_type": "markdown",
   "metadata": {},
   "source": [
    "Dinesh Silwal. (29/Agosto/2024). Reducción de llamadas: las mejores estrategias para reducir el volumen del centro de llamadas. KrispCall. Recuperado el 5 de enero de 2025 de https://krispcall.com/blog/call-reduction/. \n",
    "- Este artículo ayudó a comprender diferentes recoemndaciones para las empresas de telecomunicaciones que se realizan con el fin de optimizar el servicio.\n",
    "\n",
    "(sin fecha). Análisis de las métricas: ¿cuáles KPI son importantes en un call center?. Sidial Software Cloud. Recuperado el 5 de enero de 2025 de https://sidial.cloud/es/blog-es/analisis-de-las-metricas-cuales-kpi-son-importantes-en-un-call-center/\n",
    "- Con este artículo fue posible revisar que los análisis de métricas realizados fueran pertinentes.\n",
    "\n",
    "(24/Octubre/2024). Cómo el análisis de llamadas mejora la calidad en los call centers. Numintec, a Telavox company. Recuperado el 5 de enero de 2025 de https://www.numintec.com/como-el-analisis-de-llamadas-mejora-la-calidad-en-los-call-centers/  \n",
    "- Artículo que ayudó a comprender con mayor profundida cómo los dierentes aspectos de las llamadas inciden en la calidad del servicio.\n",
    "\n",
    "Peter Alig. (26/Julio/2024). Gestión de centros de llamadas: mejores prácticas y principales KPI para mejorar las operaciones. Zendesk. Recuperado el 5 de enero de 2025 de https://www.zendesk.com/blog/call-center-management/#ImproveyourcontactcentermanagementwithZendesk  \n",
    "- Artículo que ayudó a enfatizar recomendaciones pertinentes al servicio de llamadas.\n",
    "\n",
    "Colin Mead. (20/Marzo/2024). Llamadas perdidas y cómo afectan a tu negocio. Absent Answer, Call center specialist. Recuperado el 5 de enero de 2025 de https://www.absentanswer.com/blog/cost-of-missed-calls/\n",
    "- Comprender cómo las llamadas perdidas pueden relacionarse con otros factores y cómo éstas pueden mermar la experiencia del cliente."
   ]
  },
  {
   "cell_type": "markdown",
   "metadata": {},
   "source": [
    "<div class=\"alert alert-block alert-success\">\n",
    "<b>Comentario general (1ra Iteracion)</b> <a class=“tocSkip”></a>\n",
    "\n",
    "**¡Te felicito por el trabajo realizado Macarena!** Con este proyecto demuestras las habilidades adquiridas durante tu formación, se nota tu capacidad de contar historias con datos con la excelente presentación realizada que súper fácil de entender lo cual es una habilidad super importante cómo analista de datos, el saber comunicar de manera sencilla y eficiente los resultados de tus análisis.\n",
    "    \n",
    "Se nota mucho el manejo que tienes de las librerías para crear visualizaciones muy buenas que explican correctamente las variables analizadas, te animo a seguir práctica con otros recursos y que vayas construyendo un portafolio de proyectos súper robusto para que seas una profesional de primera en el mundo laboral.\n",
    "    \n",
    "Además, el dashboard le da más valor a tu proyecto ya que es una forma interactiva de compartir lo que se ha analizado. Te felicito por el gran trabajo realizado en tu proyecto.\n",
    "   \n",
    "Saludos!\n",
    "</div>"
   ]
  }
 ],
 "metadata": {
  "ExecuteTimeLog": [
   {
    "duration": 2463,
    "start_time": "2024-12-27T21:13:40.858Z"
   },
   {
    "duration": 65,
    "start_time": "2024-12-27T21:14:45.012Z"
   },
   {
    "duration": 15,
    "start_time": "2024-12-27T21:14:47.638Z"
   },
   {
    "duration": 9,
    "start_time": "2024-12-27T21:15:18.498Z"
   },
   {
    "duration": 8,
    "start_time": "2024-12-27T21:15:29.952Z"
   },
   {
    "duration": 17,
    "start_time": "2024-12-27T21:16:29.248Z"
   },
   {
    "duration": 6,
    "start_time": "2024-12-27T21:25:31.305Z"
   },
   {
    "duration": 8,
    "start_time": "2024-12-27T21:25:41.633Z"
   },
   {
    "duration": 15,
    "start_time": "2024-12-27T21:27:10.720Z"
   },
   {
    "duration": 15,
    "start_time": "2024-12-27T21:27:39.725Z"
   },
   {
    "duration": 6,
    "start_time": "2024-12-27T21:28:15.562Z"
   },
   {
    "duration": 5,
    "start_time": "2024-12-27T21:28:47.960Z"
   },
   {
    "duration": 9,
    "start_time": "2024-12-27T21:29:08.260Z"
   },
   {
    "duration": 12,
    "start_time": "2024-12-27T21:29:16.526Z"
   },
   {
    "duration": 13,
    "start_time": "2024-12-27T21:29:21.742Z"
   },
   {
    "duration": 11,
    "start_time": "2024-12-27T21:32:43.713Z"
   },
   {
    "duration": 15,
    "start_time": "2024-12-27T21:32:55.917Z"
   },
   {
    "duration": 2448,
    "start_time": "2024-12-28T00:31:29.193Z"
   },
   {
    "duration": 60,
    "start_time": "2024-12-28T00:31:31.643Z"
   },
   {
    "duration": 7,
    "start_time": "2024-12-28T00:31:31.705Z"
   },
   {
    "duration": 12,
    "start_time": "2024-12-28T00:31:31.714Z"
   },
   {
    "duration": 13,
    "start_time": "2024-12-28T00:31:31.729Z"
   },
   {
    "duration": 6,
    "start_time": "2024-12-28T00:31:31.744Z"
   },
   {
    "duration": 20,
    "start_time": "2024-12-28T00:31:31.751Z"
   },
   {
    "duration": 16,
    "start_time": "2024-12-28T00:31:31.773Z"
   },
   {
    "duration": 15,
    "start_time": "2024-12-28T00:31:31.791Z"
   },
   {
    "duration": 4,
    "start_time": "2024-12-28T00:31:31.808Z"
   },
   {
    "duration": 9,
    "start_time": "2024-12-28T00:31:31.814Z"
   },
   {
    "duration": 46,
    "start_time": "2024-12-28T00:31:31.824Z"
   },
   {
    "duration": 13,
    "start_time": "2024-12-28T00:31:31.872Z"
   },
   {
    "duration": 3,
    "start_time": "2024-12-28T00:31:55.391Z"
   },
   {
    "duration": 3,
    "start_time": "2024-12-28T00:32:14.601Z"
   },
   {
    "duration": 12,
    "start_time": "2024-12-28T00:32:55.367Z"
   },
   {
    "duration": 19,
    "start_time": "2024-12-28T00:33:52.666Z"
   },
   {
    "duration": 12,
    "start_time": "2024-12-28T00:33:57.750Z"
   },
   {
    "duration": 5,
    "start_time": "2024-12-28T00:40:14.322Z"
   },
   {
    "duration": 10,
    "start_time": "2024-12-28T00:40:18.801Z"
   },
   {
    "duration": 8,
    "start_time": "2024-12-28T00:40:25.002Z"
   },
   {
    "duration": 2567,
    "start_time": "2024-12-28T01:39:55.279Z"
   },
   {
    "duration": 62,
    "start_time": "2024-12-28T01:39:57.849Z"
   },
   {
    "duration": 8,
    "start_time": "2024-12-28T01:39:57.912Z"
   },
   {
    "duration": 11,
    "start_time": "2024-12-28T01:39:57.922Z"
   },
   {
    "duration": 13,
    "start_time": "2024-12-28T01:39:57.935Z"
   },
   {
    "duration": 6,
    "start_time": "2024-12-28T01:39:57.950Z"
   },
   {
    "duration": 13,
    "start_time": "2024-12-28T01:39:57.958Z"
   },
   {
    "duration": 15,
    "start_time": "2024-12-28T01:39:57.973Z"
   },
   {
    "duration": 15,
    "start_time": "2024-12-28T01:39:57.990Z"
   },
   {
    "duration": 5,
    "start_time": "2024-12-28T01:39:58.007Z"
   },
   {
    "duration": 8,
    "start_time": "2024-12-28T01:39:58.014Z"
   },
   {
    "duration": 50,
    "start_time": "2024-12-28T01:39:58.024Z"
   },
   {
    "duration": 3,
    "start_time": "2024-12-28T01:39:58.076Z"
   },
   {
    "duration": 3,
    "start_time": "2024-12-28T01:39:58.082Z"
   },
   {
    "duration": 5,
    "start_time": "2024-12-28T01:39:58.086Z"
   },
   {
    "duration": 8,
    "start_time": "2024-12-28T01:39:58.092Z"
   },
   {
    "duration": 5,
    "start_time": "2024-12-28T01:48:02.955Z"
   },
   {
    "duration": 9,
    "start_time": "2024-12-28T01:54:01.108Z"
   },
   {
    "duration": 5,
    "start_time": "2024-12-28T02:01:25.445Z"
   },
   {
    "duration": 15,
    "start_time": "2024-12-28T02:01:28.407Z"
   },
   {
    "duration": 2464,
    "start_time": "2024-12-28T12:10:23.441Z"
   },
   {
    "duration": 59,
    "start_time": "2024-12-28T12:10:25.908Z"
   },
   {
    "duration": 9,
    "start_time": "2024-12-28T12:10:25.968Z"
   },
   {
    "duration": 10,
    "start_time": "2024-12-28T12:10:25.979Z"
   },
   {
    "duration": 13,
    "start_time": "2024-12-28T12:10:25.992Z"
   },
   {
    "duration": 6,
    "start_time": "2024-12-28T12:10:26.006Z"
   },
   {
    "duration": 21,
    "start_time": "2024-12-28T12:10:26.014Z"
   },
   {
    "duration": 15,
    "start_time": "2024-12-28T12:10:26.037Z"
   },
   {
    "duration": 15,
    "start_time": "2024-12-28T12:10:26.054Z"
   },
   {
    "duration": 6,
    "start_time": "2024-12-28T12:10:26.070Z"
   },
   {
    "duration": 9,
    "start_time": "2024-12-28T12:10:26.078Z"
   },
   {
    "duration": 46,
    "start_time": "2024-12-28T12:10:26.088Z"
   },
   {
    "duration": 3,
    "start_time": "2024-12-28T12:10:26.136Z"
   },
   {
    "duration": 3,
    "start_time": "2024-12-28T12:10:26.142Z"
   },
   {
    "duration": 4,
    "start_time": "2024-12-28T12:10:26.147Z"
   },
   {
    "duration": 4,
    "start_time": "2024-12-28T12:10:26.152Z"
   },
   {
    "duration": 13,
    "start_time": "2024-12-28T12:10:26.158Z"
   },
   {
    "duration": 2467,
    "start_time": "2024-12-28T16:46:36.893Z"
   },
   {
    "duration": 59,
    "start_time": "2024-12-28T16:46:39.363Z"
   },
   {
    "duration": 7,
    "start_time": "2024-12-28T16:46:39.423Z"
   },
   {
    "duration": 10,
    "start_time": "2024-12-28T16:46:39.432Z"
   },
   {
    "duration": 13,
    "start_time": "2024-12-28T16:46:39.445Z"
   },
   {
    "duration": 6,
    "start_time": "2024-12-28T16:46:39.459Z"
   },
   {
    "duration": 21,
    "start_time": "2024-12-28T16:46:39.467Z"
   },
   {
    "duration": 15,
    "start_time": "2024-12-28T16:46:39.490Z"
   },
   {
    "duration": 16,
    "start_time": "2024-12-28T16:46:39.507Z"
   },
   {
    "duration": 5,
    "start_time": "2024-12-28T16:46:39.524Z"
   },
   {
    "duration": 9,
    "start_time": "2024-12-28T16:46:39.530Z"
   },
   {
    "duration": 19,
    "start_time": "2024-12-28T16:46:39.541Z"
   },
   {
    "duration": 28,
    "start_time": "2024-12-28T16:46:39.561Z"
   },
   {
    "duration": 3,
    "start_time": "2024-12-28T16:46:39.592Z"
   },
   {
    "duration": 5,
    "start_time": "2024-12-28T16:46:39.596Z"
   },
   {
    "duration": 4,
    "start_time": "2024-12-28T16:46:39.603Z"
   },
   {
    "duration": 15,
    "start_time": "2024-12-28T16:46:39.609Z"
   },
   {
    "duration": 5,
    "start_time": "2024-12-28T16:47:58.619Z"
   },
   {
    "duration": 15,
    "start_time": "2024-12-28T16:48:11.632Z"
   },
   {
    "duration": 13,
    "start_time": "2024-12-28T16:51:27.499Z"
   },
   {
    "duration": 10,
    "start_time": "2024-12-28T16:52:53.112Z"
   },
   {
    "duration": 5,
    "start_time": "2024-12-28T16:54:13.797Z"
   },
   {
    "duration": 11,
    "start_time": "2024-12-28T16:54:18.433Z"
   },
   {
    "duration": 3,
    "start_time": "2024-12-28T16:55:10.694Z"
   },
   {
    "duration": 14,
    "start_time": "2024-12-28T16:55:14.194Z"
   },
   {
    "duration": 17,
    "start_time": "2024-12-28T16:55:40.496Z"
   },
   {
    "duration": 14,
    "start_time": "2024-12-28T17:10:15.380Z"
   },
   {
    "duration": 66,
    "start_time": "2024-12-28T17:10:47.696Z"
   },
   {
    "duration": 170,
    "start_time": "2024-12-28T17:12:02.137Z"
   },
   {
    "duration": 21,
    "start_time": "2024-12-28T17:12:14.007Z"
   },
   {
    "duration": 3776,
    "start_time": "2024-12-28T17:12:57.821Z"
   },
   {
    "duration": 4,
    "start_time": "2024-12-28T17:13:25.899Z"
   },
   {
    "duration": 511,
    "start_time": "2024-12-28T17:13:37.650Z"
   },
   {
    "duration": 5,
    "start_time": "2024-12-28T17:13:43.555Z"
   },
   {
    "duration": 5,
    "start_time": "2024-12-28T17:15:41.070Z"
   },
   {
    "duration": 9,
    "start_time": "2024-12-28T17:19:05.099Z"
   },
   {
    "duration": 194,
    "start_time": "2024-12-28T17:20:16.959Z"
   },
   {
    "duration": 201,
    "start_time": "2024-12-28T17:20:31.479Z"
   },
   {
    "duration": 452,
    "start_time": "2024-12-28T17:23:14.280Z"
   },
   {
    "duration": 2544,
    "start_time": "2024-12-28T18:22:37.271Z"
   },
   {
    "duration": 55,
    "start_time": "2024-12-28T18:22:39.818Z"
   },
   {
    "duration": 7,
    "start_time": "2024-12-28T18:22:39.875Z"
   },
   {
    "duration": 11,
    "start_time": "2024-12-28T18:22:39.884Z"
   },
   {
    "duration": 16,
    "start_time": "2024-12-28T18:22:39.898Z"
   },
   {
    "duration": 6,
    "start_time": "2024-12-28T18:22:39.915Z"
   },
   {
    "duration": 8,
    "start_time": "2024-12-28T18:22:39.923Z"
   },
   {
    "duration": 16,
    "start_time": "2024-12-28T18:22:39.933Z"
   },
   {
    "duration": 15,
    "start_time": "2024-12-28T18:22:39.950Z"
   },
   {
    "duration": 4,
    "start_time": "2024-12-28T18:22:39.967Z"
   },
   {
    "duration": 37,
    "start_time": "2024-12-28T18:22:39.973Z"
   },
   {
    "duration": 9,
    "start_time": "2024-12-28T18:22:40.012Z"
   },
   {
    "duration": 19,
    "start_time": "2024-12-28T18:22:40.023Z"
   },
   {
    "duration": 2,
    "start_time": "2024-12-28T18:22:40.045Z"
   },
   {
    "duration": 3,
    "start_time": "2024-12-28T18:22:40.049Z"
   },
   {
    "duration": 5,
    "start_time": "2024-12-28T18:22:40.054Z"
   },
   {
    "duration": 9,
    "start_time": "2024-12-28T18:22:40.060Z"
   },
   {
    "duration": 40,
    "start_time": "2024-12-28T18:22:40.071Z"
   },
   {
    "duration": 3,
    "start_time": "2024-12-28T18:22:40.112Z"
   },
   {
    "duration": 4,
    "start_time": "2024-12-28T18:22:40.117Z"
   },
   {
    "duration": 5,
    "start_time": "2024-12-28T18:22:40.123Z"
   },
   {
    "duration": 244,
    "start_time": "2024-12-28T18:22:40.130Z"
   },
   {
    "duration": 7,
    "start_time": "2024-12-28T18:22:40.377Z"
   },
   {
    "duration": 15,
    "start_time": "2024-12-28T18:37:40.477Z"
   },
   {
    "duration": 2473,
    "start_time": "2024-12-30T17:35:53.062Z"
   },
   {
    "duration": 59,
    "start_time": "2024-12-30T17:35:55.537Z"
   },
   {
    "duration": 6,
    "start_time": "2024-12-30T17:35:55.598Z"
   },
   {
    "duration": 11,
    "start_time": "2024-12-30T17:35:55.607Z"
   },
   {
    "duration": 13,
    "start_time": "2024-12-30T17:35:55.619Z"
   },
   {
    "duration": 6,
    "start_time": "2024-12-30T17:35:55.634Z"
   },
   {
    "duration": 9,
    "start_time": "2024-12-30T17:35:55.641Z"
   },
   {
    "duration": 48,
    "start_time": "2024-12-30T17:35:55.651Z"
   },
   {
    "duration": 15,
    "start_time": "2024-12-30T17:35:55.700Z"
   },
   {
    "duration": 4,
    "start_time": "2024-12-30T17:35:55.718Z"
   },
   {
    "duration": 4,
    "start_time": "2024-12-30T17:35:55.724Z"
   },
   {
    "duration": 8,
    "start_time": "2024-12-30T17:35:55.730Z"
   },
   {
    "duration": 19,
    "start_time": "2024-12-30T17:35:55.740Z"
   },
   {
    "duration": 4,
    "start_time": "2024-12-30T17:35:55.787Z"
   },
   {
    "duration": 2,
    "start_time": "2024-12-30T17:35:55.793Z"
   },
   {
    "duration": 4,
    "start_time": "2024-12-30T17:35:55.797Z"
   },
   {
    "duration": 6,
    "start_time": "2024-12-30T17:35:55.802Z"
   },
   {
    "duration": 4,
    "start_time": "2024-12-30T17:35:55.811Z"
   },
   {
    "duration": 3,
    "start_time": "2024-12-30T17:35:55.817Z"
   },
   {
    "duration": 4,
    "start_time": "2024-12-30T17:35:55.822Z"
   },
   {
    "duration": 4,
    "start_time": "2024-12-30T17:35:55.827Z"
   },
   {
    "duration": 248,
    "start_time": "2024-12-30T17:35:55.833Z"
   },
   {
    "duration": 5,
    "start_time": "2024-12-30T17:35:56.087Z"
   },
   {
    "duration": 14,
    "start_time": "2024-12-30T17:35:56.093Z"
   },
   {
    "duration": 5,
    "start_time": "2024-12-30T17:44:51.186Z"
   },
   {
    "duration": 14,
    "start_time": "2024-12-30T17:45:33.630Z"
   },
   {
    "duration": 6,
    "start_time": "2024-12-30T17:46:03.930Z"
   },
   {
    "duration": 18,
    "start_time": "2024-12-30T17:46:14.550Z"
   },
   {
    "duration": 5192,
    "start_time": "2024-12-30T17:47:12.552Z"
   },
   {
    "duration": 5315,
    "start_time": "2024-12-30T17:47:37.591Z"
   },
   {
    "duration": 101,
    "start_time": "2024-12-30T17:48:33.131Z"
   },
   {
    "duration": 5,
    "start_time": "2024-12-30T17:49:23.530Z"
   },
   {
    "duration": 5,
    "start_time": "2024-12-30T17:49:42.031Z"
   },
   {
    "duration": 9,
    "start_time": "2024-12-30T17:50:04.761Z"
   },
   {
    "duration": 7,
    "start_time": "2024-12-30T17:54:51.157Z"
   },
   {
    "duration": 7,
    "start_time": "2024-12-30T17:57:03.643Z"
   },
   {
    "duration": 5376,
    "start_time": "2024-12-30T18:03:43.678Z"
   },
   {
    "duration": 410,
    "start_time": "2024-12-30T18:04:14.798Z"
   },
   {
    "duration": 25113,
    "start_time": "2024-12-30T18:04:47.717Z"
   },
   {
    "duration": 37,
    "start_time": "2024-12-30T18:08:02.098Z"
   },
   {
    "duration": 7,
    "start_time": "2024-12-30T18:09:14.662Z"
   },
   {
    "duration": 27,
    "start_time": "2024-12-30T18:09:57.193Z"
   },
   {
    "duration": 2495,
    "start_time": "2024-12-30T19:01:22.711Z"
   },
   {
    "duration": 58,
    "start_time": "2024-12-30T19:01:25.208Z"
   },
   {
    "duration": 6,
    "start_time": "2024-12-30T19:01:25.268Z"
   },
   {
    "duration": 11,
    "start_time": "2024-12-30T19:01:25.276Z"
   },
   {
    "duration": 13,
    "start_time": "2024-12-30T19:01:25.288Z"
   },
   {
    "duration": 6,
    "start_time": "2024-12-30T19:01:25.303Z"
   },
   {
    "duration": 7,
    "start_time": "2024-12-30T19:01:25.311Z"
   },
   {
    "duration": 15,
    "start_time": "2024-12-30T19:01:25.320Z"
   },
   {
    "duration": 46,
    "start_time": "2024-12-30T19:01:25.337Z"
   },
   {
    "duration": 4,
    "start_time": "2024-12-30T19:01:25.388Z"
   },
   {
    "duration": 4,
    "start_time": "2024-12-30T19:01:25.394Z"
   },
   {
    "duration": 9,
    "start_time": "2024-12-30T19:01:25.400Z"
   },
   {
    "duration": 18,
    "start_time": "2024-12-30T19:01:25.410Z"
   },
   {
    "duration": 3,
    "start_time": "2024-12-30T19:01:25.429Z"
   },
   {
    "duration": 36,
    "start_time": "2024-12-30T19:01:25.434Z"
   },
   {
    "duration": 4,
    "start_time": "2024-12-30T19:01:25.472Z"
   },
   {
    "duration": 6,
    "start_time": "2024-12-30T19:01:25.478Z"
   },
   {
    "duration": 6,
    "start_time": "2024-12-30T19:01:25.486Z"
   },
   {
    "duration": 3,
    "start_time": "2024-12-30T19:01:25.493Z"
   },
   {
    "duration": 4,
    "start_time": "2024-12-30T19:01:25.498Z"
   },
   {
    "duration": 4,
    "start_time": "2024-12-30T19:01:25.504Z"
   },
   {
    "duration": 66,
    "start_time": "2024-12-30T19:01:25.509Z"
   },
   {
    "duration": 213,
    "start_time": "2024-12-30T19:01:25.576Z"
   },
   {
    "duration": 5,
    "start_time": "2024-12-30T19:01:25.790Z"
   },
   {
    "duration": 9,
    "start_time": "2024-12-30T19:01:25.797Z"
   },
   {
    "duration": 7,
    "start_time": "2024-12-30T19:01:25.808Z"
   },
   {
    "duration": 98,
    "start_time": "2024-12-30T19:30:22.743Z"
   },
   {
    "duration": 1008,
    "start_time": "2024-12-30T19:30:47.524Z"
   },
   {
    "duration": 7,
    "start_time": "2024-12-30T19:31:11.743Z"
   },
   {
    "duration": 11,
    "start_time": "2024-12-30T19:35:04.242Z"
   },
   {
    "duration": 19,
    "start_time": "2024-12-30T19:35:11.526Z"
   },
   {
    "duration": 9,
    "start_time": "2024-12-30T19:35:48.443Z"
   },
   {
    "duration": 21,
    "start_time": "2024-12-30T19:37:05.746Z"
   },
   {
    "duration": 14,
    "start_time": "2024-12-30T19:37:15.964Z"
   },
   {
    "duration": 13688,
    "start_time": "2024-12-30T19:37:53.495Z"
   },
   {
    "duration": 127,
    "start_time": "2024-12-30T19:38:55.643Z"
   },
   {
    "duration": 577,
    "start_time": "2024-12-30T19:39:50.849Z"
   },
   {
    "duration": 125,
    "start_time": "2024-12-30T19:40:28.223Z"
   },
   {
    "duration": 582,
    "start_time": "2024-12-30T19:40:45.922Z"
   },
   {
    "duration": 2527,
    "start_time": "2024-12-30T20:12:43.864Z"
   },
   {
    "duration": 59,
    "start_time": "2024-12-30T20:12:46.392Z"
   },
   {
    "duration": 7,
    "start_time": "2024-12-30T20:12:46.453Z"
   },
   {
    "duration": 10,
    "start_time": "2024-12-30T20:12:46.462Z"
   },
   {
    "duration": 14,
    "start_time": "2024-12-30T20:12:46.474Z"
   },
   {
    "duration": 6,
    "start_time": "2024-12-30T20:12:46.489Z"
   },
   {
    "duration": 7,
    "start_time": "2024-12-30T20:12:46.497Z"
   },
   {
    "duration": 16,
    "start_time": "2024-12-30T20:12:46.506Z"
   },
   {
    "duration": 48,
    "start_time": "2024-12-30T20:12:46.524Z"
   },
   {
    "duration": 7,
    "start_time": "2024-12-30T20:12:46.576Z"
   },
   {
    "duration": 5,
    "start_time": "2024-12-30T20:12:46.585Z"
   },
   {
    "duration": 10,
    "start_time": "2024-12-30T20:12:46.591Z"
   },
   {
    "duration": 19,
    "start_time": "2024-12-30T20:12:46.602Z"
   },
   {
    "duration": 4,
    "start_time": "2024-12-30T20:12:46.622Z"
   },
   {
    "duration": 3,
    "start_time": "2024-12-30T20:12:46.627Z"
   },
   {
    "duration": 38,
    "start_time": "2024-12-30T20:12:46.632Z"
   },
   {
    "duration": 9,
    "start_time": "2024-12-30T20:12:46.672Z"
   },
   {
    "duration": 7,
    "start_time": "2024-12-30T20:12:46.683Z"
   },
   {
    "duration": 4,
    "start_time": "2024-12-30T20:12:46.691Z"
   },
   {
    "duration": 5,
    "start_time": "2024-12-30T20:12:46.696Z"
   },
   {
    "duration": 4,
    "start_time": "2024-12-30T20:12:46.703Z"
   },
   {
    "duration": 63,
    "start_time": "2024-12-30T20:12:46.709Z"
   },
   {
    "duration": 218,
    "start_time": "2024-12-30T20:12:46.774Z"
   },
   {
    "duration": 5,
    "start_time": "2024-12-30T20:12:46.994Z"
   },
   {
    "duration": 11,
    "start_time": "2024-12-30T20:12:47.000Z"
   },
   {
    "duration": 9,
    "start_time": "2024-12-30T20:12:47.013Z"
   },
   {
    "duration": 15,
    "start_time": "2024-12-30T20:12:47.024Z"
   },
   {
    "duration": 13556,
    "start_time": "2024-12-30T20:12:47.042Z"
   },
   {
    "duration": 586,
    "start_time": "2024-12-30T20:13:00.600Z"
   },
   {
    "duration": 7,
    "start_time": "2024-12-30T20:20:18.688Z"
   },
   {
    "duration": 4,
    "start_time": "2024-12-30T20:20:24.663Z"
   },
   {
    "duration": 1521,
    "start_time": "2024-12-30T20:20:28.140Z"
   },
   {
    "duration": 11,
    "start_time": "2024-12-30T20:21:05.084Z"
   },
   {
    "duration": 5,
    "start_time": "2024-12-30T20:21:13.843Z"
   },
   {
    "duration": 137,
    "start_time": "2024-12-30T20:21:27.475Z"
   },
   {
    "duration": 10,
    "start_time": "2024-12-30T20:21:44.427Z"
   },
   {
    "duration": 110,
    "start_time": "2024-12-30T20:21:54.654Z"
   },
   {
    "duration": 143,
    "start_time": "2024-12-30T20:22:16.683Z"
   },
   {
    "duration": 892,
    "start_time": "2024-12-30T20:22:52.923Z"
   },
   {
    "duration": 81,
    "start_time": "2024-12-30T20:22:59.482Z"
   },
   {
    "duration": 2119,
    "start_time": "2024-12-30T20:23:39.685Z"
   },
   {
    "duration": 5,
    "start_time": "2024-12-30T20:24:45.383Z"
   },
   {
    "duration": 6,
    "start_time": "2024-12-30T20:25:12.264Z"
   },
   {
    "duration": 11894,
    "start_time": "2024-12-30T20:25:35.576Z"
   },
   {
    "duration": 80,
    "start_time": "2024-12-30T20:26:45.784Z"
   },
   {
    "duration": 84,
    "start_time": "2024-12-30T20:27:37.585Z"
   },
   {
    "duration": 81,
    "start_time": "2024-12-30T20:27:54.116Z"
   },
   {
    "duration": 83,
    "start_time": "2024-12-30T20:28:09.955Z"
   },
   {
    "duration": 11955,
    "start_time": "2024-12-30T20:28:37.343Z"
   },
   {
    "duration": 7,
    "start_time": "2024-12-30T20:37:48.241Z"
   },
   {
    "duration": 16,
    "start_time": "2024-12-30T20:37:51.076Z"
   },
   {
    "duration": 2604,
    "start_time": "2024-12-31T20:19:59.179Z"
   },
   {
    "duration": 62,
    "start_time": "2024-12-31T20:20:01.785Z"
   },
   {
    "duration": 9,
    "start_time": "2024-12-31T20:20:01.848Z"
   },
   {
    "duration": 13,
    "start_time": "2024-12-31T20:20:01.859Z"
   },
   {
    "duration": 16,
    "start_time": "2024-12-31T20:20:01.875Z"
   },
   {
    "duration": 7,
    "start_time": "2024-12-31T20:20:01.893Z"
   },
   {
    "duration": 30,
    "start_time": "2024-12-31T20:20:01.903Z"
   },
   {
    "duration": 17,
    "start_time": "2024-12-31T20:20:01.935Z"
   },
   {
    "duration": 19,
    "start_time": "2024-12-31T20:20:01.958Z"
   },
   {
    "duration": 5,
    "start_time": "2024-12-31T20:20:01.979Z"
   },
   {
    "duration": 6,
    "start_time": "2024-12-31T20:20:01.985Z"
   },
   {
    "duration": 9,
    "start_time": "2024-12-31T20:20:01.992Z"
   },
   {
    "duration": 45,
    "start_time": "2024-12-31T20:20:02.003Z"
   },
   {
    "duration": 2,
    "start_time": "2024-12-31T20:20:02.052Z"
   },
   {
    "duration": 3,
    "start_time": "2024-12-31T20:20:02.056Z"
   },
   {
    "duration": 4,
    "start_time": "2024-12-31T20:20:02.060Z"
   },
   {
    "duration": 7,
    "start_time": "2024-12-31T20:20:02.066Z"
   },
   {
    "duration": 8,
    "start_time": "2024-12-31T20:20:02.075Z"
   },
   {
    "duration": 7,
    "start_time": "2024-12-31T20:20:02.085Z"
   },
   {
    "duration": 5,
    "start_time": "2024-12-31T20:20:02.094Z"
   },
   {
    "duration": 31,
    "start_time": "2024-12-31T20:20:02.101Z"
   },
   {
    "duration": 30,
    "start_time": "2024-12-31T20:20:02.133Z"
   },
   {
    "duration": 224,
    "start_time": "2024-12-31T20:20:02.165Z"
   },
   {
    "duration": 5,
    "start_time": "2024-12-31T20:20:02.390Z"
   },
   {
    "duration": 11,
    "start_time": "2024-12-31T20:20:02.397Z"
   },
   {
    "duration": 30,
    "start_time": "2024-12-31T20:20:02.409Z"
   },
   {
    "duration": 13,
    "start_time": "2024-12-31T20:20:02.441Z"
   },
   {
    "duration": 2023,
    "start_time": "2024-12-31T20:20:02.455Z"
   },
   {
    "duration": 5,
    "start_time": "2024-12-31T20:20:04.480Z"
   },
   {
    "duration": 97,
    "start_time": "2024-12-31T20:20:04.487Z"
   },
   {
    "duration": 6,
    "start_time": "2024-12-31T20:20:04.586Z"
   },
   {
    "duration": 4,
    "start_time": "2024-12-31T20:20:04.594Z"
   },
   {
    "duration": 2584,
    "start_time": "2025-01-02T18:56:46.009Z"
   },
   {
    "duration": 58,
    "start_time": "2025-01-02T18:56:48.595Z"
   },
   {
    "duration": 9,
    "start_time": "2025-01-02T18:56:48.655Z"
   },
   {
    "duration": 12,
    "start_time": "2025-01-02T18:56:48.665Z"
   },
   {
    "duration": 14,
    "start_time": "2025-01-02T18:56:48.680Z"
   },
   {
    "duration": 6,
    "start_time": "2025-01-02T18:56:48.696Z"
   },
   {
    "duration": 27,
    "start_time": "2025-01-02T18:56:48.704Z"
   },
   {
    "duration": 17,
    "start_time": "2025-01-02T18:56:48.733Z"
   },
   {
    "duration": 15,
    "start_time": "2025-01-02T18:56:48.752Z"
   },
   {
    "duration": 5,
    "start_time": "2025-01-02T18:56:48.768Z"
   },
   {
    "duration": 6,
    "start_time": "2025-01-02T18:56:48.774Z"
   },
   {
    "duration": 9,
    "start_time": "2025-01-02T18:56:48.781Z"
   },
   {
    "duration": 52,
    "start_time": "2025-01-02T18:56:48.792Z"
   },
   {
    "duration": 2,
    "start_time": "2025-01-02T18:56:48.847Z"
   },
   {
    "duration": 12,
    "start_time": "2025-01-02T18:56:48.851Z"
   },
   {
    "duration": 4,
    "start_time": "2025-01-02T18:56:48.864Z"
   },
   {
    "duration": 6,
    "start_time": "2025-01-02T18:56:48.870Z"
   },
   {
    "duration": 5,
    "start_time": "2025-01-02T18:56:48.877Z"
   },
   {
    "duration": 3,
    "start_time": "2025-01-02T18:56:48.884Z"
   },
   {
    "duration": 4,
    "start_time": "2025-01-02T18:56:48.888Z"
   },
   {
    "duration": 4,
    "start_time": "2025-01-02T18:56:48.894Z"
   },
   {
    "duration": 60,
    "start_time": "2025-01-02T18:56:48.899Z"
   },
   {
    "duration": 224,
    "start_time": "2025-01-02T18:56:48.961Z"
   },
   {
    "duration": 5,
    "start_time": "2025-01-02T18:56:49.186Z"
   },
   {
    "duration": 11,
    "start_time": "2025-01-02T18:56:49.193Z"
   },
   {
    "duration": 26,
    "start_time": "2025-01-02T18:56:49.206Z"
   },
   {
    "duration": 13,
    "start_time": "2025-01-02T18:56:49.234Z"
   },
   {
    "duration": 2023,
    "start_time": "2025-01-02T18:56:49.249Z"
   },
   {
    "duration": 6,
    "start_time": "2025-01-02T18:56:51.274Z"
   },
   {
    "duration": 101,
    "start_time": "2025-01-02T18:56:51.282Z"
   },
   {
    "duration": 7,
    "start_time": "2025-01-02T18:56:51.385Z"
   },
   {
    "duration": 5,
    "start_time": "2025-01-02T18:56:51.394Z"
   },
   {
    "duration": 5,
    "start_time": "2025-01-02T19:12:19.492Z"
   },
   {
    "duration": 13,
    "start_time": "2025-01-02T19:12:26.685Z"
   },
   {
    "duration": 3,
    "start_time": "2025-01-02T19:12:34.985Z"
   },
   {
    "duration": 41,
    "start_time": "2025-01-02T19:12:34.990Z"
   },
   {
    "duration": 6,
    "start_time": "2025-01-02T19:12:35.033Z"
   },
   {
    "duration": 8,
    "start_time": "2025-01-02T19:12:35.042Z"
   },
   {
    "duration": 14,
    "start_time": "2025-01-02T19:12:35.051Z"
   },
   {
    "duration": 6,
    "start_time": "2025-01-02T19:12:35.067Z"
   },
   {
    "duration": 9,
    "start_time": "2025-01-02T19:12:35.074Z"
   },
   {
    "duration": 16,
    "start_time": "2025-01-02T19:12:35.085Z"
   },
   {
    "duration": 15,
    "start_time": "2025-01-02T19:12:35.131Z"
   },
   {
    "duration": 5,
    "start_time": "2025-01-02T19:12:35.148Z"
   },
   {
    "duration": 4,
    "start_time": "2025-01-02T19:12:35.155Z"
   },
   {
    "duration": 9,
    "start_time": "2025-01-02T19:12:35.160Z"
   },
   {
    "duration": 19,
    "start_time": "2025-01-02T19:12:35.171Z"
   },
   {
    "duration": 5,
    "start_time": "2025-01-02T19:12:35.191Z"
   },
   {
    "duration": 49,
    "start_time": "2025-01-02T19:12:35.198Z"
   },
   {
    "duration": 4,
    "start_time": "2025-01-02T19:12:35.248Z"
   },
   {
    "duration": 4,
    "start_time": "2025-01-02T19:12:35.253Z"
   },
   {
    "duration": 3,
    "start_time": "2025-01-02T19:12:35.259Z"
   },
   {
    "duration": 8,
    "start_time": "2025-01-02T19:12:35.263Z"
   },
   {
    "duration": 6,
    "start_time": "2025-01-02T19:12:35.272Z"
   },
   {
    "duration": 4,
    "start_time": "2025-01-02T19:12:35.280Z"
   },
   {
    "duration": 4,
    "start_time": "2025-01-02T19:12:35.285Z"
   },
   {
    "duration": 43,
    "start_time": "2025-01-02T19:12:35.291Z"
   },
   {
    "duration": 33,
    "start_time": "2025-01-02T19:12:35.339Z"
   },
   {
    "duration": 227,
    "start_time": "2025-01-02T19:12:35.373Z"
   },
   {
    "duration": 5,
    "start_time": "2025-01-02T19:12:35.603Z"
   },
   {
    "duration": 28,
    "start_time": "2025-01-02T19:12:35.610Z"
   },
   {
    "duration": 11,
    "start_time": "2025-01-02T19:12:35.639Z"
   },
   {
    "duration": 12,
    "start_time": "2025-01-02T19:12:35.653Z"
   },
   {
    "duration": 1943,
    "start_time": "2025-01-02T19:12:35.667Z"
   },
   {
    "duration": 6,
    "start_time": "2025-01-02T19:12:37.612Z"
   },
   {
    "duration": 199,
    "start_time": "2025-01-02T19:12:37.620Z"
   },
   {
    "duration": 11,
    "start_time": "2025-01-02T19:12:37.820Z"
   },
   {
    "duration": 5,
    "start_time": "2025-01-02T19:12:37.833Z"
   },
   {
    "duration": 12,
    "start_time": "2025-01-02T19:19:28.812Z"
   },
   {
    "duration": 9,
    "start_time": "2025-01-02T19:25:27.832Z"
   },
   {
    "duration": 77,
    "start_time": "2025-01-02T19:26:01.674Z"
   },
   {
    "duration": 8,
    "start_time": "2025-01-02T19:26:18.852Z"
   },
   {
    "duration": 212,
    "start_time": "2025-01-02T19:26:29.583Z"
   },
   {
    "duration": 99,
    "start_time": "2025-01-02T19:26:38.832Z"
   },
   {
    "duration": 10,
    "start_time": "2025-01-02T19:26:50.775Z"
   },
   {
    "duration": 230,
    "start_time": "2025-01-02T19:27:04.494Z"
   },
   {
    "duration": 83,
    "start_time": "2025-01-02T19:27:25.534Z"
   },
   {
    "duration": 14,
    "start_time": "2025-01-02T19:28:47.572Z"
   },
   {
    "duration": 11,
    "start_time": "2025-01-02T19:29:03.513Z"
   },
   {
    "duration": 151,
    "start_time": "2025-01-02T19:29:09.452Z"
   },
   {
    "duration": 177,
    "start_time": "2025-01-02T19:29:17.912Z"
   },
   {
    "duration": 421,
    "start_time": "2025-01-02T19:29:51.612Z"
   },
   {
    "duration": 5,
    "start_time": "2025-01-02T19:30:12.484Z"
   },
   {
    "duration": 26,
    "start_time": "2025-01-02T19:30:25.495Z"
   },
   {
    "duration": 103,
    "start_time": "2025-01-02T19:31:00.314Z"
   },
   {
    "duration": 49,
    "start_time": "2025-01-02T19:31:09.775Z"
   },
   {
    "duration": 47,
    "start_time": "2025-01-02T19:33:26.674Z"
   },
   {
    "duration": 41,
    "start_time": "2025-01-02T19:34:37.220Z"
   },
   {
    "duration": 577,
    "start_time": "2025-01-02T19:34:48.675Z"
   },
   {
    "duration": 154,
    "start_time": "2025-01-02T19:34:59.194Z"
   },
   {
    "duration": 9,
    "start_time": "2025-01-02T19:39:02.460Z"
   },
   {
    "duration": 39,
    "start_time": "2025-01-02T19:39:20.254Z"
   },
   {
    "duration": 11,
    "start_time": "2025-01-02T19:39:36.696Z"
   },
   {
    "duration": 12,
    "start_time": "2025-01-02T19:39:44.793Z"
   },
   {
    "duration": 12024,
    "start_time": "2025-01-02T19:39:55.675Z"
   },
   {
    "duration": 512,
    "start_time": "2025-01-02T19:48:47.998Z"
   },
   {
    "duration": 12187,
    "start_time": "2025-01-02T19:50:18.306Z"
   },
   {
    "duration": 170,
    "start_time": "2025-01-02T20:01:17.644Z"
   },
   {
    "duration": 19,
    "start_time": "2025-01-02T20:15:59.891Z"
   },
   {
    "duration": 8,
    "start_time": "2025-01-02T20:17:06.872Z"
   },
   {
    "duration": 16,
    "start_time": "2025-01-02T20:17:11.147Z"
   },
   {
    "duration": 17,
    "start_time": "2025-01-02T20:19:25.987Z"
   },
   {
    "duration": 857,
    "start_time": "2025-01-02T20:22:31.365Z"
   },
   {
    "duration": 38,
    "start_time": "2025-01-02T20:22:32.224Z"
   },
   {
    "duration": 5,
    "start_time": "2025-01-02T20:22:32.264Z"
   },
   {
    "duration": 10,
    "start_time": "2025-01-02T20:22:32.271Z"
   },
   {
    "duration": 13,
    "start_time": "2025-01-02T20:22:32.283Z"
   },
   {
    "duration": 7,
    "start_time": "2025-01-02T20:22:32.297Z"
   },
   {
    "duration": 33,
    "start_time": "2025-01-02T20:22:32.305Z"
   },
   {
    "duration": 18,
    "start_time": "2025-01-02T20:22:32.340Z"
   },
   {
    "duration": 16,
    "start_time": "2025-01-02T20:22:32.359Z"
   },
   {
    "duration": 5,
    "start_time": "2025-01-02T20:22:32.379Z"
   },
   {
    "duration": 4,
    "start_time": "2025-01-02T20:22:32.386Z"
   },
   {
    "duration": 39,
    "start_time": "2025-01-02T20:22:32.392Z"
   },
   {
    "duration": 19,
    "start_time": "2025-01-02T20:22:32.433Z"
   },
   {
    "duration": 5,
    "start_time": "2025-01-02T20:22:32.454Z"
   },
   {
    "duration": 4,
    "start_time": "2025-01-02T20:22:32.460Z"
   },
   {
    "duration": 4,
    "start_time": "2025-01-02T20:22:32.465Z"
   },
   {
    "duration": 3,
    "start_time": "2025-01-02T20:22:32.471Z"
   },
   {
    "duration": 2,
    "start_time": "2025-01-02T20:22:32.476Z"
   },
   {
    "duration": 3,
    "start_time": "2025-01-02T20:22:32.480Z"
   },
   {
    "duration": 3,
    "start_time": "2025-01-02T20:22:32.486Z"
   },
   {
    "duration": 41,
    "start_time": "2025-01-02T20:22:32.491Z"
   },
   {
    "duration": 13,
    "start_time": "2025-01-02T20:22:32.534Z"
   },
   {
    "duration": 27,
    "start_time": "2025-01-02T20:22:32.548Z"
   },
   {
    "duration": 266,
    "start_time": "2025-01-02T20:22:32.577Z"
   },
   {
    "duration": 6,
    "start_time": "2025-01-02T20:22:32.844Z"
   },
   {
    "duration": 12,
    "start_time": "2025-01-02T20:22:32.852Z"
   },
   {
    "duration": 11,
    "start_time": "2025-01-02T20:22:32.865Z"
   },
   {
    "duration": 11,
    "start_time": "2025-01-02T20:22:32.880Z"
   },
   {
    "duration": 189,
    "start_time": "2025-01-02T20:22:32.893Z"
   },
   {
    "duration": 11,
    "start_time": "2025-01-02T20:22:33.084Z"
   },
   {
    "duration": 12041,
    "start_time": "2025-01-02T20:22:33.096Z"
   },
   {
    "duration": 94,
    "start_time": "2025-01-02T20:22:45.139Z"
   },
   {
    "duration": 8,
    "start_time": "2025-01-02T20:22:45.235Z"
   },
   {
    "duration": 18,
    "start_time": "2025-01-02T20:22:45.244Z"
   },
   {
    "duration": 6,
    "start_time": "2025-01-02T20:23:05.123Z"
   },
   {
    "duration": 19,
    "start_time": "2025-01-02T20:23:15.893Z"
   },
   {
    "duration": 17,
    "start_time": "2025-01-02T20:23:21.859Z"
   },
   {
    "duration": 7,
    "start_time": "2025-01-02T20:26:40.293Z"
   },
   {
    "duration": 6,
    "start_time": "2025-01-02T20:26:52.536Z"
   },
   {
    "duration": 6,
    "start_time": "2025-01-02T20:26:57.969Z"
   },
   {
    "duration": 8,
    "start_time": "2025-01-02T20:27:47.994Z"
   },
   {
    "duration": 3,
    "start_time": "2025-01-02T20:28:08.180Z"
   },
   {
    "duration": 35,
    "start_time": "2025-01-02T20:28:08.186Z"
   },
   {
    "duration": 6,
    "start_time": "2025-01-02T20:28:08.223Z"
   },
   {
    "duration": 13,
    "start_time": "2025-01-02T20:28:08.230Z"
   },
   {
    "duration": 13,
    "start_time": "2025-01-02T20:28:08.245Z"
   },
   {
    "duration": 6,
    "start_time": "2025-01-02T20:28:08.260Z"
   },
   {
    "duration": 7,
    "start_time": "2025-01-02T20:28:08.268Z"
   },
   {
    "duration": 14,
    "start_time": "2025-01-02T20:28:08.277Z"
   },
   {
    "duration": 45,
    "start_time": "2025-01-02T20:28:08.293Z"
   },
   {
    "duration": 5,
    "start_time": "2025-01-02T20:28:08.340Z"
   },
   {
    "duration": 4,
    "start_time": "2025-01-02T20:28:08.346Z"
   },
   {
    "duration": 10,
    "start_time": "2025-01-02T20:28:08.352Z"
   },
   {
    "duration": 18,
    "start_time": "2025-01-02T20:28:08.363Z"
   },
   {
    "duration": 4,
    "start_time": "2025-01-02T20:28:08.385Z"
   },
   {
    "duration": 3,
    "start_time": "2025-01-02T20:28:08.390Z"
   },
   {
    "duration": 4,
    "start_time": "2025-01-02T20:28:08.430Z"
   },
   {
    "duration": 5,
    "start_time": "2025-01-02T20:28:08.436Z"
   },
   {
    "duration": 7,
    "start_time": "2025-01-02T20:28:08.442Z"
   },
   {
    "duration": 2,
    "start_time": "2025-01-02T20:28:08.451Z"
   },
   {
    "duration": 3,
    "start_time": "2025-01-02T20:28:08.455Z"
   },
   {
    "duration": 4,
    "start_time": "2025-01-02T20:28:08.459Z"
   },
   {
    "duration": 4,
    "start_time": "2025-01-02T20:28:08.465Z"
   },
   {
    "duration": 26,
    "start_time": "2025-01-02T20:28:08.470Z"
   },
   {
    "duration": 216,
    "start_time": "2025-01-02T20:28:08.532Z"
   },
   {
    "duration": 5,
    "start_time": "2025-01-02T20:28:08.751Z"
   },
   {
    "duration": 17,
    "start_time": "2025-01-02T20:28:08.758Z"
   },
   {
    "duration": 12,
    "start_time": "2025-01-02T20:28:08.777Z"
   },
   {
    "duration": 12,
    "start_time": "2025-01-02T20:28:08.791Z"
   },
   {
    "duration": 179,
    "start_time": "2025-01-02T20:28:08.805Z"
   },
   {
    "duration": 10,
    "start_time": "2025-01-02T20:28:08.986Z"
   },
   {
    "duration": 12245,
    "start_time": "2025-01-02T20:28:08.998Z"
   },
   {
    "duration": 99,
    "start_time": "2025-01-02T20:28:21.245Z"
   },
   {
    "duration": 6,
    "start_time": "2025-01-02T20:28:21.346Z"
   },
   {
    "duration": 6,
    "start_time": "2025-01-02T20:28:21.354Z"
   },
   {
    "duration": 226,
    "start_time": "2025-01-02T20:28:58.220Z"
   },
   {
    "duration": 4,
    "start_time": "2025-01-02T20:29:20.727Z"
   },
   {
    "duration": 9,
    "start_time": "2025-01-02T20:29:25.728Z"
   },
   {
    "duration": 10,
    "start_time": "2025-01-02T20:29:58.750Z"
   },
   {
    "duration": 2909,
    "start_time": "2025-01-02T20:32:59.870Z"
   },
   {
    "duration": 17,
    "start_time": "2025-01-02T20:33:29.788Z"
   },
   {
    "duration": 10,
    "start_time": "2025-01-02T20:34:35.709Z"
   },
   {
    "duration": 11,
    "start_time": "2025-01-02T20:34:49.469Z"
   },
   {
    "duration": 11,
    "start_time": "2025-01-02T20:35:19.687Z"
   },
   {
    "duration": 10,
    "start_time": "2025-01-02T20:36:26.212Z"
   },
   {
    "duration": 10,
    "start_time": "2025-01-02T20:36:38.916Z"
   },
   {
    "duration": 12,
    "start_time": "2025-01-02T20:37:43.308Z"
   },
   {
    "duration": 3,
    "start_time": "2025-01-02T20:42:16.675Z"
   },
   {
    "duration": 157,
    "start_time": "2025-01-02T20:42:31.431Z"
   },
   {
    "duration": 157,
    "start_time": "2025-01-02T20:42:59.192Z"
   },
   {
    "duration": 154,
    "start_time": "2025-01-02T20:43:10.670Z"
   },
   {
    "duration": 152,
    "start_time": "2025-01-02T20:43:23.228Z"
   },
   {
    "duration": 150,
    "start_time": "2025-01-02T20:43:28.268Z"
   },
   {
    "duration": 159,
    "start_time": "2025-01-02T20:43:43.867Z"
   },
   {
    "duration": 176,
    "start_time": "2025-01-02T20:44:32.127Z"
   },
   {
    "duration": 8,
    "start_time": "2025-01-02T20:47:02.407Z"
   },
   {
    "duration": 16,
    "start_time": "2025-01-02T20:48:25.271Z"
   },
   {
    "duration": 6,
    "start_time": "2025-01-02T20:49:27.237Z"
   },
   {
    "duration": 91,
    "start_time": "2025-01-02T20:50:10.865Z"
   },
   {
    "duration": 121,
    "start_time": "2025-01-02T20:52:52.468Z"
   },
   {
    "duration": 105,
    "start_time": "2025-01-02T20:53:23.129Z"
   },
   {
    "duration": 17,
    "start_time": "2025-01-02T21:00:19.259Z"
   },
   {
    "duration": 7,
    "start_time": "2025-01-02T21:02:53.404Z"
   },
   {
    "duration": 7,
    "start_time": "2025-01-02T21:03:51.069Z"
   },
   {
    "duration": 6,
    "start_time": "2025-01-02T21:04:17.413Z"
   },
   {
    "duration": 5,
    "start_time": "2025-01-02T21:08:19.628Z"
   },
   {
    "duration": 4,
    "start_time": "2025-01-02T21:08:45.689Z"
   },
   {
    "duration": 13,
    "start_time": "2025-01-02T21:09:22.913Z"
   },
   {
    "duration": 6,
    "start_time": "2025-01-02T21:11:35.969Z"
   },
   {
    "duration": 7,
    "start_time": "2025-01-02T21:11:43.848Z"
   },
   {
    "duration": 9,
    "start_time": "2025-01-02T21:11:57.333Z"
   },
   {
    "duration": 12,
    "start_time": "2025-01-02T21:12:15.300Z"
   },
   {
    "duration": 5,
    "start_time": "2025-01-02T21:17:09.596Z"
   },
   {
    "duration": 8,
    "start_time": "2025-01-02T21:17:16.607Z"
   },
   {
    "duration": 9,
    "start_time": "2025-01-02T21:19:31.393Z"
   },
   {
    "duration": 2028,
    "start_time": "2025-01-02T21:21:54.468Z"
   },
   {
    "duration": 2462,
    "start_time": "2025-01-02T21:22:16.409Z"
   },
   {
    "duration": 610,
    "start_time": "2025-01-02T21:23:15.068Z"
   },
   {
    "duration": 16,
    "start_time": "2025-01-02T21:27:38.067Z"
   },
   {
    "duration": 4,
    "start_time": "2025-01-02T21:27:46.469Z"
   },
   {
    "duration": 159,
    "start_time": "2025-01-02T21:27:56.707Z"
   },
   {
    "duration": 2481,
    "start_time": "2025-01-03T02:14:37.656Z"
   },
   {
    "duration": 61,
    "start_time": "2025-01-03T02:14:40.143Z"
   },
   {
    "duration": 7,
    "start_time": "2025-01-03T02:14:40.206Z"
   },
   {
    "duration": 11,
    "start_time": "2025-01-03T02:14:40.214Z"
   },
   {
    "duration": 14,
    "start_time": "2025-01-03T02:14:40.227Z"
   },
   {
    "duration": 5,
    "start_time": "2025-01-03T02:14:40.243Z"
   },
   {
    "duration": 23,
    "start_time": "2025-01-03T02:14:40.250Z"
   },
   {
    "duration": 15,
    "start_time": "2025-01-03T02:14:40.276Z"
   },
   {
    "duration": 15,
    "start_time": "2025-01-03T02:14:40.293Z"
   },
   {
    "duration": 5,
    "start_time": "2025-01-03T02:14:40.310Z"
   },
   {
    "duration": 4,
    "start_time": "2025-01-03T02:14:40.316Z"
   },
   {
    "duration": 9,
    "start_time": "2025-01-03T02:14:40.322Z"
   },
   {
    "duration": 52,
    "start_time": "2025-01-03T02:14:40.332Z"
   },
   {
    "duration": 4,
    "start_time": "2025-01-03T02:14:40.388Z"
   },
   {
    "duration": 3,
    "start_time": "2025-01-03T02:14:40.393Z"
   },
   {
    "duration": 3,
    "start_time": "2025-01-03T02:14:40.398Z"
   },
   {
    "duration": 4,
    "start_time": "2025-01-03T02:14:40.403Z"
   },
   {
    "duration": 6,
    "start_time": "2025-01-03T02:14:40.409Z"
   },
   {
    "duration": 3,
    "start_time": "2025-01-03T02:14:40.416Z"
   },
   {
    "duration": 3,
    "start_time": "2025-01-03T02:14:40.420Z"
   },
   {
    "duration": 46,
    "start_time": "2025-01-03T02:14:40.425Z"
   },
   {
    "duration": 4,
    "start_time": "2025-01-03T02:14:40.474Z"
   },
   {
    "duration": 28,
    "start_time": "2025-01-03T02:14:40.480Z"
   },
   {
    "duration": 228,
    "start_time": "2025-01-03T02:14:40.510Z"
   },
   {
    "duration": 5,
    "start_time": "2025-01-03T02:14:40.740Z"
   },
   {
    "duration": 25,
    "start_time": "2025-01-03T02:14:40.747Z"
   },
   {
    "duration": 11,
    "start_time": "2025-01-03T02:14:40.773Z"
   },
   {
    "duration": 11,
    "start_time": "2025-01-03T02:14:40.785Z"
   },
   {
    "duration": 163,
    "start_time": "2025-01-03T02:14:40.798Z"
   },
   {
    "duration": 16,
    "start_time": "2025-01-03T02:14:40.962Z"
   },
   {
    "duration": 96,
    "start_time": "2025-01-03T02:14:40.980Z"
   },
   {
    "duration": 7,
    "start_time": "2025-01-03T02:14:41.078Z"
   },
   {
    "duration": 13,
    "start_time": "2025-01-03T02:14:41.086Z"
   },
   {
    "duration": 10,
    "start_time": "2025-01-03T02:14:41.100Z"
   },
   {
    "duration": 7,
    "start_time": "2025-01-03T02:14:41.112Z"
   },
   {
    "duration": 194,
    "start_time": "2025-01-03T02:14:41.120Z"
   },
   {
    "duration": 305,
    "start_time": "2025-01-03T02:14:41.316Z"
   },
   {
    "duration": 0,
    "start_time": "2025-01-03T02:14:41.622Z"
   },
   {
    "duration": 0,
    "start_time": "2025-01-03T02:14:41.623Z"
   },
   {
    "duration": 0,
    "start_time": "2025-01-03T02:14:41.625Z"
   },
   {
    "duration": 0,
    "start_time": "2025-01-03T02:14:41.627Z"
   },
   {
    "duration": 107,
    "start_time": "2025-01-03T02:15:59.522Z"
   },
   {
    "duration": 7,
    "start_time": "2025-01-03T02:17:47.729Z"
   },
   {
    "duration": 13,
    "start_time": "2025-01-03T02:17:49.880Z"
   },
   {
    "duration": 4,
    "start_time": "2025-01-03T02:17:52.822Z"
   },
   {
    "duration": 161,
    "start_time": "2025-01-03T02:17:54.404Z"
   },
   {
    "duration": 7,
    "start_time": "2025-01-03T02:24:20.812Z"
   },
   {
    "duration": 26,
    "start_time": "2025-01-03T02:24:25.059Z"
   },
   {
    "duration": 18,
    "start_time": "2025-01-03T02:28:00.667Z"
   },
   {
    "duration": 9,
    "start_time": "2025-01-03T02:28:11.168Z"
   },
   {
    "duration": 11,
    "start_time": "2025-01-03T02:29:13.533Z"
   },
   {
    "duration": 7,
    "start_time": "2025-01-03T02:29:55.649Z"
   },
   {
    "duration": 7,
    "start_time": "2025-01-03T02:30:03.143Z"
   },
   {
    "duration": 7,
    "start_time": "2025-01-03T02:30:11.654Z"
   },
   {
    "duration": 7,
    "start_time": "2025-01-03T02:40:13.016Z"
   },
   {
    "duration": 4,
    "start_time": "2025-01-03T02:44:20.395Z"
   },
   {
    "duration": 8,
    "start_time": "2025-01-03T02:44:26.688Z"
   },
   {
    "duration": 3,
    "start_time": "2025-01-03T02:49:14.492Z"
   },
   {
    "duration": 6,
    "start_time": "2025-01-03T02:49:20.848Z"
   },
   {
    "duration": 9,
    "start_time": "2025-01-03T02:49:45.894Z"
   },
   {
    "duration": 8,
    "start_time": "2025-01-03T02:50:02.992Z"
   },
   {
    "duration": 8,
    "start_time": "2025-01-03T02:50:12.248Z"
   },
   {
    "duration": 353,
    "start_time": "2025-01-03T02:50:29.309Z"
   },
   {
    "duration": 758,
    "start_time": "2025-01-03T02:50:43.028Z"
   },
   {
    "duration": 8,
    "start_time": "2025-01-03T02:51:06.948Z"
   },
   {
    "duration": 2572,
    "start_time": "2025-01-03T13:41:55.539Z"
   },
   {
    "duration": 59,
    "start_time": "2025-01-03T13:41:58.114Z"
   },
   {
    "duration": 7,
    "start_time": "2025-01-03T13:41:58.174Z"
   },
   {
    "duration": 11,
    "start_time": "2025-01-03T13:41:58.184Z"
   },
   {
    "duration": 13,
    "start_time": "2025-01-03T13:41:58.196Z"
   },
   {
    "duration": 6,
    "start_time": "2025-01-03T13:41:58.211Z"
   },
   {
    "duration": 8,
    "start_time": "2025-01-03T13:41:58.218Z"
   },
   {
    "duration": 47,
    "start_time": "2025-01-03T13:41:58.228Z"
   },
   {
    "duration": 15,
    "start_time": "2025-01-03T13:41:58.277Z"
   },
   {
    "duration": 5,
    "start_time": "2025-01-03T13:41:58.295Z"
   },
   {
    "duration": 4,
    "start_time": "2025-01-03T13:41:58.302Z"
   },
   {
    "duration": 9,
    "start_time": "2025-01-03T13:41:58.308Z"
   },
   {
    "duration": 18,
    "start_time": "2025-01-03T13:41:58.319Z"
   },
   {
    "duration": 33,
    "start_time": "2025-01-03T13:41:58.339Z"
   },
   {
    "duration": 3,
    "start_time": "2025-01-03T13:41:58.374Z"
   },
   {
    "duration": 3,
    "start_time": "2025-01-03T13:41:58.378Z"
   },
   {
    "duration": 4,
    "start_time": "2025-01-03T13:41:58.382Z"
   },
   {
    "duration": 7,
    "start_time": "2025-01-03T13:41:58.387Z"
   },
   {
    "duration": 2,
    "start_time": "2025-01-03T13:41:58.396Z"
   },
   {
    "duration": 2,
    "start_time": "2025-01-03T13:41:58.400Z"
   },
   {
    "duration": 5,
    "start_time": "2025-01-03T13:41:58.403Z"
   },
   {
    "duration": 4,
    "start_time": "2025-01-03T13:41:58.409Z"
   },
   {
    "duration": 75,
    "start_time": "2025-01-03T13:41:58.415Z"
   },
   {
    "duration": 212,
    "start_time": "2025-01-03T13:41:58.492Z"
   },
   {
    "duration": 5,
    "start_time": "2025-01-03T13:41:58.705Z"
   },
   {
    "duration": 12,
    "start_time": "2025-01-03T13:41:58.712Z"
   },
   {
    "duration": 10,
    "start_time": "2025-01-03T13:41:58.726Z"
   },
   {
    "duration": 35,
    "start_time": "2025-01-03T13:41:58.742Z"
   },
   {
    "duration": 156,
    "start_time": "2025-01-03T13:41:58.778Z"
   },
   {
    "duration": 11,
    "start_time": "2025-01-03T13:41:58.936Z"
   },
   {
    "duration": 95,
    "start_time": "2025-01-03T13:41:58.949Z"
   },
   {
    "duration": 8,
    "start_time": "2025-01-03T13:41:59.046Z"
   },
   {
    "duration": 23,
    "start_time": "2025-01-03T13:41:59.055Z"
   },
   {
    "duration": 10,
    "start_time": "2025-01-03T13:41:59.080Z"
   },
   {
    "duration": 6,
    "start_time": "2025-01-03T13:41:59.092Z"
   },
   {
    "duration": 183,
    "start_time": "2025-01-03T13:41:59.100Z"
   },
   {
    "duration": 116,
    "start_time": "2025-01-03T13:41:59.285Z"
   },
   {
    "duration": 5,
    "start_time": "2025-01-03T13:41:59.403Z"
   },
   {
    "duration": 8,
    "start_time": "2025-01-03T13:41:59.410Z"
   },
   {
    "duration": 3,
    "start_time": "2025-01-03T13:41:59.420Z"
   },
   {
    "duration": 177,
    "start_time": "2025-01-03T13:41:59.425Z"
   },
   {
    "duration": 8,
    "start_time": "2025-01-03T13:41:59.604Z"
   },
   {
    "duration": 10,
    "start_time": "2025-01-03T13:41:59.614Z"
   },
   {
    "duration": 10,
    "start_time": "2025-01-03T13:41:59.626Z"
   },
   {
    "duration": 32,
    "start_time": "2025-01-03T13:41:59.638Z"
   },
   {
    "duration": 3,
    "start_time": "2025-01-03T13:41:59.672Z"
   },
   {
    "duration": 6,
    "start_time": "2025-01-03T13:41:59.677Z"
   },
   {
    "duration": 5,
    "start_time": "2025-01-03T13:57:40.435Z"
   },
   {
    "duration": 3,
    "start_time": "2025-01-03T13:58:00.918Z"
   },
   {
    "duration": 10,
    "start_time": "2025-01-03T13:58:21.820Z"
   },
   {
    "duration": 10,
    "start_time": "2025-01-03T13:59:59.938Z"
   },
   {
    "duration": 10,
    "start_time": "2025-01-03T14:00:23.618Z"
   },
   {
    "duration": 9,
    "start_time": "2025-01-03T14:00:32.599Z"
   },
   {
    "duration": 9,
    "start_time": "2025-01-03T14:00:59.851Z"
   },
   {
    "duration": 9,
    "start_time": "2025-01-03T14:01:06.343Z"
   },
   {
    "duration": 9,
    "start_time": "2025-01-03T14:02:08.938Z"
   },
   {
    "duration": 9,
    "start_time": "2025-01-03T14:02:26.179Z"
   },
   {
    "duration": 7,
    "start_time": "2025-01-03T14:04:04.660Z"
   },
   {
    "duration": 6,
    "start_time": "2025-01-03T14:15:07.896Z"
   },
   {
    "duration": 2624,
    "start_time": "2025-01-03T17:30:26.621Z"
   },
   {
    "duration": 60,
    "start_time": "2025-01-03T17:30:29.247Z"
   },
   {
    "duration": 9,
    "start_time": "2025-01-03T17:30:29.308Z"
   },
   {
    "duration": 11,
    "start_time": "2025-01-03T17:30:29.318Z"
   },
   {
    "duration": 13,
    "start_time": "2025-01-03T17:30:29.332Z"
   },
   {
    "duration": 6,
    "start_time": "2025-01-03T17:30:29.347Z"
   },
   {
    "duration": 8,
    "start_time": "2025-01-03T17:30:29.354Z"
   },
   {
    "duration": 17,
    "start_time": "2025-01-03T17:30:29.364Z"
   },
   {
    "duration": 17,
    "start_time": "2025-01-03T17:30:29.409Z"
   },
   {
    "duration": 6,
    "start_time": "2025-01-03T17:30:29.427Z"
   },
   {
    "duration": 5,
    "start_time": "2025-01-03T17:30:29.435Z"
   },
   {
    "duration": 9,
    "start_time": "2025-01-03T17:30:29.442Z"
   },
   {
    "duration": 22,
    "start_time": "2025-01-03T17:30:29.453Z"
   },
   {
    "duration": 4,
    "start_time": "2025-01-03T17:30:29.511Z"
   },
   {
    "duration": 3,
    "start_time": "2025-01-03T17:30:29.516Z"
   },
   {
    "duration": 4,
    "start_time": "2025-01-03T17:30:29.521Z"
   },
   {
    "duration": 4,
    "start_time": "2025-01-03T17:30:29.527Z"
   },
   {
    "duration": 7,
    "start_time": "2025-01-03T17:30:29.532Z"
   },
   {
    "duration": 2,
    "start_time": "2025-01-03T17:30:29.541Z"
   },
   {
    "duration": 3,
    "start_time": "2025-01-03T17:30:29.545Z"
   },
   {
    "duration": 5,
    "start_time": "2025-01-03T17:30:29.549Z"
   },
   {
    "duration": 4,
    "start_time": "2025-01-03T17:30:29.556Z"
   },
   {
    "duration": 66,
    "start_time": "2025-01-03T17:30:29.563Z"
   },
   {
    "duration": 218,
    "start_time": "2025-01-03T17:30:29.631Z"
   },
   {
    "duration": 6,
    "start_time": "2025-01-03T17:30:29.851Z"
   },
   {
    "duration": 13,
    "start_time": "2025-01-03T17:30:29.859Z"
   },
   {
    "duration": 36,
    "start_time": "2025-01-03T17:30:29.873Z"
   },
   {
    "duration": 11,
    "start_time": "2025-01-03T17:30:29.910Z"
   },
   {
    "duration": 155,
    "start_time": "2025-01-03T17:30:29.922Z"
   },
   {
    "duration": 10,
    "start_time": "2025-01-03T17:30:30.080Z"
   },
   {
    "duration": 89,
    "start_time": "2025-01-03T17:30:30.092Z"
   },
   {
    "duration": 6,
    "start_time": "2025-01-03T17:30:30.183Z"
   },
   {
    "duration": 28,
    "start_time": "2025-01-03T17:30:30.191Z"
   },
   {
    "duration": 5,
    "start_time": "2025-01-03T17:30:30.221Z"
   },
   {
    "duration": 11,
    "start_time": "2025-01-03T17:30:30.228Z"
   },
   {
    "duration": 6,
    "start_time": "2025-01-03T17:30:30.240Z"
   },
   {
    "duration": 188,
    "start_time": "2025-01-03T17:30:30.248Z"
   },
   {
    "duration": 184,
    "start_time": "2025-01-03T17:30:30.438Z"
   },
   {
    "duration": 6,
    "start_time": "2025-01-03T17:30:30.627Z"
   },
   {
    "duration": 9,
    "start_time": "2025-01-03T17:30:30.636Z"
   },
   {
    "duration": 3,
    "start_time": "2025-01-03T17:30:30.649Z"
   },
   {
    "duration": 165,
    "start_time": "2025-01-03T17:30:30.654Z"
   },
   {
    "duration": 6,
    "start_time": "2025-01-03T17:30:30.821Z"
   },
   {
    "duration": 10,
    "start_time": "2025-01-03T17:30:30.829Z"
   },
   {
    "duration": 11,
    "start_time": "2025-01-03T17:30:30.840Z"
   },
   {
    "duration": 8,
    "start_time": "2025-01-03T17:30:30.852Z"
   },
   {
    "duration": 4,
    "start_time": "2025-01-03T17:30:30.862Z"
   },
   {
    "duration": 6,
    "start_time": "2025-01-03T17:30:30.868Z"
   },
   {
    "duration": 2,
    "start_time": "2025-01-03T17:42:37.924Z"
   },
   {
    "duration": 5,
    "start_time": "2025-01-03T17:43:54.008Z"
   },
   {
    "duration": 7,
    "start_time": "2025-01-03T17:44:02.376Z"
   },
   {
    "duration": 4,
    "start_time": "2025-01-03T17:44:36.908Z"
   },
   {
    "duration": 4,
    "start_time": "2025-01-03T17:44:37.926Z"
   },
   {
    "duration": 5,
    "start_time": "2025-01-03T17:45:46.025Z"
   },
   {
    "duration": 216,
    "start_time": "2025-01-03T17:46:03.148Z"
   },
   {
    "duration": 24,
    "start_time": "2025-01-03T17:46:10.266Z"
   },
   {
    "duration": 19,
    "start_time": "2025-01-03T17:46:16.928Z"
   },
   {
    "duration": 20,
    "start_time": "2025-01-03T17:46:25.804Z"
   },
   {
    "duration": 19,
    "start_time": "2025-01-03T17:46:36.604Z"
   },
   {
    "duration": 3,
    "start_time": "2025-01-03T17:47:12.178Z"
   },
   {
    "duration": 6,
    "start_time": "2025-01-03T17:47:14.116Z"
   },
   {
    "duration": 407,
    "start_time": "2025-01-03T17:47:19.345Z"
   },
   {
    "duration": 3,
    "start_time": "2025-01-03T17:47:29.625Z"
   },
   {
    "duration": 6,
    "start_time": "2025-01-03T17:47:35.826Z"
   },
   {
    "duration": 49,
    "start_time": "2025-01-03T17:48:23.507Z"
   },
   {
    "duration": 3,
    "start_time": "2025-01-03T17:48:35.900Z"
   },
   {
    "duration": 38,
    "start_time": "2025-01-03T17:48:35.923Z"
   },
   {
    "duration": 9,
    "start_time": "2025-01-03T17:48:35.963Z"
   },
   {
    "duration": 8,
    "start_time": "2025-01-03T17:48:35.974Z"
   },
   {
    "duration": 13,
    "start_time": "2025-01-03T17:48:35.984Z"
   },
   {
    "duration": 14,
    "start_time": "2025-01-03T17:48:36.000Z"
   },
   {
    "duration": 8,
    "start_time": "2025-01-03T17:48:36.016Z"
   },
   {
    "duration": 15,
    "start_time": "2025-01-03T17:48:36.025Z"
   },
   {
    "duration": 20,
    "start_time": "2025-01-03T17:48:36.042Z"
   },
   {
    "duration": 6,
    "start_time": "2025-01-03T17:48:36.064Z"
   },
   {
    "duration": 4,
    "start_time": "2025-01-03T17:48:36.072Z"
   },
   {
    "duration": 10,
    "start_time": "2025-01-03T17:48:36.109Z"
   },
   {
    "duration": 22,
    "start_time": "2025-01-03T17:48:36.121Z"
   },
   {
    "duration": 5,
    "start_time": "2025-01-03T17:48:36.145Z"
   },
   {
    "duration": 4,
    "start_time": "2025-01-03T17:48:36.155Z"
   },
   {
    "duration": 4,
    "start_time": "2025-01-03T17:48:36.160Z"
   },
   {
    "duration": 4,
    "start_time": "2025-01-03T17:48:36.166Z"
   },
   {
    "duration": 42,
    "start_time": "2025-01-03T17:48:36.172Z"
   },
   {
    "duration": 2,
    "start_time": "2025-01-03T17:48:36.217Z"
   },
   {
    "duration": 3,
    "start_time": "2025-01-03T17:48:36.222Z"
   },
   {
    "duration": 5,
    "start_time": "2025-01-03T17:48:36.227Z"
   },
   {
    "duration": 4,
    "start_time": "2025-01-03T17:48:36.234Z"
   },
   {
    "duration": 26,
    "start_time": "2025-01-03T17:48:36.240Z"
   },
   {
    "duration": 260,
    "start_time": "2025-01-03T17:48:36.268Z"
   },
   {
    "duration": 5,
    "start_time": "2025-01-03T17:48:36.530Z"
   },
   {
    "duration": 12,
    "start_time": "2025-01-03T17:48:36.537Z"
   },
   {
    "duration": 11,
    "start_time": "2025-01-03T17:48:36.551Z"
   },
   {
    "duration": 12,
    "start_time": "2025-01-03T17:48:36.564Z"
   },
   {
    "duration": 186,
    "start_time": "2025-01-03T17:48:36.578Z"
   },
   {
    "duration": 13,
    "start_time": "2025-01-03T17:48:36.766Z"
   },
   {
    "duration": 98,
    "start_time": "2025-01-03T17:48:36.784Z"
   },
   {
    "duration": 8,
    "start_time": "2025-01-03T17:48:36.885Z"
   },
   {
    "duration": 26,
    "start_time": "2025-01-03T17:48:36.894Z"
   },
   {
    "duration": 5,
    "start_time": "2025-01-03T17:48:36.922Z"
   },
   {
    "duration": 3,
    "start_time": "2025-01-03T17:48:36.929Z"
   },
   {
    "duration": 4,
    "start_time": "2025-01-03T17:48:36.933Z"
   },
   {
    "duration": 8,
    "start_time": "2025-01-03T17:48:36.939Z"
   },
   {
    "duration": 11,
    "start_time": "2025-01-03T17:48:36.951Z"
   },
   {
    "duration": 10,
    "start_time": "2025-01-03T17:48:36.964Z"
   },
   {
    "duration": 187,
    "start_time": "2025-01-03T17:48:37.010Z"
   },
   {
    "duration": 144,
    "start_time": "2025-01-03T17:48:37.198Z"
   },
   {
    "duration": 7,
    "start_time": "2025-01-03T17:48:37.347Z"
   },
   {
    "duration": 12,
    "start_time": "2025-01-03T17:48:37.356Z"
   },
   {
    "duration": 5,
    "start_time": "2025-01-03T17:48:37.372Z"
   },
   {
    "duration": 185,
    "start_time": "2025-01-03T17:48:37.379Z"
   },
   {
    "duration": 7,
    "start_time": "2025-01-03T17:48:37.567Z"
   },
   {
    "duration": 12,
    "start_time": "2025-01-03T17:48:37.576Z"
   },
   {
    "duration": 32,
    "start_time": "2025-01-03T17:48:37.589Z"
   },
   {
    "duration": 9,
    "start_time": "2025-01-03T17:48:37.623Z"
   },
   {
    "duration": 4,
    "start_time": "2025-01-03T17:48:37.633Z"
   },
   {
    "duration": 6,
    "start_time": "2025-01-03T17:48:37.639Z"
   },
   {
    "duration": 13,
    "start_time": "2025-01-03T17:50:41.005Z"
   },
   {
    "duration": 6,
    "start_time": "2025-01-03T17:54:26.744Z"
   },
   {
    "duration": 10,
    "start_time": "2025-01-03T17:54:34.854Z"
   },
   {
    "duration": 496,
    "start_time": "2025-01-03T17:55:18.784Z"
   },
   {
    "duration": 5,
    "start_time": "2025-01-03T17:55:30.386Z"
   },
   {
    "duration": 44,
    "start_time": "2025-01-03T17:56:36.976Z"
   },
   {
    "duration": 4,
    "start_time": "2025-01-03T17:56:59.804Z"
   },
   {
    "duration": 9,
    "start_time": "2025-01-03T17:57:41.797Z"
   },
   {
    "duration": 84,
    "start_time": "2025-01-03T17:58:26.993Z"
   },
   {
    "duration": 41,
    "start_time": "2025-01-03T17:59:08.625Z"
   },
   {
    "duration": 44,
    "start_time": "2025-01-03T17:59:34.865Z"
   },
   {
    "duration": 8,
    "start_time": "2025-01-03T18:01:18.764Z"
   },
   {
    "duration": 3,
    "start_time": "2025-01-03T18:01:35.066Z"
   },
   {
    "duration": 6,
    "start_time": "2025-01-03T18:02:08.706Z"
   },
   {
    "duration": 9,
    "start_time": "2025-01-03T18:02:17.146Z"
   },
   {
    "duration": 9,
    "start_time": "2025-01-03T18:02:31.044Z"
   },
   {
    "duration": 9,
    "start_time": "2025-01-03T18:02:37.665Z"
   },
   {
    "duration": 8,
    "start_time": "2025-01-03T18:03:15.004Z"
   },
   {
    "duration": 8,
    "start_time": "2025-01-03T18:04:13.724Z"
   },
   {
    "duration": 8,
    "start_time": "2025-01-03T18:04:52.297Z"
   },
   {
    "duration": 14,
    "start_time": "2025-01-03T18:05:36.237Z"
   },
   {
    "duration": 9,
    "start_time": "2025-01-03T18:05:44.404Z"
   },
   {
    "duration": 4,
    "start_time": "2025-01-03T18:17:27.784Z"
   },
   {
    "duration": 9,
    "start_time": "2025-01-03T18:19:35.905Z"
   },
   {
    "duration": 3,
    "start_time": "2025-01-03T18:27:39.336Z"
   },
   {
    "duration": 11,
    "start_time": "2025-01-03T18:27:48.645Z"
   },
   {
    "duration": 2492,
    "start_time": "2025-01-03T19:27:54.340Z"
   },
   {
    "duration": 61,
    "start_time": "2025-01-03T19:27:56.834Z"
   },
   {
    "duration": 6,
    "start_time": "2025-01-03T19:27:56.897Z"
   },
   {
    "duration": 10,
    "start_time": "2025-01-03T19:27:56.906Z"
   },
   {
    "duration": 12,
    "start_time": "2025-01-03T19:27:56.918Z"
   },
   {
    "duration": 6,
    "start_time": "2025-01-03T19:27:56.932Z"
   },
   {
    "duration": 33,
    "start_time": "2025-01-03T19:27:56.940Z"
   },
   {
    "duration": 19,
    "start_time": "2025-01-03T19:27:56.977Z"
   },
   {
    "duration": 20,
    "start_time": "2025-01-03T19:27:56.998Z"
   },
   {
    "duration": 5,
    "start_time": "2025-01-03T19:27:57.021Z"
   },
   {
    "duration": 5,
    "start_time": "2025-01-03T19:27:57.027Z"
   },
   {
    "duration": 35,
    "start_time": "2025-01-03T19:27:57.035Z"
   },
   {
    "duration": 22,
    "start_time": "2025-01-03T19:27:57.072Z"
   },
   {
    "duration": 3,
    "start_time": "2025-01-03T19:27:57.096Z"
   },
   {
    "duration": 3,
    "start_time": "2025-01-03T19:27:57.101Z"
   },
   {
    "duration": 3,
    "start_time": "2025-01-03T19:27:57.105Z"
   },
   {
    "duration": 4,
    "start_time": "2025-01-03T19:27:57.110Z"
   },
   {
    "duration": 7,
    "start_time": "2025-01-03T19:27:57.116Z"
   },
   {
    "duration": 2,
    "start_time": "2025-01-03T19:27:57.124Z"
   },
   {
    "duration": 3,
    "start_time": "2025-01-03T19:27:57.127Z"
   },
   {
    "duration": 42,
    "start_time": "2025-01-03T19:27:57.132Z"
   },
   {
    "duration": 9,
    "start_time": "2025-01-03T19:27:57.176Z"
   },
   {
    "duration": 6,
    "start_time": "2025-01-03T19:27:57.187Z"
   },
   {
    "duration": 26,
    "start_time": "2025-01-03T19:27:57.195Z"
   },
   {
    "duration": 222,
    "start_time": "2025-01-03T19:27:57.223Z"
   },
   {
    "duration": 4,
    "start_time": "2025-01-03T19:27:57.447Z"
   },
   {
    "duration": 26,
    "start_time": "2025-01-03T19:27:57.453Z"
   },
   {
    "duration": 11,
    "start_time": "2025-01-03T19:27:57.483Z"
   },
   {
    "duration": 11,
    "start_time": "2025-01-03T19:27:57.496Z"
   },
   {
    "duration": 171,
    "start_time": "2025-01-03T19:27:57.508Z"
   },
   {
    "duration": 10,
    "start_time": "2025-01-03T19:27:57.680Z"
   },
   {
    "duration": 141,
    "start_time": "2025-01-03T19:27:57.692Z"
   },
   {
    "duration": 7,
    "start_time": "2025-01-03T19:27:57.835Z"
   },
   {
    "duration": 27,
    "start_time": "2025-01-03T19:27:57.843Z"
   },
   {
    "duration": 10,
    "start_time": "2025-01-03T19:27:57.872Z"
   },
   {
    "duration": 5,
    "start_time": "2025-01-03T19:27:57.884Z"
   },
   {
    "duration": 2,
    "start_time": "2025-01-03T19:27:57.891Z"
   },
   {
    "duration": 3,
    "start_time": "2025-01-03T19:27:57.895Z"
   },
   {
    "duration": 5,
    "start_time": "2025-01-03T19:27:57.899Z"
   },
   {
    "duration": 3,
    "start_time": "2025-01-03T19:27:57.905Z"
   },
   {
    "duration": 4,
    "start_time": "2025-01-03T19:27:57.910Z"
   },
   {
    "duration": 9,
    "start_time": "2025-01-03T19:27:57.915Z"
   },
   {
    "duration": 269,
    "start_time": "2025-01-03T19:27:57.925Z"
   },
   {
    "duration": 0,
    "start_time": "2025-01-03T19:27:58.196Z"
   },
   {
    "duration": 0,
    "start_time": "2025-01-03T19:27:58.197Z"
   },
   {
    "duration": 0,
    "start_time": "2025-01-03T19:27:58.199Z"
   },
   {
    "duration": 0,
    "start_time": "2025-01-03T19:27:58.200Z"
   },
   {
    "duration": 0,
    "start_time": "2025-01-03T19:27:58.202Z"
   },
   {
    "duration": 0,
    "start_time": "2025-01-03T19:27:58.203Z"
   },
   {
    "duration": 0,
    "start_time": "2025-01-03T19:27:58.204Z"
   },
   {
    "duration": 0,
    "start_time": "2025-01-03T19:27:58.206Z"
   },
   {
    "duration": 0,
    "start_time": "2025-01-03T19:27:58.207Z"
   },
   {
    "duration": 0,
    "start_time": "2025-01-03T19:27:58.208Z"
   },
   {
    "duration": 0,
    "start_time": "2025-01-03T19:27:58.209Z"
   },
   {
    "duration": 0,
    "start_time": "2025-01-03T19:27:58.210Z"
   },
   {
    "duration": 0,
    "start_time": "2025-01-03T19:27:58.212Z"
   },
   {
    "duration": 0,
    "start_time": "2025-01-03T19:27:58.213Z"
   },
   {
    "duration": 9,
    "start_time": "2025-01-03T19:30:18.720Z"
   },
   {
    "duration": 158,
    "start_time": "2025-01-03T19:30:30.810Z"
   },
   {
    "duration": 107,
    "start_time": "2025-01-03T19:30:38.818Z"
   },
   {
    "duration": 7,
    "start_time": "2025-01-03T19:30:42.440Z"
   },
   {
    "duration": 10,
    "start_time": "2025-01-03T19:30:44.738Z"
   },
   {
    "duration": 10,
    "start_time": "2025-01-03T19:30:50.019Z"
   },
   {
    "duration": 4,
    "start_time": "2025-01-03T19:30:52.482Z"
   },
   {
    "duration": 155,
    "start_time": "2025-01-03T19:30:55.457Z"
   },
   {
    "duration": 7,
    "start_time": "2025-01-03T19:30:58.625Z"
   },
   {
    "duration": 10,
    "start_time": "2025-01-03T19:31:07.699Z"
   },
   {
    "duration": 13,
    "start_time": "2025-01-03T19:31:08.009Z"
   },
   {
    "duration": 2,
    "start_time": "2025-01-03T19:31:13.139Z"
   },
   {
    "duration": 9,
    "start_time": "2025-01-03T19:31:15.091Z"
   },
   {
    "duration": 15,
    "start_time": "2025-01-03T19:32:44.118Z"
   },
   {
    "duration": 18,
    "start_time": "2025-01-03T19:33:54.898Z"
   },
   {
    "duration": 3,
    "start_time": "2025-01-03T19:39:27.919Z"
   },
   {
    "duration": 6,
    "start_time": "2025-01-03T19:40:22.600Z"
   },
   {
    "duration": 3,
    "start_time": "2025-01-03T19:40:23.498Z"
   },
   {
    "duration": 827,
    "start_time": "2025-01-03T19:40:24.191Z"
   },
   {
    "duration": 10,
    "start_time": "2025-01-03T19:40:25.150Z"
   },
   {
    "duration": 868,
    "start_time": "2025-01-03T19:40:55.998Z"
   },
   {
    "duration": 40,
    "start_time": "2025-01-03T19:40:56.870Z"
   },
   {
    "duration": 6,
    "start_time": "2025-01-03T19:40:56.912Z"
   },
   {
    "duration": 10,
    "start_time": "2025-01-03T19:40:56.919Z"
   },
   {
    "duration": 15,
    "start_time": "2025-01-03T19:40:56.931Z"
   },
   {
    "duration": 24,
    "start_time": "2025-01-03T19:40:56.947Z"
   },
   {
    "duration": 10,
    "start_time": "2025-01-03T19:40:56.973Z"
   },
   {
    "duration": 15,
    "start_time": "2025-01-03T19:40:56.985Z"
   },
   {
    "duration": 16,
    "start_time": "2025-01-03T19:40:57.001Z"
   },
   {
    "duration": 5,
    "start_time": "2025-01-03T19:40:57.018Z"
   },
   {
    "duration": 5,
    "start_time": "2025-01-03T19:40:57.024Z"
   },
   {
    "duration": 44,
    "start_time": "2025-01-03T19:40:57.030Z"
   },
   {
    "duration": 20,
    "start_time": "2025-01-03T19:40:57.076Z"
   },
   {
    "duration": 4,
    "start_time": "2025-01-03T19:40:57.100Z"
   },
   {
    "duration": 3,
    "start_time": "2025-01-03T19:40:57.106Z"
   },
   {
    "duration": 3,
    "start_time": "2025-01-03T19:40:57.111Z"
   },
   {
    "duration": 4,
    "start_time": "2025-01-03T19:40:57.115Z"
   },
   {
    "duration": 7,
    "start_time": "2025-01-03T19:40:57.120Z"
   },
   {
    "duration": 2,
    "start_time": "2025-01-03T19:40:57.128Z"
   },
   {
    "duration": 2,
    "start_time": "2025-01-03T19:40:57.132Z"
   },
   {
    "duration": 7,
    "start_time": "2025-01-03T19:40:57.171Z"
   },
   {
    "duration": 7,
    "start_time": "2025-01-03T19:40:57.179Z"
   },
   {
    "duration": 6,
    "start_time": "2025-01-03T19:40:57.187Z"
   },
   {
    "duration": 28,
    "start_time": "2025-01-03T19:40:57.195Z"
   },
   {
    "duration": 297,
    "start_time": "2025-01-03T19:40:57.225Z"
   },
   {
    "duration": 5,
    "start_time": "2025-01-03T19:40:57.524Z"
   },
   {
    "duration": 13,
    "start_time": "2025-01-03T19:40:57.531Z"
   },
   {
    "duration": 27,
    "start_time": "2025-01-03T19:40:57.546Z"
   },
   {
    "duration": 11,
    "start_time": "2025-01-03T19:40:57.575Z"
   },
   {
    "duration": 164,
    "start_time": "2025-01-03T19:40:57.588Z"
   },
   {
    "duration": 18,
    "start_time": "2025-01-03T19:40:57.754Z"
   },
   {
    "duration": 84,
    "start_time": "2025-01-03T19:40:57.774Z"
   },
   {
    "duration": 16,
    "start_time": "2025-01-03T19:40:57.859Z"
   },
   {
    "duration": 11,
    "start_time": "2025-01-03T19:40:57.877Z"
   },
   {
    "duration": 10,
    "start_time": "2025-01-03T19:40:57.889Z"
   },
   {
    "duration": 5,
    "start_time": "2025-01-03T19:40:57.901Z"
   },
   {
    "duration": 4,
    "start_time": "2025-01-03T19:40:57.908Z"
   },
   {
    "duration": 4,
    "start_time": "2025-01-03T19:40:57.913Z"
   },
   {
    "duration": 4,
    "start_time": "2025-01-03T19:40:57.919Z"
   },
   {
    "duration": 3,
    "start_time": "2025-01-03T19:40:57.925Z"
   },
   {
    "duration": 3,
    "start_time": "2025-01-03T19:40:57.972Z"
   },
   {
    "duration": 9,
    "start_time": "2025-01-03T19:40:57.977Z"
   },
   {
    "duration": 174,
    "start_time": "2025-01-03T19:40:57.987Z"
   },
   {
    "duration": 114,
    "start_time": "2025-01-03T19:40:58.163Z"
   },
   {
    "duration": 6,
    "start_time": "2025-01-03T19:40:58.279Z"
   },
   {
    "duration": 9,
    "start_time": "2025-01-03T19:40:58.286Z"
   },
   {
    "duration": 10,
    "start_time": "2025-01-03T19:40:58.296Z"
   },
   {
    "duration": 4,
    "start_time": "2025-01-03T19:40:58.307Z"
   },
   {
    "duration": 184,
    "start_time": "2025-01-03T19:40:58.312Z"
   },
   {
    "duration": 6,
    "start_time": "2025-01-03T19:40:58.498Z"
   },
   {
    "duration": 10,
    "start_time": "2025-01-03T19:40:58.506Z"
   },
   {
    "duration": 10,
    "start_time": "2025-01-03T19:40:58.518Z"
   },
   {
    "duration": 2,
    "start_time": "2025-01-03T19:40:58.530Z"
   },
   {
    "duration": 39,
    "start_time": "2025-01-03T19:40:58.534Z"
   },
   {
    "duration": 16,
    "start_time": "2025-01-03T19:40:58.575Z"
   },
   {
    "duration": 7,
    "start_time": "2025-01-03T19:40:58.593Z"
   },
   {
    "duration": 4,
    "start_time": "2025-01-03T19:40:58.602Z"
   },
   {
    "duration": 6,
    "start_time": "2025-01-03T19:40:58.607Z"
   },
   {
    "duration": 2602,
    "start_time": "2025-01-03T20:35:29.528Z"
   },
   {
    "duration": 59,
    "start_time": "2025-01-03T20:35:32.133Z"
   },
   {
    "duration": 9,
    "start_time": "2025-01-03T20:35:32.193Z"
   },
   {
    "duration": 11,
    "start_time": "2025-01-03T20:35:32.205Z"
   },
   {
    "duration": 13,
    "start_time": "2025-01-03T20:35:32.219Z"
   },
   {
    "duration": 6,
    "start_time": "2025-01-03T20:35:32.234Z"
   },
   {
    "duration": 8,
    "start_time": "2025-01-03T20:35:32.242Z"
   },
   {
    "duration": 16,
    "start_time": "2025-01-03T20:35:32.252Z"
   },
   {
    "duration": 16,
    "start_time": "2025-01-03T20:35:32.270Z"
   },
   {
    "duration": 5,
    "start_time": "2025-01-03T20:35:32.287Z"
   },
   {
    "duration": 5,
    "start_time": "2025-01-03T20:35:32.293Z"
   },
   {
    "duration": 36,
    "start_time": "2025-01-03T20:35:32.300Z"
   },
   {
    "duration": 18,
    "start_time": "2025-01-03T20:35:32.338Z"
   },
   {
    "duration": 5,
    "start_time": "2025-01-03T20:35:32.360Z"
   },
   {
    "duration": 9,
    "start_time": "2025-01-03T20:35:32.366Z"
   },
   {
    "duration": 3,
    "start_time": "2025-01-03T20:35:32.377Z"
   },
   {
    "duration": 4,
    "start_time": "2025-01-03T20:35:32.382Z"
   },
   {
    "duration": 7,
    "start_time": "2025-01-03T20:35:32.388Z"
   },
   {
    "duration": 4,
    "start_time": "2025-01-03T20:35:32.396Z"
   },
   {
    "duration": 30,
    "start_time": "2025-01-03T20:35:32.401Z"
   },
   {
    "duration": 5,
    "start_time": "2025-01-03T20:35:32.433Z"
   },
   {
    "duration": 4,
    "start_time": "2025-01-03T20:35:32.440Z"
   },
   {
    "duration": 5,
    "start_time": "2025-01-03T20:35:32.445Z"
   },
   {
    "duration": 27,
    "start_time": "2025-01-03T20:35:32.451Z"
   },
   {
    "duration": 229,
    "start_time": "2025-01-03T20:35:32.480Z"
   },
   {
    "duration": 5,
    "start_time": "2025-01-03T20:35:32.712Z"
   },
   {
    "duration": 13,
    "start_time": "2025-01-03T20:35:32.730Z"
   },
   {
    "duration": 10,
    "start_time": "2025-01-03T20:35:32.745Z"
   },
   {
    "duration": 13,
    "start_time": "2025-01-03T20:35:32.757Z"
   },
   {
    "duration": 172,
    "start_time": "2025-01-03T20:35:32.772Z"
   },
   {
    "duration": 10,
    "start_time": "2025-01-03T20:35:32.946Z"
   },
   {
    "duration": 164,
    "start_time": "2025-01-03T20:35:32.957Z"
   },
   {
    "duration": 13,
    "start_time": "2025-01-03T20:35:33.123Z"
   },
   {
    "duration": 11,
    "start_time": "2025-01-03T20:35:33.138Z"
   },
   {
    "duration": 10,
    "start_time": "2025-01-03T20:35:33.151Z"
   },
   {
    "duration": 6,
    "start_time": "2025-01-03T20:35:33.162Z"
   },
   {
    "duration": 3,
    "start_time": "2025-01-03T20:35:33.169Z"
   },
   {
    "duration": 5,
    "start_time": "2025-01-03T20:35:33.174Z"
   },
   {
    "duration": 7,
    "start_time": "2025-01-03T20:35:33.181Z"
   },
   {
    "duration": 41,
    "start_time": "2025-01-03T20:35:33.190Z"
   },
   {
    "duration": 4,
    "start_time": "2025-01-03T20:35:33.236Z"
   },
   {
    "duration": 11,
    "start_time": "2025-01-03T20:35:33.241Z"
   },
   {
    "duration": 179,
    "start_time": "2025-01-03T20:35:33.254Z"
   },
   {
    "duration": 114,
    "start_time": "2025-01-03T20:35:33.436Z"
   },
   {
    "duration": 5,
    "start_time": "2025-01-03T20:35:33.552Z"
   },
   {
    "duration": 8,
    "start_time": "2025-01-03T20:35:33.558Z"
   },
   {
    "duration": 8,
    "start_time": "2025-01-03T20:35:33.568Z"
   },
   {
    "duration": 5,
    "start_time": "2025-01-03T20:35:33.579Z"
   },
   {
    "duration": 179,
    "start_time": "2025-01-03T20:35:33.585Z"
   },
   {
    "duration": 7,
    "start_time": "2025-01-03T20:35:33.765Z"
   },
   {
    "duration": 10,
    "start_time": "2025-01-03T20:35:33.774Z"
   },
   {
    "duration": 11,
    "start_time": "2025-01-03T20:35:33.786Z"
   },
   {
    "duration": 35,
    "start_time": "2025-01-03T20:35:33.800Z"
   },
   {
    "duration": 4,
    "start_time": "2025-01-03T20:35:33.836Z"
   },
   {
    "duration": 8,
    "start_time": "2025-01-03T20:35:33.842Z"
   },
   {
    "duration": 7,
    "start_time": "2025-01-03T21:12:39.694Z"
   },
   {
    "duration": 12,
    "start_time": "2025-01-03T21:13:18.178Z"
   },
   {
    "duration": 19,
    "start_time": "2025-01-03T21:14:15.435Z"
   },
   {
    "duration": 9,
    "start_time": "2025-01-03T21:14:36.324Z"
   },
   {
    "duration": 7,
    "start_time": "2025-01-03T21:14:54.391Z"
   },
   {
    "duration": 135,
    "start_time": "2025-01-03T21:15:23.107Z"
   },
   {
    "duration": 7,
    "start_time": "2025-01-03T21:15:28.661Z"
   },
   {
    "duration": 8,
    "start_time": "2025-01-03T21:15:33.433Z"
   },
   {
    "duration": 212,
    "start_time": "2025-01-03T21:17:28.017Z"
   },
   {
    "duration": 192,
    "start_time": "2025-01-04T01:23:55.342Z"
   },
   {
    "duration": 2628,
    "start_time": "2025-01-04T01:24:01.123Z"
   },
   {
    "duration": 67,
    "start_time": "2025-01-04T01:24:03.754Z"
   },
   {
    "duration": 9,
    "start_time": "2025-01-04T01:24:03.822Z"
   },
   {
    "duration": 10,
    "start_time": "2025-01-04T01:24:03.834Z"
   },
   {
    "duration": 14,
    "start_time": "2025-01-04T01:24:03.847Z"
   },
   {
    "duration": 8,
    "start_time": "2025-01-04T01:24:03.862Z"
   },
   {
    "duration": 20,
    "start_time": "2025-01-04T01:24:03.871Z"
   },
   {
    "duration": 16,
    "start_time": "2025-01-04T01:24:03.893Z"
   },
   {
    "duration": 15,
    "start_time": "2025-01-04T01:24:03.911Z"
   },
   {
    "duration": 5,
    "start_time": "2025-01-04T01:24:03.928Z"
   },
   {
    "duration": 5,
    "start_time": "2025-01-04T01:24:03.934Z"
   },
   {
    "duration": 9,
    "start_time": "2025-01-04T01:24:03.940Z"
   },
   {
    "duration": 59,
    "start_time": "2025-01-04T01:24:03.950Z"
   },
   {
    "duration": 4,
    "start_time": "2025-01-04T01:24:04.014Z"
   },
   {
    "duration": 4,
    "start_time": "2025-01-04T01:24:04.020Z"
   },
   {
    "duration": 3,
    "start_time": "2025-01-04T01:24:04.025Z"
   },
   {
    "duration": 4,
    "start_time": "2025-01-04T01:24:04.030Z"
   },
   {
    "duration": 7,
    "start_time": "2025-01-04T01:24:04.035Z"
   },
   {
    "duration": 3,
    "start_time": "2025-01-04T01:24:04.043Z"
   },
   {
    "duration": 2,
    "start_time": "2025-01-04T01:24:04.048Z"
   },
   {
    "duration": 4,
    "start_time": "2025-01-04T01:24:04.087Z"
   },
   {
    "duration": 4,
    "start_time": "2025-01-04T01:24:04.093Z"
   },
   {
    "duration": 5,
    "start_time": "2025-01-04T01:24:04.098Z"
   },
   {
    "duration": 26,
    "start_time": "2025-01-04T01:24:04.105Z"
   },
   {
    "duration": 234,
    "start_time": "2025-01-04T01:24:04.133Z"
   },
   {
    "duration": 5,
    "start_time": "2025-01-04T01:24:04.369Z"
   },
   {
    "duration": 12,
    "start_time": "2025-01-04T01:24:04.386Z"
   },
   {
    "duration": 11,
    "start_time": "2025-01-04T01:24:04.400Z"
   },
   {
    "duration": 12,
    "start_time": "2025-01-04T01:24:04.413Z"
   },
   {
    "duration": 179,
    "start_time": "2025-01-04T01:24:04.426Z"
   },
   {
    "duration": 159,
    "start_time": "2025-01-04T01:24:04.607Z"
   },
   {
    "duration": 0,
    "start_time": "2025-01-04T01:24:04.769Z"
   },
   {
    "duration": 0,
    "start_time": "2025-01-04T01:24:04.771Z"
   },
   {
    "duration": 0,
    "start_time": "2025-01-04T01:24:04.772Z"
   },
   {
    "duration": 0,
    "start_time": "2025-01-04T01:24:04.786Z"
   },
   {
    "duration": 0,
    "start_time": "2025-01-04T01:24:04.787Z"
   },
   {
    "duration": 0,
    "start_time": "2025-01-04T01:24:04.788Z"
   },
   {
    "duration": 0,
    "start_time": "2025-01-04T01:24:04.789Z"
   },
   {
    "duration": 0,
    "start_time": "2025-01-04T01:24:04.790Z"
   },
   {
    "duration": 0,
    "start_time": "2025-01-04T01:24:04.791Z"
   },
   {
    "duration": 0,
    "start_time": "2025-01-04T01:24:04.792Z"
   },
   {
    "duration": 0,
    "start_time": "2025-01-04T01:24:04.793Z"
   },
   {
    "duration": 0,
    "start_time": "2025-01-04T01:24:04.794Z"
   },
   {
    "duration": 0,
    "start_time": "2025-01-04T01:24:04.794Z"
   },
   {
    "duration": 0,
    "start_time": "2025-01-04T01:24:04.796Z"
   },
   {
    "duration": 0,
    "start_time": "2025-01-04T01:24:04.799Z"
   },
   {
    "duration": 0,
    "start_time": "2025-01-04T01:24:04.801Z"
   },
   {
    "duration": 0,
    "start_time": "2025-01-04T01:24:04.802Z"
   },
   {
    "duration": 0,
    "start_time": "2025-01-04T01:24:04.803Z"
   },
   {
    "duration": 0,
    "start_time": "2025-01-04T01:24:04.804Z"
   },
   {
    "duration": 0,
    "start_time": "2025-01-04T01:24:04.805Z"
   },
   {
    "duration": 0,
    "start_time": "2025-01-04T01:24:04.806Z"
   },
   {
    "duration": 0,
    "start_time": "2025-01-04T01:24:04.807Z"
   },
   {
    "duration": 0,
    "start_time": "2025-01-04T01:24:04.808Z"
   },
   {
    "duration": 0,
    "start_time": "2025-01-04T01:24:04.809Z"
   },
   {
    "duration": 6,
    "start_time": "2025-01-04T01:24:32.642Z"
   },
   {
    "duration": 5,
    "start_time": "2025-01-04T01:24:59.749Z"
   },
   {
    "duration": 174,
    "start_time": "2025-01-04T01:26:00.182Z"
   },
   {
    "duration": 43,
    "start_time": "2025-01-04T01:26:23.684Z"
   },
   {
    "duration": 4,
    "start_time": "2025-01-04T01:26:42.074Z"
   },
   {
    "duration": 7,
    "start_time": "2025-01-04T01:26:49.221Z"
   },
   {
    "duration": 6,
    "start_time": "2025-01-04T01:26:50.144Z"
   },
   {
    "duration": 40,
    "start_time": "2025-01-04T01:26:56.108Z"
   },
   {
    "duration": 106,
    "start_time": "2025-01-04T01:28:49.483Z"
   },
   {
    "duration": 3,
    "start_time": "2025-01-04T01:34:55.024Z"
   },
   {
    "duration": 38,
    "start_time": "2025-01-04T01:34:55.029Z"
   },
   {
    "duration": 5,
    "start_time": "2025-01-04T01:34:55.068Z"
   },
   {
    "duration": 8,
    "start_time": "2025-01-04T01:34:55.074Z"
   },
   {
    "duration": 30,
    "start_time": "2025-01-04T01:34:55.089Z"
   },
   {
    "duration": 6,
    "start_time": "2025-01-04T01:34:55.122Z"
   },
   {
    "duration": 7,
    "start_time": "2025-01-04T01:34:55.130Z"
   },
   {
    "duration": 14,
    "start_time": "2025-01-04T01:34:55.139Z"
   },
   {
    "duration": 14,
    "start_time": "2025-01-04T01:34:55.155Z"
   },
   {
    "duration": 35,
    "start_time": "2025-01-04T01:34:55.170Z"
   },
   {
    "duration": 5,
    "start_time": "2025-01-04T01:34:55.207Z"
   },
   {
    "duration": 10,
    "start_time": "2025-01-04T01:34:55.214Z"
   },
   {
    "duration": 18,
    "start_time": "2025-01-04T01:34:55.226Z"
   },
   {
    "duration": 4,
    "start_time": "2025-01-04T01:34:55.248Z"
   },
   {
    "duration": 2,
    "start_time": "2025-01-04T01:34:55.254Z"
   },
   {
    "duration": 2,
    "start_time": "2025-01-04T01:34:55.259Z"
   },
   {
    "duration": 3,
    "start_time": "2025-01-04T01:34:55.263Z"
   },
   {
    "duration": 41,
    "start_time": "2025-01-04T01:34:55.268Z"
   },
   {
    "duration": 2,
    "start_time": "2025-01-04T01:34:55.315Z"
   },
   {
    "duration": 3,
    "start_time": "2025-01-04T01:34:55.319Z"
   },
   {
    "duration": 4,
    "start_time": "2025-01-04T01:34:55.325Z"
   },
   {
    "duration": 4,
    "start_time": "2025-01-04T01:34:55.330Z"
   },
   {
    "duration": 4,
    "start_time": "2025-01-04T01:34:55.336Z"
   },
   {
    "duration": 25,
    "start_time": "2025-01-04T01:34:55.341Z"
   },
   {
    "duration": 260,
    "start_time": "2025-01-04T01:34:55.368Z"
   },
   {
    "duration": 4,
    "start_time": "2025-01-04T01:34:55.631Z"
   },
   {
    "duration": 12,
    "start_time": "2025-01-04T01:34:55.637Z"
   },
   {
    "duration": 12,
    "start_time": "2025-01-04T01:34:55.651Z"
   },
   {
    "duration": 11,
    "start_time": "2025-01-04T01:34:55.665Z"
   },
   {
    "duration": 176,
    "start_time": "2025-01-04T01:34:55.690Z"
   },
   {
    "duration": 6,
    "start_time": "2025-01-04T01:34:55.868Z"
   },
   {
    "duration": 7,
    "start_time": "2025-01-04T01:34:55.875Z"
   },
   {
    "duration": 129,
    "start_time": "2025-01-04T01:34:55.883Z"
   },
   {
    "duration": 9,
    "start_time": "2025-01-04T01:34:56.015Z"
   },
   {
    "duration": 104,
    "start_time": "2025-01-04T01:34:56.026Z"
   },
   {
    "duration": 6,
    "start_time": "2025-01-04T01:34:56.133Z"
   },
   {
    "duration": 121,
    "start_time": "2025-01-04T01:34:56.141Z"
   },
   {
    "duration": 11,
    "start_time": "2025-01-04T01:34:56.264Z"
   },
   {
    "duration": 24,
    "start_time": "2025-01-04T01:34:56.277Z"
   },
   {
    "duration": 3,
    "start_time": "2025-01-04T01:34:56.311Z"
   },
   {
    "duration": 3,
    "start_time": "2025-01-04T01:34:56.320Z"
   },
   {
    "duration": 4,
    "start_time": "2025-01-04T01:34:56.325Z"
   },
   {
    "duration": 3,
    "start_time": "2025-01-04T01:34:56.330Z"
   },
   {
    "duration": 3,
    "start_time": "2025-01-04T01:34:56.335Z"
   },
   {
    "duration": 9,
    "start_time": "2025-01-04T01:34:56.339Z"
   },
   {
    "duration": 208,
    "start_time": "2025-01-04T01:34:56.350Z"
   },
   {
    "duration": 116,
    "start_time": "2025-01-04T01:34:56.560Z"
   },
   {
    "duration": 17,
    "start_time": "2025-01-04T01:34:56.679Z"
   },
   {
    "duration": 20,
    "start_time": "2025-01-04T01:34:56.697Z"
   },
   {
    "duration": 7,
    "start_time": "2025-01-04T01:34:56.719Z"
   },
   {
    "duration": 214,
    "start_time": "2025-01-04T01:34:56.728Z"
   },
   {
    "duration": 6,
    "start_time": "2025-01-04T01:34:56.944Z"
   },
   {
    "duration": 9,
    "start_time": "2025-01-04T01:34:56.952Z"
   },
   {
    "duration": 53,
    "start_time": "2025-01-04T01:34:56.962Z"
   },
   {
    "duration": 8,
    "start_time": "2025-01-04T01:34:57.017Z"
   },
   {
    "duration": 3,
    "start_time": "2025-01-04T01:34:57.026Z"
   },
   {
    "duration": 5,
    "start_time": "2025-01-04T01:34:57.031Z"
   },
   {
    "duration": 14,
    "start_time": "2025-01-04T01:37:28.895Z"
   },
   {
    "duration": 7,
    "start_time": "2025-01-04T01:37:37.145Z"
   },
   {
    "duration": 116,
    "start_time": "2025-01-04T01:38:32.465Z"
   },
   {
    "duration": 205,
    "start_time": "2025-01-04T01:39:34.811Z"
   },
   {
    "duration": 19,
    "start_time": "2025-01-04T01:40:06.982Z"
   },
   {
    "duration": 8,
    "start_time": "2025-01-04T01:40:08.207Z"
   },
   {
    "duration": 163,
    "start_time": "2025-01-04T01:40:32.507Z"
   },
   {
    "duration": 153,
    "start_time": "2025-01-04T01:43:54.911Z"
   },
   {
    "duration": 9,
    "start_time": "2025-01-04T01:44:19.617Z"
   },
   {
    "duration": 167,
    "start_time": "2025-01-04T01:44:41.908Z"
   },
   {
    "duration": 160,
    "start_time": "2025-01-04T01:44:50.121Z"
   },
   {
    "duration": 170,
    "start_time": "2025-01-04T01:44:56.862Z"
   },
   {
    "duration": 13,
    "start_time": "2025-01-04T01:48:13.007Z"
   },
   {
    "duration": 6,
    "start_time": "2025-01-04T01:48:20.911Z"
   },
   {
    "duration": 174,
    "start_time": "2025-01-04T01:49:27.242Z"
   },
   {
    "duration": 2513,
    "start_time": "2025-01-04T02:52:20.839Z"
   },
   {
    "duration": 60,
    "start_time": "2025-01-04T02:52:23.354Z"
   },
   {
    "duration": 9,
    "start_time": "2025-01-04T02:52:23.416Z"
   },
   {
    "duration": 11,
    "start_time": "2025-01-04T02:52:23.427Z"
   },
   {
    "duration": 13,
    "start_time": "2025-01-04T02:52:23.440Z"
   },
   {
    "duration": 6,
    "start_time": "2025-01-04T02:52:23.454Z"
   },
   {
    "duration": 7,
    "start_time": "2025-01-04T02:52:23.462Z"
   },
   {
    "duration": 16,
    "start_time": "2025-01-04T02:52:23.470Z"
   },
   {
    "duration": 42,
    "start_time": "2025-01-04T02:52:23.488Z"
   },
   {
    "duration": 5,
    "start_time": "2025-01-04T02:52:23.532Z"
   },
   {
    "duration": 4,
    "start_time": "2025-01-04T02:52:23.539Z"
   },
   {
    "duration": 8,
    "start_time": "2025-01-04T02:52:23.545Z"
   },
   {
    "duration": 18,
    "start_time": "2025-01-04T02:52:23.555Z"
   },
   {
    "duration": 5,
    "start_time": "2025-01-04T02:52:23.578Z"
   },
   {
    "duration": 3,
    "start_time": "2025-01-04T02:52:23.584Z"
   },
   {
    "duration": 2,
    "start_time": "2025-01-04T02:52:23.590Z"
   },
   {
    "duration": 5,
    "start_time": "2025-01-04T02:52:23.625Z"
   },
   {
    "duration": 7,
    "start_time": "2025-01-04T02:52:23.632Z"
   },
   {
    "duration": 3,
    "start_time": "2025-01-04T02:52:23.641Z"
   },
   {
    "duration": 3,
    "start_time": "2025-01-04T02:52:23.645Z"
   },
   {
    "duration": 5,
    "start_time": "2025-01-04T02:52:23.649Z"
   },
   {
    "duration": 3,
    "start_time": "2025-01-04T02:52:23.656Z"
   },
   {
    "duration": 4,
    "start_time": "2025-01-04T02:52:23.661Z"
   },
   {
    "duration": 61,
    "start_time": "2025-01-04T02:52:23.667Z"
   },
   {
    "duration": 217,
    "start_time": "2025-01-04T02:52:23.730Z"
   },
   {
    "duration": 4,
    "start_time": "2025-01-04T02:52:23.949Z"
   },
   {
    "duration": 12,
    "start_time": "2025-01-04T02:52:23.955Z"
   },
   {
    "duration": 10,
    "start_time": "2025-01-04T02:52:23.968Z"
   },
   {
    "duration": 10,
    "start_time": "2025-01-04T02:52:23.980Z"
   },
   {
    "duration": 180,
    "start_time": "2025-01-04T02:52:23.992Z"
   },
   {
    "duration": 8,
    "start_time": "2025-01-04T02:52:24.173Z"
   },
   {
    "duration": 157,
    "start_time": "2025-01-04T02:52:24.183Z"
   },
   {
    "duration": 9,
    "start_time": "2025-01-04T02:52:24.341Z"
   },
   {
    "duration": 203,
    "start_time": "2025-01-04T02:52:24.351Z"
   },
   {
    "duration": 8,
    "start_time": "2025-01-04T02:52:24.555Z"
   },
   {
    "duration": 150,
    "start_time": "2025-01-04T02:52:24.564Z"
   },
   {
    "duration": 15,
    "start_time": "2025-01-04T02:52:24.716Z"
   },
   {
    "duration": 98,
    "start_time": "2025-01-04T02:52:24.733Z"
   },
   {
    "duration": 7,
    "start_time": "2025-01-04T02:52:24.833Z"
   },
   {
    "duration": 10,
    "start_time": "2025-01-04T02:52:24.841Z"
   },
   {
    "duration": 10,
    "start_time": "2025-01-04T02:52:24.856Z"
   },
   {
    "duration": 5,
    "start_time": "2025-01-04T02:52:24.867Z"
   },
   {
    "duration": 3,
    "start_time": "2025-01-04T02:52:24.873Z"
   },
   {
    "duration": 3,
    "start_time": "2025-01-04T02:52:24.877Z"
   },
   {
    "duration": 42,
    "start_time": "2025-01-04T02:52:24.882Z"
   },
   {
    "duration": 3,
    "start_time": "2025-01-04T02:52:24.926Z"
   },
   {
    "duration": 4,
    "start_time": "2025-01-04T02:52:24.930Z"
   },
   {
    "duration": 9,
    "start_time": "2025-01-04T02:52:24.935Z"
   },
   {
    "duration": 171,
    "start_time": "2025-01-04T02:52:24.946Z"
   },
   {
    "duration": 115,
    "start_time": "2025-01-04T02:52:25.118Z"
   },
   {
    "duration": 6,
    "start_time": "2025-01-04T02:52:25.235Z"
   },
   {
    "duration": 10,
    "start_time": "2025-01-04T02:52:25.242Z"
   },
   {
    "duration": 7,
    "start_time": "2025-01-04T02:52:25.253Z"
   },
   {
    "duration": 210,
    "start_time": "2025-01-04T02:52:25.262Z"
   },
   {
    "duration": 7,
    "start_time": "2025-01-04T02:52:25.474Z"
   },
   {
    "duration": 10,
    "start_time": "2025-01-04T02:52:25.482Z"
   },
   {
    "duration": 32,
    "start_time": "2025-01-04T02:52:25.493Z"
   },
   {
    "duration": 8,
    "start_time": "2025-01-04T02:52:25.526Z"
   },
   {
    "duration": 4,
    "start_time": "2025-01-04T02:52:25.535Z"
   },
   {
    "duration": 5,
    "start_time": "2025-01-04T02:52:25.541Z"
   },
   {
    "duration": 103,
    "start_time": "2025-01-04T02:53:13.327Z"
   },
   {
    "duration": 7,
    "start_time": "2025-01-04T02:58:27.617Z"
   },
   {
    "duration": 11,
    "start_time": "2025-01-04T02:59:15.055Z"
   },
   {
    "duration": 26,
    "start_time": "2025-01-04T02:59:30.335Z"
   },
   {
    "duration": 232,
    "start_time": "2025-01-04T03:00:21.908Z"
   },
   {
    "duration": 7,
    "start_time": "2025-01-04T03:00:39.547Z"
   },
   {
    "duration": 209,
    "start_time": "2025-01-04T03:03:00.670Z"
   },
   {
    "duration": 8,
    "start_time": "2025-01-04T03:09:16.896Z"
   },
   {
    "duration": 165,
    "start_time": "2025-01-04T03:10:11.017Z"
   },
   {
    "duration": 220,
    "start_time": "2025-01-04T03:19:59.324Z"
   },
   {
    "duration": 17,
    "start_time": "2025-01-04T03:39:25.971Z"
   },
   {
    "duration": 10,
    "start_time": "2025-01-04T03:39:52.652Z"
   },
   {
    "duration": 6,
    "start_time": "2025-01-04T03:48:09.691Z"
   },
   {
    "duration": 4,
    "start_time": "2025-01-04T03:48:13.970Z"
   },
   {
    "duration": 708,
    "start_time": "2025-01-04T03:57:36.193Z"
   },
   {
    "duration": 6,
    "start_time": "2025-01-04T03:58:13.463Z"
   },
   {
    "duration": 17,
    "start_time": "2025-01-04T03:58:14.751Z"
   },
   {
    "duration": 11,
    "start_time": "2025-01-04T04:05:00.103Z"
   },
   {
    "duration": 5,
    "start_time": "2025-01-04T04:09:02.132Z"
   },
   {
    "duration": 2512,
    "start_time": "2025-01-04T20:37:48.530Z"
   },
   {
    "duration": 61,
    "start_time": "2025-01-04T20:37:51.045Z"
   },
   {
    "duration": 7,
    "start_time": "2025-01-04T20:37:51.107Z"
   },
   {
    "duration": 11,
    "start_time": "2025-01-04T20:37:51.116Z"
   },
   {
    "duration": 13,
    "start_time": "2025-01-04T20:37:51.128Z"
   },
   {
    "duration": 6,
    "start_time": "2025-01-04T20:37:51.143Z"
   },
   {
    "duration": 8,
    "start_time": "2025-01-04T20:37:51.150Z"
   },
   {
    "duration": 15,
    "start_time": "2025-01-04T20:37:51.160Z"
   },
   {
    "duration": 15,
    "start_time": "2025-01-04T20:37:51.205Z"
   },
   {
    "duration": 4,
    "start_time": "2025-01-04T20:37:51.223Z"
   },
   {
    "duration": 4,
    "start_time": "2025-01-04T20:37:51.228Z"
   },
   {
    "duration": 8,
    "start_time": "2025-01-04T20:37:51.234Z"
   },
   {
    "duration": 19,
    "start_time": "2025-01-04T20:37:51.244Z"
   },
   {
    "duration": 4,
    "start_time": "2025-01-04T20:37:51.265Z"
   },
   {
    "duration": 35,
    "start_time": "2025-01-04T20:37:51.271Z"
   },
   {
    "duration": 3,
    "start_time": "2025-01-04T20:37:51.308Z"
   },
   {
    "duration": 4,
    "start_time": "2025-01-04T20:37:51.313Z"
   },
   {
    "duration": 6,
    "start_time": "2025-01-04T20:37:51.318Z"
   },
   {
    "duration": 3,
    "start_time": "2025-01-04T20:37:51.326Z"
   },
   {
    "duration": 2,
    "start_time": "2025-01-04T20:37:51.331Z"
   },
   {
    "duration": 4,
    "start_time": "2025-01-04T20:37:51.336Z"
   },
   {
    "duration": 4,
    "start_time": "2025-01-04T20:37:51.342Z"
   },
   {
    "duration": 5,
    "start_time": "2025-01-04T20:37:51.348Z"
   },
   {
    "duration": 70,
    "start_time": "2025-01-04T20:37:51.354Z"
   },
   {
    "duration": 227,
    "start_time": "2025-01-04T20:37:51.426Z"
   },
   {
    "duration": 5,
    "start_time": "2025-01-04T20:37:51.655Z"
   },
   {
    "duration": 13,
    "start_time": "2025-01-04T20:37:51.661Z"
   },
   {
    "duration": 28,
    "start_time": "2025-01-04T20:37:51.678Z"
   },
   {
    "duration": 12,
    "start_time": "2025-01-04T20:37:51.708Z"
   },
   {
    "duration": 161,
    "start_time": "2025-01-04T20:37:51.721Z"
   },
   {
    "duration": 7,
    "start_time": "2025-01-04T20:37:51.883Z"
   },
   {
    "duration": 161,
    "start_time": "2025-01-04T20:37:51.892Z"
   },
   {
    "duration": 8,
    "start_time": "2025-01-04T20:37:52.055Z"
   },
   {
    "duration": 202,
    "start_time": "2025-01-04T20:37:52.065Z"
   },
   {
    "duration": 8,
    "start_time": "2025-01-04T20:37:52.268Z"
   },
   {
    "duration": 175,
    "start_time": "2025-01-04T20:37:52.278Z"
   },
   {
    "duration": 9,
    "start_time": "2025-01-04T20:37:52.455Z"
   },
   {
    "duration": 180,
    "start_time": "2025-01-04T20:37:52.465Z"
   },
   {
    "duration": 13,
    "start_time": "2025-01-04T20:37:52.646Z"
   },
   {
    "duration": 103,
    "start_time": "2025-01-04T20:37:52.661Z"
   },
   {
    "duration": 7,
    "start_time": "2025-01-04T20:37:52.765Z"
   },
   {
    "duration": 11,
    "start_time": "2025-01-04T20:37:52.774Z"
   },
   {
    "duration": 30,
    "start_time": "2025-01-04T20:37:52.786Z"
   },
   {
    "duration": 5,
    "start_time": "2025-01-04T20:37:52.818Z"
   },
   {
    "duration": 2,
    "start_time": "2025-01-04T20:37:52.825Z"
   },
   {
    "duration": 3,
    "start_time": "2025-01-04T20:37:52.829Z"
   },
   {
    "duration": 5,
    "start_time": "2025-01-04T20:37:52.834Z"
   },
   {
    "duration": 3,
    "start_time": "2025-01-04T20:37:52.840Z"
   },
   {
    "duration": 3,
    "start_time": "2025-01-04T20:37:52.845Z"
   },
   {
    "duration": 8,
    "start_time": "2025-01-04T20:37:52.850Z"
   },
   {
    "duration": 199,
    "start_time": "2025-01-04T20:37:52.860Z"
   },
   {
    "duration": 117,
    "start_time": "2025-01-04T20:37:53.061Z"
   },
   {
    "duration": 7,
    "start_time": "2025-01-04T20:37:53.180Z"
   },
   {
    "duration": 25,
    "start_time": "2025-01-04T20:37:53.188Z"
   },
   {
    "duration": 8,
    "start_time": "2025-01-04T20:37:53.214Z"
   },
   {
    "duration": 186,
    "start_time": "2025-01-04T20:37:53.224Z"
   },
   {
    "duration": 8,
    "start_time": "2025-01-04T20:37:53.411Z"
   },
   {
    "duration": 11,
    "start_time": "2025-01-04T20:37:53.420Z"
   },
   {
    "duration": 11,
    "start_time": "2025-01-04T20:37:53.433Z"
   },
   {
    "duration": 8,
    "start_time": "2025-01-04T20:37:53.446Z"
   },
   {
    "duration": 4,
    "start_time": "2025-01-04T20:37:53.456Z"
   },
   {
    "duration": 45,
    "start_time": "2025-01-04T20:37:53.461Z"
   },
   {
    "duration": 6,
    "start_time": "2025-01-04T20:37:53.508Z"
   },
   {
    "duration": 258,
    "start_time": "2025-01-04T20:37:53.516Z"
   },
   {
    "duration": 10,
    "start_time": "2025-01-04T20:37:53.776Z"
   },
   {
    "duration": 9,
    "start_time": "2025-01-04T20:37:53.788Z"
   },
   {
    "duration": 4,
    "start_time": "2025-01-04T20:37:53.798Z"
   },
   {
    "duration": 10,
    "start_time": "2025-01-04T21:07:10.698Z"
   },
   {
    "duration": 3,
    "start_time": "2025-01-04T21:07:21.469Z"
   },
   {
    "duration": 4,
    "start_time": "2025-01-04T21:07:37.847Z"
   },
   {
    "duration": 5,
    "start_time": "2025-01-04T21:07:48.841Z"
   },
   {
    "duration": 4,
    "start_time": "2025-01-04T21:07:59.416Z"
   },
   {
    "duration": 4,
    "start_time": "2025-01-04T21:08:04.677Z"
   },
   {
    "duration": 5,
    "start_time": "2025-01-04T21:11:52.953Z"
   },
   {
    "duration": 5,
    "start_time": "2025-01-04T21:11:58.878Z"
   },
   {
    "duration": 8,
    "start_time": "2025-01-04T21:12:47.445Z"
   },
   {
    "duration": 4,
    "start_time": "2025-01-04T21:13:03.850Z"
   },
   {
    "duration": 3,
    "start_time": "2025-01-04T21:13:11.877Z"
   },
   {
    "duration": 323,
    "start_time": "2025-01-04T21:18:44.197Z"
   },
   {
    "duration": 126,
    "start_time": "2025-01-04T21:20:00.902Z"
   },
   {
    "duration": 10,
    "start_time": "2025-01-04T21:20:19.101Z"
   },
   {
    "duration": 11,
    "start_time": "2025-01-04T21:25:56.712Z"
   },
   {
    "duration": 4,
    "start_time": "2025-01-04T21:27:30.144Z"
   },
   {
    "duration": 11,
    "start_time": "2025-01-04T21:35:17.717Z"
   },
   {
    "duration": 11,
    "start_time": "2025-01-04T21:36:43.946Z"
   },
   {
    "duration": 805,
    "start_time": "2025-01-04T21:37:49.279Z"
   },
   {
    "duration": 42,
    "start_time": "2025-01-04T21:37:50.086Z"
   },
   {
    "duration": 6,
    "start_time": "2025-01-04T21:37:50.130Z"
   },
   {
    "duration": 11,
    "start_time": "2025-01-04T21:37:50.137Z"
   },
   {
    "duration": 14,
    "start_time": "2025-01-04T21:37:50.151Z"
   },
   {
    "duration": 6,
    "start_time": "2025-01-04T21:37:50.166Z"
   },
   {
    "duration": 36,
    "start_time": "2025-01-04T21:37:50.174Z"
   },
   {
    "duration": 15,
    "start_time": "2025-01-04T21:37:50.211Z"
   },
   {
    "duration": 15,
    "start_time": "2025-01-04T21:37:50.228Z"
   },
   {
    "duration": 5,
    "start_time": "2025-01-04T21:37:50.245Z"
   },
   {
    "duration": 5,
    "start_time": "2025-01-04T21:37:50.251Z"
   },
   {
    "duration": 8,
    "start_time": "2025-01-04T21:37:50.258Z"
   },
   {
    "duration": 55,
    "start_time": "2025-01-04T21:37:50.268Z"
   },
   {
    "duration": 4,
    "start_time": "2025-01-04T21:37:50.328Z"
   },
   {
    "duration": 3,
    "start_time": "2025-01-04T21:37:50.334Z"
   },
   {
    "duration": 3,
    "start_time": "2025-01-04T21:37:50.340Z"
   },
   {
    "duration": 4,
    "start_time": "2025-01-04T21:37:50.344Z"
   },
   {
    "duration": 6,
    "start_time": "2025-01-04T21:37:50.350Z"
   },
   {
    "duration": 2,
    "start_time": "2025-01-04T21:37:50.358Z"
   },
   {
    "duration": 2,
    "start_time": "2025-01-04T21:37:50.362Z"
   },
   {
    "duration": 5,
    "start_time": "2025-01-04T21:37:50.406Z"
   },
   {
    "duration": 5,
    "start_time": "2025-01-04T21:37:50.412Z"
   },
   {
    "duration": 5,
    "start_time": "2025-01-04T21:37:50.420Z"
   },
   {
    "duration": 27,
    "start_time": "2025-01-04T21:37:50.427Z"
   },
   {
    "duration": 284,
    "start_time": "2025-01-04T21:37:50.455Z"
   },
   {
    "duration": 5,
    "start_time": "2025-01-04T21:37:50.741Z"
   },
   {
    "duration": 11,
    "start_time": "2025-01-04T21:37:50.748Z"
   },
   {
    "duration": 12,
    "start_time": "2025-01-04T21:37:50.760Z"
   },
   {
    "duration": 32,
    "start_time": "2025-01-04T21:37:50.773Z"
   },
   {
    "duration": 165,
    "start_time": "2025-01-04T21:37:50.807Z"
   },
   {
    "duration": 10,
    "start_time": "2025-01-04T21:37:50.974Z"
   },
   {
    "duration": 160,
    "start_time": "2025-01-04T21:37:50.985Z"
   },
   {
    "duration": 8,
    "start_time": "2025-01-04T21:37:51.147Z"
   },
   {
    "duration": 149,
    "start_time": "2025-01-04T21:37:51.157Z"
   },
   {
    "duration": 8,
    "start_time": "2025-01-04T21:37:51.309Z"
   },
   {
    "duration": 164,
    "start_time": "2025-01-04T21:37:51.319Z"
   },
   {
    "duration": 20,
    "start_time": "2025-01-04T21:37:51.485Z"
   },
   {
    "duration": 171,
    "start_time": "2025-01-04T21:37:51.507Z"
   },
   {
    "duration": 13,
    "start_time": "2025-01-04T21:37:51.680Z"
   },
   {
    "duration": 91,
    "start_time": "2025-01-04T21:37:51.694Z"
   },
   {
    "duration": 16,
    "start_time": "2025-01-04T21:37:51.791Z"
   },
   {
    "duration": 12,
    "start_time": "2025-01-04T21:37:51.809Z"
   },
   {
    "duration": 11,
    "start_time": "2025-01-04T21:37:51.823Z"
   },
   {
    "duration": 5,
    "start_time": "2025-01-04T21:37:51.835Z"
   },
   {
    "duration": 5,
    "start_time": "2025-01-04T21:37:51.841Z"
   },
   {
    "duration": 3,
    "start_time": "2025-01-04T21:37:51.847Z"
   },
   {
    "duration": 5,
    "start_time": "2025-01-04T21:37:51.852Z"
   },
   {
    "duration": 2,
    "start_time": "2025-01-04T21:37:51.859Z"
   },
   {
    "duration": 42,
    "start_time": "2025-01-04T21:37:51.863Z"
   },
   {
    "duration": 8,
    "start_time": "2025-01-04T21:37:51.907Z"
   },
   {
    "duration": 174,
    "start_time": "2025-01-04T21:37:51.917Z"
   },
   {
    "duration": 112,
    "start_time": "2025-01-04T21:37:52.093Z"
   },
   {
    "duration": 6,
    "start_time": "2025-01-04T21:37:52.207Z"
   },
   {
    "duration": 13,
    "start_time": "2025-01-04T21:37:52.214Z"
   },
   {
    "duration": 7,
    "start_time": "2025-01-04T21:37:52.229Z"
   },
   {
    "duration": 292,
    "start_time": "2025-01-04T21:37:52.238Z"
   },
   {
    "duration": 7,
    "start_time": "2025-01-04T21:37:52.532Z"
   },
   {
    "duration": 10,
    "start_time": "2025-01-04T21:37:52.540Z"
   },
   {
    "duration": 11,
    "start_time": "2025-01-04T21:37:52.551Z"
   },
   {
    "duration": 8,
    "start_time": "2025-01-04T21:37:52.563Z"
   },
   {
    "duration": 33,
    "start_time": "2025-01-04T21:37:52.572Z"
   },
   {
    "duration": 9,
    "start_time": "2025-01-04T21:37:52.607Z"
   },
   {
    "duration": 6,
    "start_time": "2025-01-04T21:37:52.618Z"
   },
   {
    "duration": 271,
    "start_time": "2025-01-04T21:37:52.626Z"
   },
   {
    "duration": 12,
    "start_time": "2025-01-04T21:37:52.900Z"
   },
   {
    "duration": 4,
    "start_time": "2025-01-04T21:37:52.914Z"
   },
   {
    "duration": 11,
    "start_time": "2025-01-04T21:37:52.921Z"
   },
   {
    "duration": 9,
    "start_time": "2025-01-04T21:37:52.934Z"
   },
   {
    "duration": 872,
    "start_time": "2025-01-04T21:38:33.815Z"
   },
   {
    "duration": 42,
    "start_time": "2025-01-04T21:38:34.689Z"
   },
   {
    "duration": 5,
    "start_time": "2025-01-04T21:38:34.733Z"
   },
   {
    "duration": 12,
    "start_time": "2025-01-04T21:38:34.739Z"
   },
   {
    "duration": 13,
    "start_time": "2025-01-04T21:38:34.752Z"
   },
   {
    "duration": 5,
    "start_time": "2025-01-04T21:38:34.767Z"
   },
   {
    "duration": 7,
    "start_time": "2025-01-04T21:38:34.774Z"
   },
   {
    "duration": 17,
    "start_time": "2025-01-04T21:38:34.806Z"
   },
   {
    "duration": 16,
    "start_time": "2025-01-04T21:38:34.825Z"
   },
   {
    "duration": 4,
    "start_time": "2025-01-04T21:38:34.842Z"
   },
   {
    "duration": 4,
    "start_time": "2025-01-04T21:38:34.848Z"
   },
   {
    "duration": 8,
    "start_time": "2025-01-04T21:38:34.855Z"
   },
   {
    "duration": 47,
    "start_time": "2025-01-04T21:38:34.864Z"
   },
   {
    "duration": 4,
    "start_time": "2025-01-04T21:38:34.916Z"
   },
   {
    "duration": 2,
    "start_time": "2025-01-04T21:38:34.922Z"
   },
   {
    "duration": 2,
    "start_time": "2025-01-04T21:38:34.927Z"
   },
   {
    "duration": 4,
    "start_time": "2025-01-04T21:38:34.931Z"
   },
   {
    "duration": 6,
    "start_time": "2025-01-04T21:38:34.936Z"
   },
   {
    "duration": 2,
    "start_time": "2025-01-04T21:38:34.944Z"
   },
   {
    "duration": 2,
    "start_time": "2025-01-04T21:38:34.948Z"
   },
   {
    "duration": 4,
    "start_time": "2025-01-04T21:38:34.952Z"
   },
   {
    "duration": 4,
    "start_time": "2025-01-04T21:38:34.957Z"
   },
   {
    "duration": 45,
    "start_time": "2025-01-04T21:38:34.962Z"
   },
   {
    "duration": 26,
    "start_time": "2025-01-04T21:38:35.009Z"
   },
   {
    "duration": 271,
    "start_time": "2025-01-04T21:38:35.037Z"
   },
   {
    "duration": 5,
    "start_time": "2025-01-04T21:38:35.310Z"
   },
   {
    "duration": 12,
    "start_time": "2025-01-04T21:38:35.317Z"
   },
   {
    "duration": 10,
    "start_time": "2025-01-04T21:38:35.330Z"
   },
   {
    "duration": 10,
    "start_time": "2025-01-04T21:38:35.342Z"
   },
   {
    "duration": 178,
    "start_time": "2025-01-04T21:38:35.354Z"
   },
   {
    "duration": 8,
    "start_time": "2025-01-04T21:38:35.534Z"
   },
   {
    "duration": 163,
    "start_time": "2025-01-04T21:38:35.544Z"
   },
   {
    "duration": 9,
    "start_time": "2025-01-04T21:38:35.709Z"
   },
   {
    "duration": 153,
    "start_time": "2025-01-04T21:38:35.720Z"
   },
   {
    "duration": 9,
    "start_time": "2025-01-04T21:38:35.876Z"
   },
   {
    "duration": 161,
    "start_time": "2025-01-04T21:38:35.887Z"
   },
   {
    "duration": 8,
    "start_time": "2025-01-04T21:38:36.050Z"
   },
   {
    "duration": 175,
    "start_time": "2025-01-04T21:38:36.059Z"
   },
   {
    "duration": 10,
    "start_time": "2025-01-04T21:38:36.236Z"
   },
   {
    "duration": 99,
    "start_time": "2025-01-04T21:38:36.248Z"
   },
   {
    "duration": 6,
    "start_time": "2025-01-04T21:38:36.352Z"
   },
   {
    "duration": 11,
    "start_time": "2025-01-04T21:38:36.360Z"
   },
   {
    "duration": 10,
    "start_time": "2025-01-04T21:38:36.373Z"
   },
   {
    "duration": 24,
    "start_time": "2025-01-04T21:38:36.385Z"
   },
   {
    "duration": 2,
    "start_time": "2025-01-04T21:38:36.411Z"
   },
   {
    "duration": 4,
    "start_time": "2025-01-04T21:38:36.415Z"
   },
   {
    "duration": 5,
    "start_time": "2025-01-04T21:38:36.420Z"
   },
   {
    "duration": 3,
    "start_time": "2025-01-04T21:38:36.426Z"
   },
   {
    "duration": 3,
    "start_time": "2025-01-04T21:38:36.431Z"
   },
   {
    "duration": 8,
    "start_time": "2025-01-04T21:38:36.436Z"
   },
   {
    "duration": 204,
    "start_time": "2025-01-04T21:38:36.446Z"
   },
   {
    "duration": 115,
    "start_time": "2025-01-04T21:38:36.651Z"
   },
   {
    "duration": 6,
    "start_time": "2025-01-04T21:38:36.768Z"
   },
   {
    "duration": 10,
    "start_time": "2025-01-04T21:38:36.775Z"
   },
   {
    "duration": 20,
    "start_time": "2025-01-04T21:38:36.786Z"
   },
   {
    "duration": 262,
    "start_time": "2025-01-04T21:38:36.808Z"
   },
   {
    "duration": 6,
    "start_time": "2025-01-04T21:38:37.072Z"
   },
   {
    "duration": 8,
    "start_time": "2025-01-04T21:38:37.080Z"
   },
   {
    "duration": 23,
    "start_time": "2025-01-04T21:38:37.090Z"
   },
   {
    "duration": 8,
    "start_time": "2025-01-04T21:38:37.115Z"
   },
   {
    "duration": 4,
    "start_time": "2025-01-04T21:38:37.124Z"
   },
   {
    "duration": 5,
    "start_time": "2025-01-04T21:38:37.130Z"
   },
   {
    "duration": 7,
    "start_time": "2025-01-04T21:38:37.137Z"
   },
   {
    "duration": 284,
    "start_time": "2025-01-04T21:38:37.145Z"
   },
   {
    "duration": 9,
    "start_time": "2025-01-04T21:38:37.432Z"
   },
   {
    "duration": 4,
    "start_time": "2025-01-04T21:38:37.442Z"
   },
   {
    "duration": 11,
    "start_time": "2025-01-04T21:38:37.448Z"
   },
   {
    "duration": 11,
    "start_time": "2025-01-04T21:38:37.460Z"
   },
   {
    "duration": 11,
    "start_time": "2025-01-04T21:40:56.242Z"
   },
   {
    "duration": 5,
    "start_time": "2025-01-04T21:41:14.078Z"
   },
   {
    "duration": 862,
    "start_time": "2025-01-04T21:41:34.239Z"
   },
   {
    "duration": 38,
    "start_time": "2025-01-04T21:41:35.104Z"
   },
   {
    "duration": 6,
    "start_time": "2025-01-04T21:41:35.143Z"
   },
   {
    "duration": 11,
    "start_time": "2025-01-04T21:41:35.150Z"
   },
   {
    "duration": 13,
    "start_time": "2025-01-04T21:41:35.164Z"
   },
   {
    "duration": 6,
    "start_time": "2025-01-04T21:41:35.179Z"
   },
   {
    "duration": 8,
    "start_time": "2025-01-04T21:41:35.206Z"
   },
   {
    "duration": 16,
    "start_time": "2025-01-04T21:41:35.216Z"
   },
   {
    "duration": 15,
    "start_time": "2025-01-04T21:41:35.233Z"
   },
   {
    "duration": 5,
    "start_time": "2025-01-04T21:41:35.249Z"
   },
   {
    "duration": 4,
    "start_time": "2025-01-04T21:41:35.255Z"
   },
   {
    "duration": 45,
    "start_time": "2025-01-04T21:41:35.261Z"
   },
   {
    "duration": 19,
    "start_time": "2025-01-04T21:41:35.308Z"
   },
   {
    "duration": 4,
    "start_time": "2025-01-04T21:41:35.331Z"
   },
   {
    "duration": 3,
    "start_time": "2025-01-04T21:41:35.337Z"
   },
   {
    "duration": 3,
    "start_time": "2025-01-04T21:41:35.341Z"
   },
   {
    "duration": 4,
    "start_time": "2025-01-04T21:41:35.346Z"
   },
   {
    "duration": 7,
    "start_time": "2025-01-04T21:41:35.351Z"
   },
   {
    "duration": 2,
    "start_time": "2025-01-04T21:41:35.359Z"
   },
   {
    "duration": 43,
    "start_time": "2025-01-04T21:41:35.363Z"
   },
   {
    "duration": 4,
    "start_time": "2025-01-04T21:41:35.407Z"
   },
   {
    "duration": 4,
    "start_time": "2025-01-04T21:41:35.413Z"
   },
   {
    "duration": 8,
    "start_time": "2025-01-04T21:41:35.418Z"
   },
   {
    "duration": 23,
    "start_time": "2025-01-04T21:41:35.428Z"
   },
   {
    "duration": 269,
    "start_time": "2025-01-04T21:41:35.453Z"
   },
   {
    "duration": 5,
    "start_time": "2025-01-04T21:41:35.725Z"
   },
   {
    "duration": 12,
    "start_time": "2025-01-04T21:41:35.731Z"
   },
   {
    "duration": 11,
    "start_time": "2025-01-04T21:41:35.745Z"
   },
   {
    "duration": 10,
    "start_time": "2025-01-04T21:41:35.757Z"
   },
   {
    "duration": 182,
    "start_time": "2025-01-04T21:41:35.769Z"
   },
   {
    "duration": 7,
    "start_time": "2025-01-04T21:41:35.953Z"
   },
   {
    "duration": 173,
    "start_time": "2025-01-04T21:41:35.962Z"
   },
   {
    "duration": 8,
    "start_time": "2025-01-04T21:41:36.137Z"
   },
   {
    "duration": 155,
    "start_time": "2025-01-04T21:41:36.147Z"
   },
   {
    "duration": 7,
    "start_time": "2025-01-04T21:41:36.306Z"
   },
   {
    "duration": 165,
    "start_time": "2025-01-04T21:41:36.315Z"
   },
   {
    "duration": 13,
    "start_time": "2025-01-04T21:41:36.482Z"
   },
   {
    "duration": 164,
    "start_time": "2025-01-04T21:41:36.496Z"
   },
   {
    "duration": 10,
    "start_time": "2025-01-04T21:41:36.662Z"
   },
   {
    "duration": 100,
    "start_time": "2025-01-04T21:41:36.674Z"
   },
   {
    "duration": 7,
    "start_time": "2025-01-04T21:41:36.779Z"
   },
   {
    "duration": 22,
    "start_time": "2025-01-04T21:41:36.788Z"
   },
   {
    "duration": 11,
    "start_time": "2025-01-04T21:41:36.811Z"
   },
   {
    "duration": 5,
    "start_time": "2025-01-04T21:41:36.824Z"
   },
   {
    "duration": 4,
    "start_time": "2025-01-04T21:41:36.831Z"
   },
   {
    "duration": 3,
    "start_time": "2025-01-04T21:41:36.837Z"
   },
   {
    "duration": 6,
    "start_time": "2025-01-04T21:41:36.842Z"
   },
   {
    "duration": 2,
    "start_time": "2025-01-04T21:41:36.850Z"
   },
   {
    "duration": 4,
    "start_time": "2025-01-04T21:41:36.854Z"
   },
   {
    "duration": 52,
    "start_time": "2025-01-04T21:41:36.859Z"
   },
   {
    "duration": 178,
    "start_time": "2025-01-04T21:41:36.913Z"
   },
   {
    "duration": 159,
    "start_time": "2025-01-04T21:41:37.093Z"
   },
   {
    "duration": 7,
    "start_time": "2025-01-04T21:41:37.254Z"
   },
   {
    "duration": 11,
    "start_time": "2025-01-04T21:41:37.263Z"
   },
   {
    "duration": 29,
    "start_time": "2025-01-04T21:41:37.276Z"
   },
   {
    "duration": 273,
    "start_time": "2025-01-04T21:41:37.308Z"
   },
   {
    "duration": 6,
    "start_time": "2025-01-04T21:41:37.582Z"
   },
   {
    "duration": 19,
    "start_time": "2025-01-04T21:41:37.590Z"
   },
   {
    "duration": 11,
    "start_time": "2025-01-04T21:41:37.611Z"
   },
   {
    "duration": 7,
    "start_time": "2025-01-04T21:41:37.624Z"
   },
   {
    "duration": 3,
    "start_time": "2025-01-04T21:41:37.633Z"
   },
   {
    "duration": 5,
    "start_time": "2025-01-04T21:41:37.638Z"
   },
   {
    "duration": 6,
    "start_time": "2025-01-04T21:41:37.645Z"
   },
   {
    "duration": 268,
    "start_time": "2025-01-04T21:41:37.653Z"
   },
   {
    "duration": 10,
    "start_time": "2025-01-04T21:41:37.924Z"
   },
   {
    "duration": 4,
    "start_time": "2025-01-04T21:41:37.936Z"
   },
   {
    "duration": 9,
    "start_time": "2025-01-04T21:41:37.942Z"
   },
   {
    "duration": 558,
    "start_time": "2025-01-04T21:41:37.953Z"
   },
   {
    "duration": 0,
    "start_time": "2025-01-04T21:41:38.513Z"
   },
   {
    "duration": 11,
    "start_time": "2025-01-04T21:42:06.859Z"
   },
   {
    "duration": 18,
    "start_time": "2025-01-04T21:42:20.293Z"
   },
   {
    "duration": 5,
    "start_time": "2025-01-04T21:42:29.671Z"
   },
   {
    "duration": 5,
    "start_time": "2025-01-04T21:42:41.945Z"
   },
   {
    "duration": 5,
    "start_time": "2025-01-04T21:44:38.859Z"
   },
   {
    "duration": 822,
    "start_time": "2025-01-04T21:54:52.219Z"
   },
   {
    "duration": 157,
    "start_time": "2025-01-05T11:50:29.315Z"
   },
   {
    "duration": 2587,
    "start_time": "2025-01-05T11:50:33.907Z"
   },
   {
    "duration": 66,
    "start_time": "2025-01-05T11:50:36.497Z"
   },
   {
    "duration": 10,
    "start_time": "2025-01-05T11:50:36.565Z"
   },
   {
    "duration": 10,
    "start_time": "2025-01-05T11:50:36.577Z"
   },
   {
    "duration": 13,
    "start_time": "2025-01-05T11:50:36.590Z"
   },
   {
    "duration": 6,
    "start_time": "2025-01-05T11:50:36.604Z"
   },
   {
    "duration": 7,
    "start_time": "2025-01-05T11:50:36.612Z"
   },
   {
    "duration": 15,
    "start_time": "2025-01-05T11:50:36.621Z"
   },
   {
    "duration": 14,
    "start_time": "2025-01-05T11:50:36.637Z"
   },
   {
    "duration": 4,
    "start_time": "2025-01-05T11:50:36.653Z"
   },
   {
    "duration": 4,
    "start_time": "2025-01-05T11:50:36.658Z"
   },
   {
    "duration": 45,
    "start_time": "2025-01-05T11:50:36.664Z"
   },
   {
    "duration": 18,
    "start_time": "2025-01-05T11:50:36.711Z"
   },
   {
    "duration": 4,
    "start_time": "2025-01-05T11:50:36.733Z"
   },
   {
    "duration": 2,
    "start_time": "2025-01-05T11:50:36.739Z"
   },
   {
    "duration": 3,
    "start_time": "2025-01-05T11:50:36.743Z"
   },
   {
    "duration": 4,
    "start_time": "2025-01-05T11:50:36.747Z"
   },
   {
    "duration": 6,
    "start_time": "2025-01-05T11:50:36.753Z"
   },
   {
    "duration": 5,
    "start_time": "2025-01-05T11:50:36.761Z"
   },
   {
    "duration": 41,
    "start_time": "2025-01-05T11:50:36.767Z"
   },
   {
    "duration": 6,
    "start_time": "2025-01-05T11:50:36.809Z"
   },
   {
    "duration": 6,
    "start_time": "2025-01-05T11:50:36.816Z"
   },
   {
    "duration": 26,
    "start_time": "2025-01-05T11:50:36.823Z"
   },
   {
    "duration": 231,
    "start_time": "2025-01-05T11:50:36.851Z"
   },
   {
    "duration": 4,
    "start_time": "2025-01-05T11:50:37.084Z"
   },
   {
    "duration": 25,
    "start_time": "2025-01-05T11:50:37.090Z"
   },
   {
    "duration": 11,
    "start_time": "2025-01-05T11:50:37.117Z"
   },
   {
    "duration": 217,
    "start_time": "2025-01-05T11:50:37.130Z"
   },
   {
    "duration": 7,
    "start_time": "2025-01-05T11:50:37.349Z"
   },
   {
    "duration": 163,
    "start_time": "2025-01-05T11:50:37.358Z"
   },
   {
    "duration": 9,
    "start_time": "2025-01-05T11:50:37.522Z"
   },
   {
    "duration": 148,
    "start_time": "2025-01-05T11:50:37.532Z"
   },
   {
    "duration": 8,
    "start_time": "2025-01-05T11:50:37.682Z"
   },
   {
    "duration": 162,
    "start_time": "2025-01-05T11:50:37.692Z"
   },
   {
    "duration": 10,
    "start_time": "2025-01-05T11:50:37.856Z"
   },
   {
    "duration": 174,
    "start_time": "2025-01-05T11:50:37.867Z"
   },
   {
    "duration": 10,
    "start_time": "2025-01-05T11:50:38.043Z"
   },
   {
    "duration": 94,
    "start_time": "2025-01-05T11:50:38.054Z"
   },
   {
    "duration": 6,
    "start_time": "2025-01-05T11:50:38.150Z"
   },
   {
    "duration": 11,
    "start_time": "2025-01-05T11:50:38.158Z"
   },
   {
    "duration": 9,
    "start_time": "2025-01-05T11:50:38.174Z"
   },
   {
    "duration": 4,
    "start_time": "2025-01-05T11:50:38.206Z"
   },
   {
    "duration": 2,
    "start_time": "2025-01-05T11:50:38.212Z"
   },
   {
    "duration": 4,
    "start_time": "2025-01-05T11:50:38.216Z"
   },
   {
    "duration": 5,
    "start_time": "2025-01-05T11:50:38.222Z"
   },
   {
    "duration": 2,
    "start_time": "2025-01-05T11:50:38.229Z"
   },
   {
    "duration": 4,
    "start_time": "2025-01-05T11:50:38.233Z"
   },
   {
    "duration": 9,
    "start_time": "2025-01-05T11:50:38.238Z"
   },
   {
    "duration": 200,
    "start_time": "2025-01-05T11:50:38.248Z"
   },
   {
    "duration": 116,
    "start_time": "2025-01-05T11:50:38.450Z"
   },
   {
    "duration": 5,
    "start_time": "2025-01-05T11:50:38.568Z"
   },
   {
    "duration": 10,
    "start_time": "2025-01-05T11:50:38.575Z"
   },
   {
    "duration": 24,
    "start_time": "2025-01-05T11:50:38.586Z"
   },
   {
    "duration": 188,
    "start_time": "2025-01-05T11:50:38.612Z"
   },
   {
    "duration": 8,
    "start_time": "2025-01-05T11:50:38.802Z"
   },
   {
    "duration": 10,
    "start_time": "2025-01-05T11:50:38.812Z"
   },
   {
    "duration": 10,
    "start_time": "2025-01-05T11:50:38.824Z"
   },
   {
    "duration": 8,
    "start_time": "2025-01-05T11:50:38.835Z"
   },
   {
    "duration": 4,
    "start_time": "2025-01-05T11:50:38.844Z"
   },
   {
    "duration": 6,
    "start_time": "2025-01-05T11:50:38.850Z"
   },
   {
    "duration": 6,
    "start_time": "2025-01-05T11:50:38.857Z"
   },
   {
    "duration": 281,
    "start_time": "2025-01-05T11:50:38.864Z"
   },
   {
    "duration": 10,
    "start_time": "2025-01-05T11:50:39.147Z"
   },
   {
    "duration": 4,
    "start_time": "2025-01-05T11:50:39.158Z"
   },
   {
    "duration": 11,
    "start_time": "2025-01-05T11:50:39.164Z"
   },
   {
    "duration": 4,
    "start_time": "2025-01-05T11:50:39.177Z"
   },
   {
    "duration": 8,
    "start_time": "2025-01-05T11:55:36.975Z"
   },
   {
    "duration": 8,
    "start_time": "2025-01-05T11:56:15.727Z"
   },
   {
    "duration": 75,
    "start_time": "2025-01-05T11:57:09.235Z"
   },
   {
    "duration": 17,
    "start_time": "2025-01-05T11:57:19.868Z"
   },
   {
    "duration": 2564,
    "start_time": "2025-01-06T02:18:19.008Z"
   },
   {
    "duration": 68,
    "start_time": "2025-01-06T02:18:21.575Z"
   },
   {
    "duration": 6,
    "start_time": "2025-01-06T02:18:21.645Z"
   },
   {
    "duration": 12,
    "start_time": "2025-01-06T02:18:21.652Z"
   },
   {
    "duration": 14,
    "start_time": "2025-01-06T02:18:21.666Z"
   },
   {
    "duration": 6,
    "start_time": "2025-01-06T02:18:21.681Z"
   },
   {
    "duration": 8,
    "start_time": "2025-01-06T02:18:21.688Z"
   },
   {
    "duration": 20,
    "start_time": "2025-01-06T02:18:21.699Z"
   },
   {
    "duration": 19,
    "start_time": "2025-01-06T02:18:21.721Z"
   },
   {
    "duration": 31,
    "start_time": "2025-01-06T02:18:21.742Z"
   },
   {
    "duration": 4,
    "start_time": "2025-01-06T02:18:21.776Z"
   },
   {
    "duration": 10,
    "start_time": "2025-01-06T02:18:21.782Z"
   },
   {
    "duration": 23,
    "start_time": "2025-01-06T02:18:21.794Z"
   },
   {
    "duration": 3,
    "start_time": "2025-01-06T02:18:21.821Z"
   },
   {
    "duration": 2,
    "start_time": "2025-01-06T02:18:21.826Z"
   },
   {
    "duration": 3,
    "start_time": "2025-01-06T02:18:21.830Z"
   },
   {
    "duration": 39,
    "start_time": "2025-01-06T02:18:21.834Z"
   },
   {
    "duration": 6,
    "start_time": "2025-01-06T02:18:21.875Z"
   },
   {
    "duration": 4,
    "start_time": "2025-01-06T02:18:21.883Z"
   },
   {
    "duration": 4,
    "start_time": "2025-01-06T02:18:21.888Z"
   },
   {
    "duration": 4,
    "start_time": "2025-01-06T02:18:21.894Z"
   },
   {
    "duration": 25,
    "start_time": "2025-01-06T02:18:21.900Z"
   },
   {
    "duration": 236,
    "start_time": "2025-01-06T02:18:21.927Z"
   },
   {
    "duration": 10,
    "start_time": "2025-01-06T02:18:22.164Z"
   },
   {
    "duration": 12,
    "start_time": "2025-01-06T02:18:22.176Z"
   },
   {
    "duration": 12,
    "start_time": "2025-01-06T02:18:22.189Z"
   },
   {
    "duration": 174,
    "start_time": "2025-01-06T02:18:22.203Z"
   },
   {
    "duration": 9,
    "start_time": "2025-01-06T02:18:22.379Z"
   },
   {
    "duration": 159,
    "start_time": "2025-01-06T02:18:22.390Z"
   },
   {
    "duration": 8,
    "start_time": "2025-01-06T02:18:22.551Z"
   },
   {
    "duration": 157,
    "start_time": "2025-01-06T02:18:22.561Z"
   },
   {
    "duration": 8,
    "start_time": "2025-01-06T02:18:22.720Z"
   },
   {
    "duration": 170,
    "start_time": "2025-01-06T02:18:22.730Z"
   },
   {
    "duration": 8,
    "start_time": "2025-01-06T02:18:22.902Z"
   },
   {
    "duration": 171,
    "start_time": "2025-01-06T02:18:22.912Z"
   },
   {
    "duration": 11,
    "start_time": "2025-01-06T02:18:23.085Z"
   },
   {
    "duration": 106,
    "start_time": "2025-01-06T02:18:23.097Z"
   },
   {
    "duration": 7,
    "start_time": "2025-01-06T02:18:23.204Z"
   },
   {
    "duration": 86,
    "start_time": "2025-01-06T02:18:23.214Z"
   },
   {
    "duration": 10,
    "start_time": "2025-01-06T02:18:23.302Z"
   },
   {
    "duration": 5,
    "start_time": "2025-01-06T02:18:23.317Z"
   },
   {
    "duration": 3,
    "start_time": "2025-01-06T02:18:23.323Z"
   },
   {
    "duration": 3,
    "start_time": "2025-01-06T02:18:23.328Z"
   },
   {
    "duration": 4,
    "start_time": "2025-01-06T02:18:23.333Z"
   },
   {
    "duration": 31,
    "start_time": "2025-01-06T02:18:23.340Z"
   },
   {
    "duration": 4,
    "start_time": "2025-01-06T02:18:23.373Z"
   },
   {
    "duration": 8,
    "start_time": "2025-01-06T02:18:23.380Z"
   },
   {
    "duration": 178,
    "start_time": "2025-01-06T02:18:23.390Z"
   },
   {
    "duration": 109,
    "start_time": "2025-01-06T02:18:23.569Z"
   },
   {
    "duration": 5,
    "start_time": "2025-01-06T02:18:23.680Z"
   },
   {
    "duration": 11,
    "start_time": "2025-01-06T02:18:23.687Z"
   },
   {
    "duration": 8,
    "start_time": "2025-01-06T02:18:23.699Z"
   },
   {
    "duration": 210,
    "start_time": "2025-01-06T02:18:23.708Z"
   },
   {
    "duration": 6,
    "start_time": "2025-01-06T02:18:23.920Z"
   },
   {
    "duration": 11,
    "start_time": "2025-01-06T02:18:23.928Z"
   },
   {
    "duration": 32,
    "start_time": "2025-01-06T02:18:23.940Z"
   },
   {
    "duration": 8,
    "start_time": "2025-01-06T02:18:23.973Z"
   },
   {
    "duration": 4,
    "start_time": "2025-01-06T02:18:23.982Z"
   },
   {
    "duration": 5,
    "start_time": "2025-01-06T02:18:23.988Z"
   },
   {
    "duration": 6,
    "start_time": "2025-01-06T02:18:23.995Z"
   },
   {
    "duration": 260,
    "start_time": "2025-01-06T02:18:24.003Z"
   },
   {
    "duration": 11,
    "start_time": "2025-01-06T02:18:24.264Z"
   },
   {
    "duration": 4,
    "start_time": "2025-01-06T02:18:24.276Z"
   },
   {
    "duration": 13,
    "start_time": "2025-01-06T02:18:24.281Z"
   },
   {
    "duration": 4,
    "start_time": "2025-01-06T02:18:24.296Z"
   },
   {
    "duration": 5,
    "start_time": "2025-01-06T02:26:36.667Z"
   },
   {
    "duration": 9,
    "start_time": "2025-01-06T02:27:20.523Z"
   },
   {
    "duration": 6,
    "start_time": "2025-01-06T02:31:15.363Z"
   },
   {
    "duration": 9,
    "start_time": "2025-01-06T02:31:29.446Z"
   },
   {
    "duration": 6,
    "start_time": "2025-01-06T02:31:30.408Z"
   },
   {
    "duration": 147,
    "start_time": "2025-01-06T02:31:40.095Z"
   },
   {
    "duration": 7,
    "start_time": "2025-01-06T02:34:00.964Z"
   },
   {
    "duration": 153,
    "start_time": "2025-01-06T02:34:02.283Z"
   },
   {
    "duration": 9,
    "start_time": "2025-01-06T02:35:21.264Z"
   },
   {
    "duration": 146,
    "start_time": "2025-01-06T02:35:22.216Z"
   },
   {
    "duration": 155,
    "start_time": "2025-01-06T03:06:55.429Z"
   },
   {
    "duration": 8,
    "start_time": "2025-01-06T03:07:12.570Z"
   },
   {
    "duration": 2502,
    "start_time": "2025-01-06T12:09:48.359Z"
   },
   {
    "duration": 60,
    "start_time": "2025-01-06T12:09:50.864Z"
   },
   {
    "duration": 8,
    "start_time": "2025-01-06T12:09:50.926Z"
   },
   {
    "duration": 11,
    "start_time": "2025-01-06T12:09:50.937Z"
   },
   {
    "duration": 12,
    "start_time": "2025-01-06T12:09:50.951Z"
   },
   {
    "duration": 7,
    "start_time": "2025-01-06T12:09:50.965Z"
   },
   {
    "duration": 8,
    "start_time": "2025-01-06T12:09:50.974Z"
   },
   {
    "duration": 16,
    "start_time": "2025-01-06T12:09:50.984Z"
   },
   {
    "duration": 15,
    "start_time": "2025-01-06T12:09:51.002Z"
   },
   {
    "duration": 4,
    "start_time": "2025-01-06T12:09:51.019Z"
   },
   {
    "duration": 5,
    "start_time": "2025-01-06T12:09:51.025Z"
   },
   {
    "duration": 40,
    "start_time": "2025-01-06T12:09:51.031Z"
   },
   {
    "duration": 18,
    "start_time": "2025-01-06T12:09:51.073Z"
   },
   {
    "duration": 4,
    "start_time": "2025-01-06T12:09:51.096Z"
   },
   {
    "duration": 7,
    "start_time": "2025-01-06T12:09:51.101Z"
   },
   {
    "duration": 3,
    "start_time": "2025-01-06T12:09:51.109Z"
   },
   {
    "duration": 3,
    "start_time": "2025-01-06T12:09:51.114Z"
   },
   {
    "duration": 7,
    "start_time": "2025-01-06T12:09:51.119Z"
   },
   {
    "duration": 4,
    "start_time": "2025-01-06T12:09:51.127Z"
   },
   {
    "duration": 40,
    "start_time": "2025-01-06T12:09:51.133Z"
   },
   {
    "duration": 5,
    "start_time": "2025-01-06T12:09:51.174Z"
   },
   {
    "duration": 25,
    "start_time": "2025-01-06T12:09:51.181Z"
   },
   {
    "duration": 227,
    "start_time": "2025-01-06T12:09:51.208Z"
   },
   {
    "duration": 5,
    "start_time": "2025-01-06T12:09:51.437Z"
   },
   {
    "duration": 26,
    "start_time": "2025-01-06T12:09:51.444Z"
   },
   {
    "duration": 9,
    "start_time": "2025-01-06T12:09:51.471Z"
   },
   {
    "duration": 10,
    "start_time": "2025-01-06T12:09:51.481Z"
   },
   {
    "duration": 220,
    "start_time": "2025-01-06T12:09:51.493Z"
   },
   {
    "duration": 10,
    "start_time": "2025-01-06T12:09:51.715Z"
   },
   {
    "duration": 160,
    "start_time": "2025-01-06T12:09:51.726Z"
   },
   {
    "duration": 9,
    "start_time": "2025-01-06T12:09:51.888Z"
   },
   {
    "duration": 152,
    "start_time": "2025-01-06T12:09:51.899Z"
   },
   {
    "duration": 9,
    "start_time": "2025-01-06T12:09:52.052Z"
   },
   {
    "duration": 158,
    "start_time": "2025-01-06T12:09:52.069Z"
   },
   {
    "duration": 8,
    "start_time": "2025-01-06T12:09:52.228Z"
   },
   {
    "duration": 172,
    "start_time": "2025-01-06T12:09:52.238Z"
   },
   {
    "duration": 9,
    "start_time": "2025-01-06T12:09:52.412Z"
   },
   {
    "duration": 94,
    "start_time": "2025-01-06T12:09:52.423Z"
   },
   {
    "duration": 7,
    "start_time": "2025-01-06T12:09:52.519Z"
   },
   {
    "duration": 12,
    "start_time": "2025-01-06T12:09:52.527Z"
   },
   {
    "duration": 27,
    "start_time": "2025-01-06T12:09:52.544Z"
   },
   {
    "duration": 5,
    "start_time": "2025-01-06T12:09:52.572Z"
   },
   {
    "duration": 2,
    "start_time": "2025-01-06T12:09:52.579Z"
   },
   {
    "duration": 3,
    "start_time": "2025-01-06T12:09:52.583Z"
   },
   {
    "duration": 4,
    "start_time": "2025-01-06T12:09:52.587Z"
   },
   {
    "duration": 2,
    "start_time": "2025-01-06T12:09:52.593Z"
   },
   {
    "duration": 3,
    "start_time": "2025-01-06T12:09:52.597Z"
   },
   {
    "duration": 8,
    "start_time": "2025-01-06T12:09:52.602Z"
   },
   {
    "duration": 195,
    "start_time": "2025-01-06T12:09:52.612Z"
   },
   {
    "duration": 117,
    "start_time": "2025-01-06T12:09:52.809Z"
   },
   {
    "duration": 6,
    "start_time": "2025-01-06T12:09:52.928Z"
   },
   {
    "duration": 11,
    "start_time": "2025-01-06T12:09:52.935Z"
   },
   {
    "duration": 25,
    "start_time": "2025-01-06T12:09:52.948Z"
   },
   {
    "duration": 198,
    "start_time": "2025-01-06T12:09:52.974Z"
   },
   {
    "duration": 7,
    "start_time": "2025-01-06T12:09:53.173Z"
   },
   {
    "duration": 10,
    "start_time": "2025-01-06T12:09:53.182Z"
   },
   {
    "duration": 10,
    "start_time": "2025-01-06T12:09:53.194Z"
   },
   {
    "duration": 8,
    "start_time": "2025-01-06T12:09:53.206Z"
   },
   {
    "duration": 4,
    "start_time": "2025-01-06T12:09:53.215Z"
   },
   {
    "duration": 6,
    "start_time": "2025-01-06T12:09:53.221Z"
   },
   {
    "duration": 43,
    "start_time": "2025-01-06T12:09:53.228Z"
   },
   {
    "duration": 247,
    "start_time": "2025-01-06T12:09:53.272Z"
   },
   {
    "duration": 10,
    "start_time": "2025-01-06T12:09:53.520Z"
   },
   {
    "duration": 4,
    "start_time": "2025-01-06T12:09:53.532Z"
   },
   {
    "duration": 13,
    "start_time": "2025-01-06T12:09:53.537Z"
   },
   {
    "duration": 4,
    "start_time": "2025-01-06T12:09:53.552Z"
   },
   {
    "duration": 2477,
    "start_time": "2025-01-06T14:36:09.369Z"
   },
   {
    "duration": 58,
    "start_time": "2025-01-06T14:36:11.849Z"
   },
   {
    "duration": 7,
    "start_time": "2025-01-06T14:36:11.908Z"
   },
   {
    "duration": 11,
    "start_time": "2025-01-06T14:36:11.917Z"
   },
   {
    "duration": 13,
    "start_time": "2025-01-06T14:36:11.931Z"
   },
   {
    "duration": 7,
    "start_time": "2025-01-06T14:36:11.945Z"
   },
   {
    "duration": 8,
    "start_time": "2025-01-06T14:36:11.953Z"
   },
   {
    "duration": 15,
    "start_time": "2025-01-06T14:36:11.962Z"
   },
   {
    "duration": 15,
    "start_time": "2025-01-06T14:36:11.978Z"
   },
   {
    "duration": 30,
    "start_time": "2025-01-06T14:36:11.995Z"
   },
   {
    "duration": 4,
    "start_time": "2025-01-06T14:36:12.027Z"
   },
   {
    "duration": 10,
    "start_time": "2025-01-06T14:36:12.032Z"
   },
   {
    "duration": 19,
    "start_time": "2025-01-06T14:36:12.043Z"
   },
   {
    "duration": 4,
    "start_time": "2025-01-06T14:36:12.066Z"
   },
   {
    "duration": 3,
    "start_time": "2025-01-06T14:36:12.072Z"
   },
   {
    "duration": 2,
    "start_time": "2025-01-06T14:36:12.078Z"
   },
   {
    "duration": 4,
    "start_time": "2025-01-06T14:36:12.082Z"
   },
   {
    "duration": 43,
    "start_time": "2025-01-06T14:36:12.087Z"
   },
   {
    "duration": 5,
    "start_time": "2025-01-06T14:36:12.131Z"
   },
   {
    "duration": 4,
    "start_time": "2025-01-06T14:36:12.137Z"
   },
   {
    "duration": 5,
    "start_time": "2025-01-06T14:36:12.143Z"
   },
   {
    "duration": 25,
    "start_time": "2025-01-06T14:36:12.149Z"
   },
   {
    "duration": 227,
    "start_time": "2025-01-06T14:36:12.175Z"
   },
   {
    "duration": 5,
    "start_time": "2025-01-06T14:36:12.404Z"
   },
   {
    "duration": 20,
    "start_time": "2025-01-06T14:36:12.411Z"
   },
   {
    "duration": 9,
    "start_time": "2025-01-06T14:36:12.432Z"
   },
   {
    "duration": 11,
    "start_time": "2025-01-06T14:36:12.443Z"
   },
   {
    "duration": 172,
    "start_time": "2025-01-06T14:36:12.455Z"
   },
   {
    "duration": 10,
    "start_time": "2025-01-06T14:36:12.628Z"
   },
   {
    "duration": 154,
    "start_time": "2025-01-06T14:36:12.640Z"
   },
   {
    "duration": 8,
    "start_time": "2025-01-06T14:36:12.796Z"
   },
   {
    "duration": 150,
    "start_time": "2025-01-06T14:36:12.806Z"
   },
   {
    "duration": 8,
    "start_time": "2025-01-06T14:36:12.958Z"
   },
   {
    "duration": 212,
    "start_time": "2025-01-06T14:36:12.967Z"
   },
   {
    "duration": 8,
    "start_time": "2025-01-06T14:36:13.181Z"
   },
   {
    "duration": 167,
    "start_time": "2025-01-06T14:36:13.190Z"
   },
   {
    "duration": 11,
    "start_time": "2025-01-06T14:36:13.359Z"
   },
   {
    "duration": 97,
    "start_time": "2025-01-06T14:36:13.372Z"
   },
   {
    "duration": 6,
    "start_time": "2025-01-06T14:36:13.470Z"
   },
   {
    "duration": 11,
    "start_time": "2025-01-06T14:36:13.478Z"
   },
   {
    "duration": 10,
    "start_time": "2025-01-06T14:36:13.494Z"
   },
   {
    "duration": 22,
    "start_time": "2025-01-06T14:36:13.505Z"
   },
   {
    "duration": 3,
    "start_time": "2025-01-06T14:36:13.528Z"
   },
   {
    "duration": 4,
    "start_time": "2025-01-06T14:36:13.532Z"
   },
   {
    "duration": 5,
    "start_time": "2025-01-06T14:36:13.539Z"
   },
   {
    "duration": 4,
    "start_time": "2025-01-06T14:36:13.545Z"
   },
   {
    "duration": 4,
    "start_time": "2025-01-06T14:36:13.551Z"
   },
   {
    "duration": 9,
    "start_time": "2025-01-06T14:36:13.557Z"
   },
   {
    "duration": 196,
    "start_time": "2025-01-06T14:36:13.567Z"
   },
   {
    "duration": 115,
    "start_time": "2025-01-06T14:36:13.765Z"
   },
   {
    "duration": 6,
    "start_time": "2025-01-06T14:36:13.881Z"
   },
   {
    "duration": 10,
    "start_time": "2025-01-06T14:36:13.888Z"
   },
   {
    "duration": 7,
    "start_time": "2025-01-06T14:36:13.900Z"
   },
   {
    "duration": 186,
    "start_time": "2025-01-06T14:36:13.924Z"
   },
   {
    "duration": 14,
    "start_time": "2025-01-06T14:36:14.112Z"
   },
   {
    "duration": 10,
    "start_time": "2025-01-06T14:36:14.128Z"
   },
   {
    "duration": 10,
    "start_time": "2025-01-06T14:36:14.139Z"
   },
   {
    "duration": 7,
    "start_time": "2025-01-06T14:36:14.151Z"
   },
   {
    "duration": 4,
    "start_time": "2025-01-06T14:36:14.159Z"
   },
   {
    "duration": 5,
    "start_time": "2025-01-06T14:36:14.164Z"
   },
   {
    "duration": 5,
    "start_time": "2025-01-06T14:36:14.171Z"
   },
   {
    "duration": 275,
    "start_time": "2025-01-06T14:36:14.178Z"
   },
   {
    "duration": 9,
    "start_time": "2025-01-06T14:36:14.455Z"
   },
   {
    "duration": 4,
    "start_time": "2025-01-06T14:36:14.466Z"
   },
   {
    "duration": 11,
    "start_time": "2025-01-06T14:36:14.472Z"
   },
   {
    "duration": 4,
    "start_time": "2025-01-06T14:36:14.485Z"
   }
  ],
  "kernelspec": {
   "display_name": "Python 3 (ipykernel)",
   "language": "python",
   "name": "python3"
  },
  "language_info": {
   "codemirror_mode": {
    "name": "ipython",
    "version": 3
   },
   "file_extension": ".py",
   "mimetype": "text/x-python",
   "name": "python",
   "nbconvert_exporter": "python",
   "pygments_lexer": "ipython3",
   "version": "3.9.19"
  },
  "toc": {
   "base_numbering": 1,
   "nav_menu": {},
   "number_sections": true,
   "sideBar": true,
   "skip_h1_title": true,
   "title_cell": "Table of Contents",
   "title_sidebar": "Contents",
   "toc_cell": false,
   "toc_position": {},
   "toc_section_display": true,
   "toc_window_display": false
  }
 },
 "nbformat": 4,
 "nbformat_minor": 2
}
